{
 "cells": [
  {
   "cell_type": "markdown",
   "metadata": {},
   "source": [
    "TODO\n",
    "\n",
    "* [ ] Basic overview of data\n",
    "* [ ] Compare training data with test data\n",
    "* [ ] Determine proportion of fraud / not fraud in train set\n",
    "* [ ] Explore distributions of values and missing values for most columns\n",
    "* [ ] Determine information content of a few variables given label\n",
    "* [ ] Compare distributions of variables for fraud versus not fraud in train\n",
    "* [ ] Determine correlations of colums (pair-wise or more) with fraud\n",
    "* [ ] Explore transaction amounts and their correlation with fraud\n",
    "* [ ] Compare time delta between train and test set\n",
    "* [ ] Types of credit cards, devices\n",
    "* [ ] Explore product codes and their correlation with fraud\n",
    "* [ ] Create a dictionary of columns (device type, type of card, credit card company, etc.)\n",
    "* [ ] Try some techniques to rank feature importance\n",
    "* [ ] Try to build some basic decision trees for individual, pairs, groups of features\n",
    "* [ ] Try to build a manual model that applies heuristics to some column values to determine fraud based on your analysis\n",
    "* [ ] Try computing z-scores on `TransactionAmt` and see if you can detect strong outliers\n",
    "* [ ] Maybe turn this into a timeseries and see if you can detect anomalies\n",
    "* [ ] Consider getting rid of columns that have largely NaN values\n",
    "\n",
    "```python\n",
    "many_null_cols = [col for col in train.columns if train[col].isnull().sum() / train.shape[0] > 0.9]\n",
    "many_null_cols_test = [col for col in test.columns if test[col].isnull().sum() / test.shape[0] > 0.9]\n",
    "```"
   ]
  },
  {
   "cell_type": "code",
   "execution_count": 1,
   "metadata": {},
   "outputs": [
    {
     "name": "stdout",
     "output_type": "stream",
     "text": [
      "/anaconda3/envs/py362scipy/bin/python\n"
     ]
    }
   ],
   "source": [
    "import sys\n",
    "print(sys.executable)"
   ]
  },
  {
   "cell_type": "code",
   "execution_count": 2,
   "metadata": {},
   "outputs": [
    {
     "name": "stdout",
     "output_type": "stream",
     "text": [
      "data/test_transaction.csv\n",
      "data/train_identity.csv\n",
      "data/datasource.txt\n",
      "data/ieee-fraud-detection.zip\n",
      "data/test_identity.csv\n",
      "data/sample_submission.csv\n",
      "data/train_transaction.csv\n"
     ]
    }
   ],
   "source": [
    "import numpy as np\n",
    "import pandas as pd\n",
    "import matplotlib.pyplot as plt\n",
    "import seaborn as sns\n",
    "\n",
    "import os\n",
    "for dirname, _, filenames in os.walk('data'):\n",
    "    for filename in filenames:\n",
    "        print(os.path.join(dirname, filename))"
   ]
  },
  {
   "cell_type": "markdown",
   "metadata": {},
   "source": [
    "# Overview of data"
   ]
  },
  {
   "cell_type": "code",
   "execution_count": 3,
   "metadata": {},
   "outputs": [],
   "source": [
    "input_path = \"data\"\n",
    "train_identity = pd.read_csv(f\"{input_path}/train_identity.csv\")\n",
    "train_transaction = pd.read_csv(f\"{input_path}/train_transaction.csv\")\n",
    "test_identity = pd.read_csv(f\"{input_path}/test_identity.csv\")\n",
    "test_transaction = pd.read_csv(f\"{input_path}/test_transaction.csv\")"
   ]
  },
  {
   "cell_type": "code",
   "execution_count": 5,
   "metadata": {},
   "outputs": [
    {
     "data": {
      "text/html": [
       "<div>\n",
       "<style scoped>\n",
       "    .dataframe tbody tr th:only-of-type {\n",
       "        vertical-align: middle;\n",
       "    }\n",
       "\n",
       "    .dataframe tbody tr th {\n",
       "        vertical-align: top;\n",
       "    }\n",
       "\n",
       "    .dataframe thead th {\n",
       "        text-align: right;\n",
       "    }\n",
       "</style>\n",
       "<table border=\"1\" class=\"dataframe\">\n",
       "  <thead>\n",
       "    <tr style=\"text-align: right;\">\n",
       "      <th></th>\n",
       "      <th>TransactionID</th>\n",
       "      <th>id_01</th>\n",
       "      <th>id_02</th>\n",
       "      <th>id_03</th>\n",
       "      <th>id_04</th>\n",
       "      <th>id_05</th>\n",
       "      <th>id_06</th>\n",
       "      <th>id_07</th>\n",
       "      <th>id_08</th>\n",
       "      <th>id_09</th>\n",
       "      <th>...</th>\n",
       "      <th>id_31</th>\n",
       "      <th>id_32</th>\n",
       "      <th>id_33</th>\n",
       "      <th>id_34</th>\n",
       "      <th>id_35</th>\n",
       "      <th>id_36</th>\n",
       "      <th>id_37</th>\n",
       "      <th>id_38</th>\n",
       "      <th>DeviceType</th>\n",
       "      <th>DeviceInfo</th>\n",
       "    </tr>\n",
       "  </thead>\n",
       "  <tbody>\n",
       "    <tr>\n",
       "      <th>8522</th>\n",
       "      <td>3017386</td>\n",
       "      <td>-5.0</td>\n",
       "      <td>9086.0</td>\n",
       "      <td>0.0</td>\n",
       "      <td>0.0</td>\n",
       "      <td>0.0</td>\n",
       "      <td>0.0</td>\n",
       "      <td>NaN</td>\n",
       "      <td>NaN</td>\n",
       "      <td>0.0</td>\n",
       "      <td>...</td>\n",
       "      <td>firefox 57.0</td>\n",
       "      <td>24.0</td>\n",
       "      <td>1920x1080</td>\n",
       "      <td>match_status:2</td>\n",
       "      <td>T</td>\n",
       "      <td>F</td>\n",
       "      <td>T</td>\n",
       "      <td>T</td>\n",
       "      <td>desktop</td>\n",
       "      <td>Windows</td>\n",
       "    </tr>\n",
       "    <tr>\n",
       "      <th>21508</th>\n",
       "      <td>3048869</td>\n",
       "      <td>-5.0</td>\n",
       "      <td>23596.0</td>\n",
       "      <td>0.0</td>\n",
       "      <td>0.0</td>\n",
       "      <td>0.0</td>\n",
       "      <td>0.0</td>\n",
       "      <td>NaN</td>\n",
       "      <td>NaN</td>\n",
       "      <td>0.0</td>\n",
       "      <td>...</td>\n",
       "      <td>chrome 63.0</td>\n",
       "      <td>24.0</td>\n",
       "      <td>1920x1200</td>\n",
       "      <td>match_status:2</td>\n",
       "      <td>T</td>\n",
       "      <td>F</td>\n",
       "      <td>T</td>\n",
       "      <td>T</td>\n",
       "      <td>desktop</td>\n",
       "      <td>Windows</td>\n",
       "    </tr>\n",
       "    <tr>\n",
       "      <th>40166</th>\n",
       "      <td>3084528</td>\n",
       "      <td>-5.0</td>\n",
       "      <td>103691.0</td>\n",
       "      <td>0.0</td>\n",
       "      <td>0.0</td>\n",
       "      <td>0.0</td>\n",
       "      <td>0.0</td>\n",
       "      <td>NaN</td>\n",
       "      <td>NaN</td>\n",
       "      <td>0.0</td>\n",
       "      <td>...</td>\n",
       "      <td>chrome 63.0</td>\n",
       "      <td>NaN</td>\n",
       "      <td>NaN</td>\n",
       "      <td>NaN</td>\n",
       "      <td>F</td>\n",
       "      <td>F</td>\n",
       "      <td>T</td>\n",
       "      <td>T</td>\n",
       "      <td>desktop</td>\n",
       "      <td>Windows</td>\n",
       "    </tr>\n",
       "    <tr>\n",
       "      <th>77157</th>\n",
       "      <td>3226734</td>\n",
       "      <td>-5.0</td>\n",
       "      <td>42548.0</td>\n",
       "      <td>0.0</td>\n",
       "      <td>0.0</td>\n",
       "      <td>0.0</td>\n",
       "      <td>0.0</td>\n",
       "      <td>NaN</td>\n",
       "      <td>NaN</td>\n",
       "      <td>0.0</td>\n",
       "      <td>...</td>\n",
       "      <td>chrome 63.0</td>\n",
       "      <td>24.0</td>\n",
       "      <td>1920x1080</td>\n",
       "      <td>match_status:2</td>\n",
       "      <td>T</td>\n",
       "      <td>F</td>\n",
       "      <td>T</td>\n",
       "      <td>F</td>\n",
       "      <td>desktop</td>\n",
       "      <td>Windows</td>\n",
       "    </tr>\n",
       "    <tr>\n",
       "      <th>144002</th>\n",
       "      <td>3576243</td>\n",
       "      <td>-5.0</td>\n",
       "      <td>332367.0</td>\n",
       "      <td>NaN</td>\n",
       "      <td>NaN</td>\n",
       "      <td>1.0</td>\n",
       "      <td>0.0</td>\n",
       "      <td>NaN</td>\n",
       "      <td>NaN</td>\n",
       "      <td>NaN</td>\n",
       "      <td>...</td>\n",
       "      <td>firefox</td>\n",
       "      <td>NaN</td>\n",
       "      <td>NaN</td>\n",
       "      <td>NaN</td>\n",
       "      <td>F</td>\n",
       "      <td>F</td>\n",
       "      <td>T</td>\n",
       "      <td>F</td>\n",
       "      <td>mobile</td>\n",
       "      <td>rv:60.0</td>\n",
       "    </tr>\n",
       "  </tbody>\n",
       "</table>\n",
       "<p>5 rows × 41 columns</p>\n",
       "</div>"
      ],
      "text/plain": [
       "        TransactionID  id_01     id_02  id_03  id_04  id_05  id_06  id_07  \\\n",
       "8522          3017386   -5.0    9086.0    0.0    0.0    0.0    0.0    NaN   \n",
       "21508         3048869   -5.0   23596.0    0.0    0.0    0.0    0.0    NaN   \n",
       "40166         3084528   -5.0  103691.0    0.0    0.0    0.0    0.0    NaN   \n",
       "77157         3226734   -5.0   42548.0    0.0    0.0    0.0    0.0    NaN   \n",
       "144002        3576243   -5.0  332367.0    NaN    NaN    1.0    0.0    NaN   \n",
       "\n",
       "        id_08  id_09     ...             id_31  id_32      id_33  \\\n",
       "8522      NaN    0.0     ...      firefox 57.0   24.0  1920x1080   \n",
       "21508     NaN    0.0     ...       chrome 63.0   24.0  1920x1200   \n",
       "40166     NaN    0.0     ...       chrome 63.0    NaN        NaN   \n",
       "77157     NaN    0.0     ...       chrome 63.0   24.0  1920x1080   \n",
       "144002    NaN    NaN     ...           firefox    NaN        NaN   \n",
       "\n",
       "                 id_34  id_35 id_36 id_37  id_38  DeviceType  DeviceInfo  \n",
       "8522    match_status:2      T     F     T      T     desktop     Windows  \n",
       "21508   match_status:2      T     F     T      T     desktop     Windows  \n",
       "40166              NaN      F     F     T      T     desktop     Windows  \n",
       "77157   match_status:2      T     F     T      F     desktop     Windows  \n",
       "144002             NaN      F     F     T      F      mobile     rv:60.0  \n",
       "\n",
       "[5 rows x 41 columns]"
      ]
     },
     "execution_count": 5,
     "metadata": {},
     "output_type": "execute_result"
    }
   ],
   "source": [
    "train_identity.sample(5)"
   ]
  },
  {
   "cell_type": "markdown",
   "metadata": {},
   "source": [
    "Large number of anonymised column names. For many of the columns, it is not clear what data they represent. Some columns do make sense. For example:\n",
    "* `id_31`: browser\n",
    "* `id_33`: screen resolution\n",
    "* `id_35` to `id_38` looks like a bunch of Booleans, but don't know what they represent.\n",
    "\n",
    "Some values appear to be continuous-valued, others are categorical. Need to think whether there is a way to automatically estimate which columns represent continuous or categorical values (think about proportion of unique values per column). "
   ]
  },
  {
   "cell_type": "code",
   "execution_count": 6,
   "metadata": {},
   "outputs": [
    {
     "data": {
      "text/html": [
       "<div>\n",
       "<style scoped>\n",
       "    .dataframe tbody tr th:only-of-type {\n",
       "        vertical-align: middle;\n",
       "    }\n",
       "\n",
       "    .dataframe tbody tr th {\n",
       "        vertical-align: top;\n",
       "    }\n",
       "\n",
       "    .dataframe thead th {\n",
       "        text-align: right;\n",
       "    }\n",
       "</style>\n",
       "<table border=\"1\" class=\"dataframe\">\n",
       "  <thead>\n",
       "    <tr style=\"text-align: right;\">\n",
       "      <th></th>\n",
       "      <th>TransactionID</th>\n",
       "      <th>isFraud</th>\n",
       "      <th>TransactionDT</th>\n",
       "      <th>TransactionAmt</th>\n",
       "      <th>ProductCD</th>\n",
       "      <th>card1</th>\n",
       "      <th>card2</th>\n",
       "      <th>card3</th>\n",
       "      <th>card4</th>\n",
       "      <th>card5</th>\n",
       "      <th>...</th>\n",
       "      <th>V330</th>\n",
       "      <th>V331</th>\n",
       "      <th>V332</th>\n",
       "      <th>V333</th>\n",
       "      <th>V334</th>\n",
       "      <th>V335</th>\n",
       "      <th>V336</th>\n",
       "      <th>V337</th>\n",
       "      <th>V338</th>\n",
       "      <th>V339</th>\n",
       "    </tr>\n",
       "  </thead>\n",
       "  <tbody>\n",
       "    <tr>\n",
       "      <th>11153</th>\n",
       "      <td>2998153</td>\n",
       "      <td>0</td>\n",
       "      <td>332610</td>\n",
       "      <td>100.00</td>\n",
       "      <td>W</td>\n",
       "      <td>11207</td>\n",
       "      <td>361.0</td>\n",
       "      <td>150.0</td>\n",
       "      <td>visa</td>\n",
       "      <td>226.0</td>\n",
       "      <td>...</td>\n",
       "      <td>NaN</td>\n",
       "      <td>NaN</td>\n",
       "      <td>NaN</td>\n",
       "      <td>NaN</td>\n",
       "      <td>NaN</td>\n",
       "      <td>NaN</td>\n",
       "      <td>NaN</td>\n",
       "      <td>NaN</td>\n",
       "      <td>NaN</td>\n",
       "      <td>NaN</td>\n",
       "    </tr>\n",
       "    <tr>\n",
       "      <th>525958</th>\n",
       "      <td>3512958</td>\n",
       "      <td>0</td>\n",
       "      <td>13821782</td>\n",
       "      <td>160.50</td>\n",
       "      <td>W</td>\n",
       "      <td>16075</td>\n",
       "      <td>NaN</td>\n",
       "      <td>NaN</td>\n",
       "      <td>NaN</td>\n",
       "      <td>NaN</td>\n",
       "      <td>...</td>\n",
       "      <td>NaN</td>\n",
       "      <td>NaN</td>\n",
       "      <td>NaN</td>\n",
       "      <td>NaN</td>\n",
       "      <td>NaN</td>\n",
       "      <td>NaN</td>\n",
       "      <td>NaN</td>\n",
       "      <td>NaN</td>\n",
       "      <td>NaN</td>\n",
       "      <td>NaN</td>\n",
       "    </tr>\n",
       "    <tr>\n",
       "      <th>53525</th>\n",
       "      <td>3040525</td>\n",
       "      <td>0</td>\n",
       "      <td>1266475</td>\n",
       "      <td>36.95</td>\n",
       "      <td>W</td>\n",
       "      <td>9680</td>\n",
       "      <td>111.0</td>\n",
       "      <td>150.0</td>\n",
       "      <td>visa</td>\n",
       "      <td>226.0</td>\n",
       "      <td>...</td>\n",
       "      <td>NaN</td>\n",
       "      <td>NaN</td>\n",
       "      <td>NaN</td>\n",
       "      <td>NaN</td>\n",
       "      <td>NaN</td>\n",
       "      <td>NaN</td>\n",
       "      <td>NaN</td>\n",
       "      <td>NaN</td>\n",
       "      <td>NaN</td>\n",
       "      <td>NaN</td>\n",
       "    </tr>\n",
       "    <tr>\n",
       "      <th>121897</th>\n",
       "      <td>3108897</td>\n",
       "      <td>0</td>\n",
       "      <td>2398714</td>\n",
       "      <td>34.00</td>\n",
       "      <td>W</td>\n",
       "      <td>15066</td>\n",
       "      <td>170.0</td>\n",
       "      <td>150.0</td>\n",
       "      <td>mastercard</td>\n",
       "      <td>102.0</td>\n",
       "      <td>...</td>\n",
       "      <td>NaN</td>\n",
       "      <td>NaN</td>\n",
       "      <td>NaN</td>\n",
       "      <td>NaN</td>\n",
       "      <td>NaN</td>\n",
       "      <td>NaN</td>\n",
       "      <td>NaN</td>\n",
       "      <td>NaN</td>\n",
       "      <td>NaN</td>\n",
       "      <td>NaN</td>\n",
       "    </tr>\n",
       "    <tr>\n",
       "      <th>569701</th>\n",
       "      <td>3556701</td>\n",
       "      <td>0</td>\n",
       "      <td>15111355</td>\n",
       "      <td>79.95</td>\n",
       "      <td>W</td>\n",
       "      <td>9500</td>\n",
       "      <td>321.0</td>\n",
       "      <td>150.0</td>\n",
       "      <td>visa</td>\n",
       "      <td>226.0</td>\n",
       "      <td>...</td>\n",
       "      <td>NaN</td>\n",
       "      <td>NaN</td>\n",
       "      <td>NaN</td>\n",
       "      <td>NaN</td>\n",
       "      <td>NaN</td>\n",
       "      <td>NaN</td>\n",
       "      <td>NaN</td>\n",
       "      <td>NaN</td>\n",
       "      <td>NaN</td>\n",
       "      <td>NaN</td>\n",
       "    </tr>\n",
       "  </tbody>\n",
       "</table>\n",
       "<p>5 rows × 394 columns</p>\n",
       "</div>"
      ],
      "text/plain": [
       "        TransactionID  isFraud  TransactionDT  TransactionAmt ProductCD  \\\n",
       "11153         2998153        0         332610          100.00         W   \n",
       "525958        3512958        0       13821782          160.50         W   \n",
       "53525         3040525        0        1266475           36.95         W   \n",
       "121897        3108897        0        2398714           34.00         W   \n",
       "569701        3556701        0       15111355           79.95         W   \n",
       "\n",
       "        card1  card2  card3       card4  card5  ...  V330  V331  V332  V333  \\\n",
       "11153   11207  361.0  150.0        visa  226.0  ...   NaN   NaN   NaN   NaN   \n",
       "525958  16075    NaN    NaN         NaN    NaN  ...   NaN   NaN   NaN   NaN   \n",
       "53525    9680  111.0  150.0        visa  226.0  ...   NaN   NaN   NaN   NaN   \n",
       "121897  15066  170.0  150.0  mastercard  102.0  ...   NaN   NaN   NaN   NaN   \n",
       "569701   9500  321.0  150.0        visa  226.0  ...   NaN   NaN   NaN   NaN   \n",
       "\n",
       "        V334 V335 V336  V337  V338  V339  \n",
       "11153    NaN  NaN  NaN   NaN   NaN   NaN  \n",
       "525958   NaN  NaN  NaN   NaN   NaN   NaN  \n",
       "53525    NaN  NaN  NaN   NaN   NaN   NaN  \n",
       "121897   NaN  NaN  NaN   NaN   NaN   NaN  \n",
       "569701   NaN  NaN  NaN   NaN   NaN   NaN  \n",
       "\n",
       "[5 rows x 394 columns]"
      ]
     },
     "execution_count": 6,
     "metadata": {},
     "output_type": "execute_result"
    }
   ],
   "source": [
    "train_transaction.sample(5)"
   ]
  },
  {
   "cell_type": "markdown",
   "metadata": {},
   "source": [
    "Large number of `Vnnn` columns. What do the various `card` columns represent? "
   ]
  },
  {
   "cell_type": "code",
   "execution_count": 7,
   "metadata": {},
   "outputs": [
    {
     "data": {
      "text/plain": [
       "(144233, 41)"
      ]
     },
     "execution_count": 7,
     "metadata": {},
     "output_type": "execute_result"
    }
   ],
   "source": [
    "train_identity.shape"
   ]
  },
  {
   "cell_type": "code",
   "execution_count": 8,
   "metadata": {},
   "outputs": [
    {
     "data": {
      "text/plain": [
       "(590540, 394)"
      ]
     },
     "execution_count": 8,
     "metadata": {},
     "output_type": "execute_result"
    }
   ],
   "source": [
    "train_transaction.shape"
   ]
  },
  {
   "cell_type": "markdown",
   "metadata": {},
   "source": [
    "Approximately four times more rows in `train_transaction` than in `train_identity`."
   ]
  },
  {
   "cell_type": "code",
   "execution_count": 9,
   "metadata": {},
   "outputs": [
    {
     "data": {
      "text/plain": [
       "TransactionID      int64\n",
       "id_01            float64\n",
       "id_02            float64\n",
       "id_03            float64\n",
       "id_04            float64\n",
       "id_05            float64\n",
       "id_06            float64\n",
       "id_07            float64\n",
       "id_08            float64\n",
       "id_09            float64\n",
       "id_10            float64\n",
       "id_11            float64\n",
       "id_12             object\n",
       "id_13            float64\n",
       "id_14            float64\n",
       "id_15             object\n",
       "id_16             object\n",
       "id_17            float64\n",
       "id_18            float64\n",
       "id_19            float64\n",
       "id_20            float64\n",
       "id_21            float64\n",
       "id_22            float64\n",
       "id_23             object\n",
       "id_24            float64\n",
       "id_25            float64\n",
       "id_26            float64\n",
       "id_27             object\n",
       "id_28             object\n",
       "id_29             object\n",
       "id_30             object\n",
       "id_31             object\n",
       "id_32            float64\n",
       "id_33             object\n",
       "id_34             object\n",
       "id_35             object\n",
       "id_36             object\n",
       "id_37             object\n",
       "id_38             object\n",
       "DeviceType        object\n",
       "DeviceInfo        object\n",
       "dtype: object"
      ]
     },
     "execution_count": 9,
     "metadata": {},
     "output_type": "execute_result"
    }
   ],
   "source": [
    "train_identity.dtypes"
   ]
  },
  {
   "cell_type": "code",
   "execution_count": 10,
   "metadata": {},
   "outputs": [
    {
     "data": {
      "text/plain": [
       "TransactionID       int64\n",
       "isFraud             int64\n",
       "TransactionDT       int64\n",
       "TransactionAmt    float64\n",
       "ProductCD          object\n",
       "card1               int64\n",
       "card2             float64\n",
       "card3             float64\n",
       "card4              object\n",
       "card5             float64\n",
       "card6              object\n",
       "addr1             float64\n",
       "addr2             float64\n",
       "dist1             float64\n",
       "dist2             float64\n",
       "P_emaildomain      object\n",
       "R_emaildomain      object\n",
       "C1                float64\n",
       "C2                float64\n",
       "C3                float64\n",
       "C4                float64\n",
       "C5                float64\n",
       "C6                float64\n",
       "C7                float64\n",
       "C8                float64\n",
       "C9                float64\n",
       "C10               float64\n",
       "C11               float64\n",
       "C12               float64\n",
       "C13               float64\n",
       "                   ...   \n",
       "V310              float64\n",
       "V311              float64\n",
       "V312              float64\n",
       "V313              float64\n",
       "V314              float64\n",
       "V315              float64\n",
       "V316              float64\n",
       "V317              float64\n",
       "V318              float64\n",
       "V319              float64\n",
       "V320              float64\n",
       "V321              float64\n",
       "V322              float64\n",
       "V323              float64\n",
       "V324              float64\n",
       "V325              float64\n",
       "V326              float64\n",
       "V327              float64\n",
       "V328              float64\n",
       "V329              float64\n",
       "V330              float64\n",
       "V331              float64\n",
       "V332              float64\n",
       "V333              float64\n",
       "V334              float64\n",
       "V335              float64\n",
       "V336              float64\n",
       "V337              float64\n",
       "V338              float64\n",
       "V339              float64\n",
       "Length: 394, dtype: object"
      ]
     },
     "execution_count": 10,
     "metadata": {},
     "output_type": "execute_result"
    }
   ],
   "source": [
    "train_transaction.dtypes"
   ]
  },
  {
   "cell_type": "markdown",
   "metadata": {},
   "source": [
    "Looks like the `V` columns in `train_transaction` are supposed to be numeric."
   ]
  },
  {
   "cell_type": "markdown",
   "metadata": {},
   "source": [
    "# Data exploration"
   ]
  },
  {
   "cell_type": "code",
   "execution_count": 11,
   "metadata": {},
   "outputs": [
    {
     "data": {
      "text/html": [
       "<div>\n",
       "<style scoped>\n",
       "    .dataframe tbody tr th:only-of-type {\n",
       "        vertical-align: middle;\n",
       "    }\n",
       "\n",
       "    .dataframe tbody tr th {\n",
       "        vertical-align: top;\n",
       "    }\n",
       "\n",
       "    .dataframe thead th {\n",
       "        text-align: right;\n",
       "    }\n",
       "</style>\n",
       "<table border=\"1\" class=\"dataframe\">\n",
       "  <thead>\n",
       "    <tr style=\"text-align: right;\">\n",
       "      <th></th>\n",
       "      <th>TransactionID</th>\n",
       "      <th>id_01</th>\n",
       "      <th>id_02</th>\n",
       "      <th>id_03</th>\n",
       "      <th>id_04</th>\n",
       "      <th>id_05</th>\n",
       "      <th>id_06</th>\n",
       "      <th>id_07</th>\n",
       "      <th>id_08</th>\n",
       "      <th>id_09</th>\n",
       "      <th>...</th>\n",
       "      <th>id_17</th>\n",
       "      <th>id_18</th>\n",
       "      <th>id_19</th>\n",
       "      <th>id_20</th>\n",
       "      <th>id_21</th>\n",
       "      <th>id_22</th>\n",
       "      <th>id_24</th>\n",
       "      <th>id_25</th>\n",
       "      <th>id_26</th>\n",
       "      <th>id_32</th>\n",
       "    </tr>\n",
       "  </thead>\n",
       "  <tbody>\n",
       "    <tr>\n",
       "      <th>count</th>\n",
       "      <td>1.442330e+05</td>\n",
       "      <td>144233.000000</td>\n",
       "      <td>140872.000000</td>\n",
       "      <td>66324.000000</td>\n",
       "      <td>66324.000000</td>\n",
       "      <td>136865.000000</td>\n",
       "      <td>136865.000000</td>\n",
       "      <td>5155.000000</td>\n",
       "      <td>5155.000000</td>\n",
       "      <td>74926.000000</td>\n",
       "      <td>...</td>\n",
       "      <td>139369.000000</td>\n",
       "      <td>45113.000000</td>\n",
       "      <td>139318.000000</td>\n",
       "      <td>139261.000000</td>\n",
       "      <td>5159.000000</td>\n",
       "      <td>5169.000000</td>\n",
       "      <td>4747.000000</td>\n",
       "      <td>5132.000000</td>\n",
       "      <td>5163.000000</td>\n",
       "      <td>77586.000000</td>\n",
       "    </tr>\n",
       "    <tr>\n",
       "      <th>mean</th>\n",
       "      <td>3.236329e+06</td>\n",
       "      <td>-10.170502</td>\n",
       "      <td>174716.584708</td>\n",
       "      <td>0.060189</td>\n",
       "      <td>-0.058938</td>\n",
       "      <td>1.615585</td>\n",
       "      <td>-6.698710</td>\n",
       "      <td>13.285354</td>\n",
       "      <td>-38.600388</td>\n",
       "      <td>0.091023</td>\n",
       "      <td>...</td>\n",
       "      <td>189.451377</td>\n",
       "      <td>14.237337</td>\n",
       "      <td>353.128174</td>\n",
       "      <td>403.882666</td>\n",
       "      <td>368.269820</td>\n",
       "      <td>16.002708</td>\n",
       "      <td>12.800927</td>\n",
       "      <td>329.608924</td>\n",
       "      <td>149.070308</td>\n",
       "      <td>26.508597</td>\n",
       "    </tr>\n",
       "    <tr>\n",
       "      <th>std</th>\n",
       "      <td>1.788496e+05</td>\n",
       "      <td>14.347949</td>\n",
       "      <td>159651.816856</td>\n",
       "      <td>0.598231</td>\n",
       "      <td>0.701015</td>\n",
       "      <td>5.249856</td>\n",
       "      <td>16.491104</td>\n",
       "      <td>11.384207</td>\n",
       "      <td>26.084899</td>\n",
       "      <td>0.983842</td>\n",
       "      <td>...</td>\n",
       "      <td>30.375360</td>\n",
       "      <td>1.561302</td>\n",
       "      <td>141.095343</td>\n",
       "      <td>152.160327</td>\n",
       "      <td>198.847038</td>\n",
       "      <td>6.897665</td>\n",
       "      <td>2.372447</td>\n",
       "      <td>97.461089</td>\n",
       "      <td>32.101995</td>\n",
       "      <td>3.737502</td>\n",
       "    </tr>\n",
       "    <tr>\n",
       "      <th>min</th>\n",
       "      <td>2.987004e+06</td>\n",
       "      <td>-100.000000</td>\n",
       "      <td>1.000000</td>\n",
       "      <td>-13.000000</td>\n",
       "      <td>-28.000000</td>\n",
       "      <td>-72.000000</td>\n",
       "      <td>-100.000000</td>\n",
       "      <td>-46.000000</td>\n",
       "      <td>-100.000000</td>\n",
       "      <td>-36.000000</td>\n",
       "      <td>...</td>\n",
       "      <td>100.000000</td>\n",
       "      <td>10.000000</td>\n",
       "      <td>100.000000</td>\n",
       "      <td>100.000000</td>\n",
       "      <td>100.000000</td>\n",
       "      <td>10.000000</td>\n",
       "      <td>11.000000</td>\n",
       "      <td>100.000000</td>\n",
       "      <td>100.000000</td>\n",
       "      <td>0.000000</td>\n",
       "    </tr>\n",
       "    <tr>\n",
       "      <th>25%</th>\n",
       "      <td>3.077142e+06</td>\n",
       "      <td>-10.000000</td>\n",
       "      <td>67992.000000</td>\n",
       "      <td>0.000000</td>\n",
       "      <td>0.000000</td>\n",
       "      <td>0.000000</td>\n",
       "      <td>-6.000000</td>\n",
       "      <td>5.000000</td>\n",
       "      <td>-48.000000</td>\n",
       "      <td>0.000000</td>\n",
       "      <td>...</td>\n",
       "      <td>166.000000</td>\n",
       "      <td>13.000000</td>\n",
       "      <td>266.000000</td>\n",
       "      <td>256.000000</td>\n",
       "      <td>252.000000</td>\n",
       "      <td>14.000000</td>\n",
       "      <td>11.000000</td>\n",
       "      <td>321.000000</td>\n",
       "      <td>119.000000</td>\n",
       "      <td>24.000000</td>\n",
       "    </tr>\n",
       "    <tr>\n",
       "      <th>50%</th>\n",
       "      <td>3.198818e+06</td>\n",
       "      <td>-5.000000</td>\n",
       "      <td>125800.500000</td>\n",
       "      <td>0.000000</td>\n",
       "      <td>0.000000</td>\n",
       "      <td>0.000000</td>\n",
       "      <td>0.000000</td>\n",
       "      <td>14.000000</td>\n",
       "      <td>-34.000000</td>\n",
       "      <td>0.000000</td>\n",
       "      <td>...</td>\n",
       "      <td>166.000000</td>\n",
       "      <td>15.000000</td>\n",
       "      <td>341.000000</td>\n",
       "      <td>472.000000</td>\n",
       "      <td>252.000000</td>\n",
       "      <td>14.000000</td>\n",
       "      <td>11.000000</td>\n",
       "      <td>321.000000</td>\n",
       "      <td>149.000000</td>\n",
       "      <td>24.000000</td>\n",
       "    </tr>\n",
       "    <tr>\n",
       "      <th>75%</th>\n",
       "      <td>3.392923e+06</td>\n",
       "      <td>-5.000000</td>\n",
       "      <td>228749.000000</td>\n",
       "      <td>0.000000</td>\n",
       "      <td>0.000000</td>\n",
       "      <td>1.000000</td>\n",
       "      <td>0.000000</td>\n",
       "      <td>22.000000</td>\n",
       "      <td>-23.000000</td>\n",
       "      <td>0.000000</td>\n",
       "      <td>...</td>\n",
       "      <td>225.000000</td>\n",
       "      <td>15.000000</td>\n",
       "      <td>427.000000</td>\n",
       "      <td>533.000000</td>\n",
       "      <td>486.500000</td>\n",
       "      <td>14.000000</td>\n",
       "      <td>15.000000</td>\n",
       "      <td>371.000000</td>\n",
       "      <td>169.000000</td>\n",
       "      <td>32.000000</td>\n",
       "    </tr>\n",
       "    <tr>\n",
       "      <th>max</th>\n",
       "      <td>3.577534e+06</td>\n",
       "      <td>0.000000</td>\n",
       "      <td>999595.000000</td>\n",
       "      <td>10.000000</td>\n",
       "      <td>0.000000</td>\n",
       "      <td>52.000000</td>\n",
       "      <td>0.000000</td>\n",
       "      <td>61.000000</td>\n",
       "      <td>0.000000</td>\n",
       "      <td>25.000000</td>\n",
       "      <td>...</td>\n",
       "      <td>229.000000</td>\n",
       "      <td>29.000000</td>\n",
       "      <td>671.000000</td>\n",
       "      <td>661.000000</td>\n",
       "      <td>854.000000</td>\n",
       "      <td>44.000000</td>\n",
       "      <td>26.000000</td>\n",
       "      <td>548.000000</td>\n",
       "      <td>216.000000</td>\n",
       "      <td>32.000000</td>\n",
       "    </tr>\n",
       "  </tbody>\n",
       "</table>\n",
       "<p>8 rows × 24 columns</p>\n",
       "</div>"
      ],
      "text/plain": [
       "       TransactionID          id_01          id_02         id_03  \\\n",
       "count   1.442330e+05  144233.000000  140872.000000  66324.000000   \n",
       "mean    3.236329e+06     -10.170502  174716.584708      0.060189   \n",
       "std     1.788496e+05      14.347949  159651.816856      0.598231   \n",
       "min     2.987004e+06    -100.000000       1.000000    -13.000000   \n",
       "25%     3.077142e+06     -10.000000   67992.000000      0.000000   \n",
       "50%     3.198818e+06      -5.000000  125800.500000      0.000000   \n",
       "75%     3.392923e+06      -5.000000  228749.000000      0.000000   \n",
       "max     3.577534e+06       0.000000  999595.000000     10.000000   \n",
       "\n",
       "              id_04          id_05          id_06        id_07        id_08  \\\n",
       "count  66324.000000  136865.000000  136865.000000  5155.000000  5155.000000   \n",
       "mean      -0.058938       1.615585      -6.698710    13.285354   -38.600388   \n",
       "std        0.701015       5.249856      16.491104    11.384207    26.084899   \n",
       "min      -28.000000     -72.000000    -100.000000   -46.000000  -100.000000   \n",
       "25%        0.000000       0.000000      -6.000000     5.000000   -48.000000   \n",
       "50%        0.000000       0.000000       0.000000    14.000000   -34.000000   \n",
       "75%        0.000000       1.000000       0.000000    22.000000   -23.000000   \n",
       "max        0.000000      52.000000       0.000000    61.000000     0.000000   \n",
       "\n",
       "              id_09      ...               id_17         id_18          id_19  \\\n",
       "count  74926.000000      ...       139369.000000  45113.000000  139318.000000   \n",
       "mean       0.091023      ...          189.451377     14.237337     353.128174   \n",
       "std        0.983842      ...           30.375360      1.561302     141.095343   \n",
       "min      -36.000000      ...          100.000000     10.000000     100.000000   \n",
       "25%        0.000000      ...          166.000000     13.000000     266.000000   \n",
       "50%        0.000000      ...          166.000000     15.000000     341.000000   \n",
       "75%        0.000000      ...          225.000000     15.000000     427.000000   \n",
       "max       25.000000      ...          229.000000     29.000000     671.000000   \n",
       "\n",
       "               id_20        id_21        id_22        id_24        id_25  \\\n",
       "count  139261.000000  5159.000000  5169.000000  4747.000000  5132.000000   \n",
       "mean      403.882666   368.269820    16.002708    12.800927   329.608924   \n",
       "std       152.160327   198.847038     6.897665     2.372447    97.461089   \n",
       "min       100.000000   100.000000    10.000000    11.000000   100.000000   \n",
       "25%       256.000000   252.000000    14.000000    11.000000   321.000000   \n",
       "50%       472.000000   252.000000    14.000000    11.000000   321.000000   \n",
       "75%       533.000000   486.500000    14.000000    15.000000   371.000000   \n",
       "max       661.000000   854.000000    44.000000    26.000000   548.000000   \n",
       "\n",
       "             id_26         id_32  \n",
       "count  5163.000000  77586.000000  \n",
       "mean    149.070308     26.508597  \n",
       "std      32.101995      3.737502  \n",
       "min     100.000000      0.000000  \n",
       "25%     119.000000     24.000000  \n",
       "50%     149.000000     24.000000  \n",
       "75%     169.000000     32.000000  \n",
       "max     216.000000     32.000000  \n",
       "\n",
       "[8 rows x 24 columns]"
      ]
     },
     "execution_count": 11,
     "metadata": {},
     "output_type": "execute_result"
    }
   ],
   "source": [
    "train_identity.describe()"
   ]
  },
  {
   "cell_type": "markdown",
   "metadata": {},
   "source": [
    "`id_01` has only negative values and 0. Interesting."
   ]
  },
  {
   "cell_type": "code",
   "execution_count": 13,
   "metadata": {},
   "outputs": [
    {
     "data": {
      "text/html": [
       "<div>\n",
       "<style scoped>\n",
       "    .dataframe tbody tr th:only-of-type {\n",
       "        vertical-align: middle;\n",
       "    }\n",
       "\n",
       "    .dataframe tbody tr th {\n",
       "        vertical-align: top;\n",
       "    }\n",
       "\n",
       "    .dataframe thead th {\n",
       "        text-align: right;\n",
       "    }\n",
       "</style>\n",
       "<table border=\"1\" class=\"dataframe\">\n",
       "  <thead>\n",
       "    <tr style=\"text-align: right;\">\n",
       "      <th></th>\n",
       "      <th>TransactionID</th>\n",
       "      <th>isFraud</th>\n",
       "      <th>TransactionDT</th>\n",
       "      <th>TransactionAmt</th>\n",
       "      <th>card1</th>\n",
       "      <th>card2</th>\n",
       "      <th>card3</th>\n",
       "      <th>card5</th>\n",
       "      <th>addr1</th>\n",
       "      <th>addr2</th>\n",
       "      <th>...</th>\n",
       "      <th>V330</th>\n",
       "      <th>V331</th>\n",
       "      <th>V332</th>\n",
       "      <th>V333</th>\n",
       "      <th>V334</th>\n",
       "      <th>V335</th>\n",
       "      <th>V336</th>\n",
       "      <th>V337</th>\n",
       "      <th>V338</th>\n",
       "      <th>V339</th>\n",
       "    </tr>\n",
       "  </thead>\n",
       "  <tbody>\n",
       "    <tr>\n",
       "      <th>count</th>\n",
       "      <td>5.905400e+05</td>\n",
       "      <td>590540.000000</td>\n",
       "      <td>5.905400e+05</td>\n",
       "      <td>590540.000000</td>\n",
       "      <td>590540.000000</td>\n",
       "      <td>581607.000000</td>\n",
       "      <td>588975.000000</td>\n",
       "      <td>586281.000000</td>\n",
       "      <td>524834.000000</td>\n",
       "      <td>524834.000000</td>\n",
       "      <td>...</td>\n",
       "      <td>82351.000000</td>\n",
       "      <td>82351.000000</td>\n",
       "      <td>82351.000000</td>\n",
       "      <td>82351.000000</td>\n",
       "      <td>82351.000000</td>\n",
       "      <td>82351.00000</td>\n",
       "      <td>82351.000000</td>\n",
       "      <td>82351.000000</td>\n",
       "      <td>82351.000000</td>\n",
       "      <td>82351.000000</td>\n",
       "    </tr>\n",
       "    <tr>\n",
       "      <th>mean</th>\n",
       "      <td>3.282270e+06</td>\n",
       "      <td>0.034990</td>\n",
       "      <td>7.372311e+06</td>\n",
       "      <td>135.027176</td>\n",
       "      <td>9898.734658</td>\n",
       "      <td>362.555488</td>\n",
       "      <td>153.194925</td>\n",
       "      <td>199.278897</td>\n",
       "      <td>290.733794</td>\n",
       "      <td>86.800630</td>\n",
       "      <td>...</td>\n",
       "      <td>0.775874</td>\n",
       "      <td>721.741883</td>\n",
       "      <td>1375.783644</td>\n",
       "      <td>1014.622782</td>\n",
       "      <td>9.807015</td>\n",
       "      <td>59.16455</td>\n",
       "      <td>28.530903</td>\n",
       "      <td>55.352422</td>\n",
       "      <td>151.160542</td>\n",
       "      <td>100.700882</td>\n",
       "    </tr>\n",
       "    <tr>\n",
       "      <th>std</th>\n",
       "      <td>1.704744e+05</td>\n",
       "      <td>0.183755</td>\n",
       "      <td>4.617224e+06</td>\n",
       "      <td>239.162522</td>\n",
       "      <td>4901.170153</td>\n",
       "      <td>157.793246</td>\n",
       "      <td>11.336444</td>\n",
       "      <td>41.244453</td>\n",
       "      <td>101.741072</td>\n",
       "      <td>2.690623</td>\n",
       "      <td>...</td>\n",
       "      <td>4.727971</td>\n",
       "      <td>6217.223583</td>\n",
       "      <td>11169.275702</td>\n",
       "      <td>7955.735482</td>\n",
       "      <td>243.861391</td>\n",
       "      <td>387.62948</td>\n",
       "      <td>274.576920</td>\n",
       "      <td>668.486833</td>\n",
       "      <td>1095.034387</td>\n",
       "      <td>814.946722</td>\n",
       "    </tr>\n",
       "    <tr>\n",
       "      <th>min</th>\n",
       "      <td>2.987000e+06</td>\n",
       "      <td>0.000000</td>\n",
       "      <td>8.640000e+04</td>\n",
       "      <td>0.251000</td>\n",
       "      <td>1000.000000</td>\n",
       "      <td>100.000000</td>\n",
       "      <td>100.000000</td>\n",
       "      <td>100.000000</td>\n",
       "      <td>100.000000</td>\n",
       "      <td>10.000000</td>\n",
       "      <td>...</td>\n",
       "      <td>0.000000</td>\n",
       "      <td>0.000000</td>\n",
       "      <td>0.000000</td>\n",
       "      <td>0.000000</td>\n",
       "      <td>0.000000</td>\n",
       "      <td>0.00000</td>\n",
       "      <td>0.000000</td>\n",
       "      <td>0.000000</td>\n",
       "      <td>0.000000</td>\n",
       "      <td>0.000000</td>\n",
       "    </tr>\n",
       "    <tr>\n",
       "      <th>25%</th>\n",
       "      <td>3.134635e+06</td>\n",
       "      <td>0.000000</td>\n",
       "      <td>3.027058e+06</td>\n",
       "      <td>43.321000</td>\n",
       "      <td>6019.000000</td>\n",
       "      <td>214.000000</td>\n",
       "      <td>150.000000</td>\n",
       "      <td>166.000000</td>\n",
       "      <td>204.000000</td>\n",
       "      <td>87.000000</td>\n",
       "      <td>...</td>\n",
       "      <td>0.000000</td>\n",
       "      <td>0.000000</td>\n",
       "      <td>0.000000</td>\n",
       "      <td>0.000000</td>\n",
       "      <td>0.000000</td>\n",
       "      <td>0.00000</td>\n",
       "      <td>0.000000</td>\n",
       "      <td>0.000000</td>\n",
       "      <td>0.000000</td>\n",
       "      <td>0.000000</td>\n",
       "    </tr>\n",
       "    <tr>\n",
       "      <th>50%</th>\n",
       "      <td>3.282270e+06</td>\n",
       "      <td>0.000000</td>\n",
       "      <td>7.306528e+06</td>\n",
       "      <td>68.769000</td>\n",
       "      <td>9678.000000</td>\n",
       "      <td>361.000000</td>\n",
       "      <td>150.000000</td>\n",
       "      <td>226.000000</td>\n",
       "      <td>299.000000</td>\n",
       "      <td>87.000000</td>\n",
       "      <td>...</td>\n",
       "      <td>0.000000</td>\n",
       "      <td>0.000000</td>\n",
       "      <td>0.000000</td>\n",
       "      <td>0.000000</td>\n",
       "      <td>0.000000</td>\n",
       "      <td>0.00000</td>\n",
       "      <td>0.000000</td>\n",
       "      <td>0.000000</td>\n",
       "      <td>0.000000</td>\n",
       "      <td>0.000000</td>\n",
       "    </tr>\n",
       "    <tr>\n",
       "      <th>75%</th>\n",
       "      <td>3.429904e+06</td>\n",
       "      <td>0.000000</td>\n",
       "      <td>1.124662e+07</td>\n",
       "      <td>125.000000</td>\n",
       "      <td>14184.000000</td>\n",
       "      <td>512.000000</td>\n",
       "      <td>150.000000</td>\n",
       "      <td>226.000000</td>\n",
       "      <td>330.000000</td>\n",
       "      <td>87.000000</td>\n",
       "      <td>...</td>\n",
       "      <td>0.000000</td>\n",
       "      <td>0.000000</td>\n",
       "      <td>25.000000</td>\n",
       "      <td>0.000000</td>\n",
       "      <td>0.000000</td>\n",
       "      <td>0.00000</td>\n",
       "      <td>0.000000</td>\n",
       "      <td>0.000000</td>\n",
       "      <td>0.000000</td>\n",
       "      <td>0.000000</td>\n",
       "    </tr>\n",
       "    <tr>\n",
       "      <th>max</th>\n",
       "      <td>3.577539e+06</td>\n",
       "      <td>1.000000</td>\n",
       "      <td>1.581113e+07</td>\n",
       "      <td>31937.391000</td>\n",
       "      <td>18396.000000</td>\n",
       "      <td>600.000000</td>\n",
       "      <td>231.000000</td>\n",
       "      <td>237.000000</td>\n",
       "      <td>540.000000</td>\n",
       "      <td>102.000000</td>\n",
       "      <td>...</td>\n",
       "      <td>55.000000</td>\n",
       "      <td>160000.000000</td>\n",
       "      <td>160000.000000</td>\n",
       "      <td>160000.000000</td>\n",
       "      <td>55125.000000</td>\n",
       "      <td>55125.00000</td>\n",
       "      <td>55125.000000</td>\n",
       "      <td>104060.000000</td>\n",
       "      <td>104060.000000</td>\n",
       "      <td>104060.000000</td>\n",
       "    </tr>\n",
       "  </tbody>\n",
       "</table>\n",
       "<p>8 rows × 380 columns</p>\n",
       "</div>"
      ],
      "text/plain": [
       "       TransactionID        isFraud  TransactionDT  TransactionAmt  \\\n",
       "count   5.905400e+05  590540.000000   5.905400e+05   590540.000000   \n",
       "mean    3.282270e+06       0.034990   7.372311e+06      135.027176   \n",
       "std     1.704744e+05       0.183755   4.617224e+06      239.162522   \n",
       "min     2.987000e+06       0.000000   8.640000e+04        0.251000   \n",
       "25%     3.134635e+06       0.000000   3.027058e+06       43.321000   \n",
       "50%     3.282270e+06       0.000000   7.306528e+06       68.769000   \n",
       "75%     3.429904e+06       0.000000   1.124662e+07      125.000000   \n",
       "max     3.577539e+06       1.000000   1.581113e+07    31937.391000   \n",
       "\n",
       "               card1          card2          card3          card5  \\\n",
       "count  590540.000000  581607.000000  588975.000000  586281.000000   \n",
       "mean     9898.734658     362.555488     153.194925     199.278897   \n",
       "std      4901.170153     157.793246      11.336444      41.244453   \n",
       "min      1000.000000     100.000000     100.000000     100.000000   \n",
       "25%      6019.000000     214.000000     150.000000     166.000000   \n",
       "50%      9678.000000     361.000000     150.000000     226.000000   \n",
       "75%     14184.000000     512.000000     150.000000     226.000000   \n",
       "max     18396.000000     600.000000     231.000000     237.000000   \n",
       "\n",
       "               addr1          addr2      ...                V330  \\\n",
       "count  524834.000000  524834.000000      ...        82351.000000   \n",
       "mean      290.733794      86.800630      ...            0.775874   \n",
       "std       101.741072       2.690623      ...            4.727971   \n",
       "min       100.000000      10.000000      ...            0.000000   \n",
       "25%       204.000000      87.000000      ...            0.000000   \n",
       "50%       299.000000      87.000000      ...            0.000000   \n",
       "75%       330.000000      87.000000      ...            0.000000   \n",
       "max       540.000000     102.000000      ...           55.000000   \n",
       "\n",
       "                V331           V332           V333          V334         V335  \\\n",
       "count   82351.000000   82351.000000   82351.000000  82351.000000  82351.00000   \n",
       "mean      721.741883    1375.783644    1014.622782      9.807015     59.16455   \n",
       "std      6217.223583   11169.275702    7955.735482    243.861391    387.62948   \n",
       "min         0.000000       0.000000       0.000000      0.000000      0.00000   \n",
       "25%         0.000000       0.000000       0.000000      0.000000      0.00000   \n",
       "50%         0.000000       0.000000       0.000000      0.000000      0.00000   \n",
       "75%         0.000000      25.000000       0.000000      0.000000      0.00000   \n",
       "max    160000.000000  160000.000000  160000.000000  55125.000000  55125.00000   \n",
       "\n",
       "               V336           V337           V338           V339  \n",
       "count  82351.000000   82351.000000   82351.000000   82351.000000  \n",
       "mean      28.530903      55.352422     151.160542     100.700882  \n",
       "std      274.576920     668.486833    1095.034387     814.946722  \n",
       "min        0.000000       0.000000       0.000000       0.000000  \n",
       "25%        0.000000       0.000000       0.000000       0.000000  \n",
       "50%        0.000000       0.000000       0.000000       0.000000  \n",
       "75%        0.000000       0.000000       0.000000       0.000000  \n",
       "max    55125.000000  104060.000000  104060.000000  104060.000000  \n",
       "\n",
       "[8 rows x 380 columns]"
      ]
     },
     "execution_count": 13,
     "metadata": {},
     "output_type": "execute_result"
    }
   ],
   "source": [
    "train_transaction.describe()"
   ]
  },
  {
   "cell_type": "markdown",
   "metadata": {},
   "source": [
    "The `TransactionAmt` column is obviously quite interesting. Has large standard deviation and mean and median are not close together. Let's look at the distribution of transaction amounts."
   ]
  },
  {
   "cell_type": "code",
   "execution_count": 31,
   "metadata": {},
   "outputs": [
    {
     "data": {
      "text/plain": [
       "(0, 600)"
      ]
     },
     "execution_count": 31,
     "metadata": {},
     "output_type": "execute_result"
    },
    {
     "data": {
      "image/png": "[encoded data removed]",
      "text/plain": [
       "<Figure size 432x288 with 1 Axes>"
      ]
     },
     "metadata": {
      "needs_background": "light"
     },
     "output_type": "display_data"
    }
   ],
   "source": [
    "fig, ax = plt.subplots(figsize=(6, 4))\n",
    "sns.distplot(train_transaction[\"TransactionAmt\"], kde=True, bins=5000, ax=ax)\n",
    "plt.xlim(0, 600)"
   ]
  },
  {
   "cell_type": "code",
   "execution_count": 35,
   "metadata": {},
   "outputs": [
    {
     "data": {
      "text/plain": [
       "<matplotlib.axes._subplots.AxesSubplot at 0x1a28d406a0>"
      ]
     },
     "execution_count": 35,
     "metadata": {},
     "output_type": "execute_result"
    },
    {
     "data": {
      "image/png": "[encoded data removed]",
      "text/plain": [
       "<Figure size 432x288 with 1 Axes>"
      ]
     },
     "metadata": {
      "needs_background": "light"
     },
     "output_type": "display_data"
    }
   ],
   "source": [
    "fig, ax = plt.subplots(figsize=(6, 4))\n",
    "sns.distplot(train_transaction[\"TransactionAmt\"], kde=True, ax=ax)"
   ]
  },
  {
   "cell_type": "code",
   "execution_count": 36,
   "metadata": {},
   "outputs": [
    {
     "data": {
      "text/plain": [
       "TransactionID         0\n",
       "id_01                 0\n",
       "id_02              3361\n",
       "id_03             77909\n",
       "id_04             77909\n",
       "id_05              7368\n",
       "id_06              7368\n",
       "id_07            139078\n",
       "id_08            139078\n",
       "id_09             69307\n",
       "id_10             69307\n",
       "id_11              3255\n",
       "id_12                 0\n",
       "id_13             16913\n",
       "id_14             64189\n",
       "id_15              3248\n",
       "id_16             14893\n",
       "id_17              4864\n",
       "id_18             99120\n",
       "id_19              4915\n",
       "id_20              4972\n",
       "id_21            139074\n",
       "id_22            139064\n",
       "id_23            139064\n",
       "id_24            139486\n",
       "id_25            139101\n",
       "id_26            139070\n",
       "id_27            139064\n",
       "id_28              3255\n",
       "id_29              3255\n",
       "id_30             66668\n",
       "id_31              3951\n",
       "id_32             66647\n",
       "id_33             70944\n",
       "id_34             66428\n",
       "id_35              3248\n",
       "id_36              3248\n",
       "id_37              3248\n",
       "id_38              3248\n",
       "DeviceType         3423\n",
       "DeviceInfo        25567\n",
       "dtype: int64"
      ]
     },
     "execution_count": 36,
     "metadata": {},
     "output_type": "execute_result"
    }
   ],
   "source": [
    "train_identity.isnull().sum()"
   ]
  },
  {
   "cell_type": "code",
   "execution_count": 37,
   "metadata": {},
   "outputs": [
    {
     "data": {
      "text/plain": [
       "TransactionID          0\n",
       "isFraud                0\n",
       "TransactionDT          0\n",
       "TransactionAmt         0\n",
       "ProductCD              0\n",
       "card1                  0\n",
       "card2               8933\n",
       "card3               1565\n",
       "card4               1577\n",
       "card5               4259\n",
       "card6               1571\n",
       "addr1              65706\n",
       "addr2              65706\n",
       "dist1             352271\n",
       "dist2             552913\n",
       "P_emaildomain      94456\n",
       "R_emaildomain     453249\n",
       "C1                     0\n",
       "C2                     0\n",
       "C3                     0\n",
       "C4                     0\n",
       "C5                     0\n",
       "C6                     0\n",
       "C7                     0\n",
       "C8                     0\n",
       "C9                     0\n",
       "C10                    0\n",
       "C11                    0\n",
       "C12                    0\n",
       "C13                    0\n",
       "                   ...  \n",
       "V310                  12\n",
       "V311                  12\n",
       "V312                  12\n",
       "V313                1269\n",
       "V314                1269\n",
       "V315                1269\n",
       "V316                  12\n",
       "V317                  12\n",
       "V318                  12\n",
       "V319                  12\n",
       "V320                  12\n",
       "V321                  12\n",
       "V322              508189\n",
       "V323              508189\n",
       "V324              508189\n",
       "V325              508189\n",
       "V326              508189\n",
       "V327              508189\n",
       "V328              508189\n",
       "V329              508189\n",
       "V330              508189\n",
       "V331              508189\n",
       "V332              508189\n",
       "V333              508189\n",
       "V334              508189\n",
       "V335              508189\n",
       "V336              508189\n",
       "V337              508189\n",
       "V338              508189\n",
       "V339              508189\n",
       "Length: 394, dtype: int64"
      ]
     },
     "execution_count": 37,
     "metadata": {},
     "output_type": "execute_result"
    }
   ],
   "source": [
    "train_transaction.isnull().sum()"
   ]
  },
  {
   "cell_type": "markdown",
   "metadata": {},
   "source": [
    "* A lot of missing column values. \n",
    "* A lot of anonymised column names, but can make out meaning according to values in some cases.\n",
    "\n",
    "**TODO:** Should consider renaming columns we can make sense of. "
   ]
  },
  {
   "cell_type": "markdown",
   "metadata": {},
   "source": [
    "## Proportion of fraudulent transactions"
   ]
  },
  {
   "cell_type": "code",
   "execution_count": 38,
   "metadata": {},
   "outputs": [
    {
     "name": "stdout",
     "output_type": "stream",
     "text": [
      "The proportion of fraudulent transactions in the training set is 3.499%\n"
     ]
    }
   ],
   "source": [
    "num_txs = len(train_transaction.index)\n",
    "num_fraud = train_transaction[train_transaction.isFraud == True].count()[\"TransactionID\"]\n",
    "print(f\"The proportion of fraudulent transactions in the training set is {(num_fraud / num_txs) * 100:.3f}%\")"
   ]
  },
  {
   "cell_type": "code",
   "execution_count": 72,
   "metadata": {},
   "outputs": [
    {
     "name": "stderr",
     "output_type": "stream",
     "text": [
      "/anaconda3/envs/py362scipy/lib/python3.6/site-packages/scipy/stats/stats.py:1713: FutureWarning: Using a non-tuple sequence for multidimensional indexing is deprecated; use `arr[tuple(seq)]` instead of `arr[seq]`. In the future this will be interpreted as an array index, `arr[np.array(seq)]`, which will result either in an error or a different result.\n",
      "  return np.add.reduce(sorted[indexer] * weights, axis=axis) / sumval\n"
     ]
    },
    {
     "data": {
      "text/plain": [
       "(0, 1000)"
      ]
     },
     "execution_count": 72,
     "metadata": {},
     "output_type": "execute_result"
    },
    {
     "data": {
      "image/png": "[encoded data removed]",
      "text/plain": [
       "<Figure size 864x432 with 3 Axes>"
      ]
     },
     "metadata": {
      "needs_background": "light"
     },
     "output_type": "display_data"
    }
   ],
   "source": [
    "fig, axes = plt.subplots(nrows=1, ncols=3, figsize=(12, 6))\n",
    "ax1, ax2, ax3 = axes.flatten()\n",
    "plt.subplots_adjust(wspace=1.5)\n",
    "\n",
    "tx_amt_fraud = train_transaction.loc[train_transaction.isFraud == True]\n",
    "sns.distplot(tx_amt_fraud[\"TransactionAmt\"], kde=True, ax=ax1)\n",
    "ax1.set_title(\"TransactionAmt - isFraud\")\n",
    "ax1.set_xlim(0, 1000)\n",
    "\n",
    "tx_amt_fraud = train_transaction.loc[train_transaction.isFraud == True]\n",
    "sns.distplot(tx_amt_fraud[\"TransactionAmt\"], kde=True, ax=ax2)\n",
    "ax2.set_title(\"TransactionAmt - isFraud - large values\")\n",
    "ax2.set_xlim(4000, 6000)\n",
    "ax2.set_ylim(0, 0.001)\n",
    "\n",
    "tx_amt_not_fraud = train_transaction.loc[train_transaction.isFraud == False]\n",
    "sns.distplot(tx_amt_not_fraud[\"TransactionAmt\"], kde=True, ax=ax3)\n",
    "ax3.set_title(\"TransactionAmt - not fraud\")\n",
    "ax3.set_xlim(0, 1000)"
   ]
  },
  {
   "cell_type": "code",
   "execution_count": 73,
   "metadata": {},
   "outputs": [
    {
     "data": {
      "text/plain": [
       "count    20663.000000\n",
       "mean       149.244779\n",
       "std        232.212163\n",
       "min          0.292000\n",
       "25%         35.044000\n",
       "50%         75.000000\n",
       "75%        161.000000\n",
       "max       5191.000000\n",
       "Name: TransactionAmt, dtype: float64"
      ]
     },
     "execution_count": 73,
     "metadata": {},
     "output_type": "execute_result"
    }
   ],
   "source": [
    "tx_amt_fraud[\"TransactionAmt\"].describe()"
   ]
  },
  {
   "cell_type": "code",
   "execution_count": 74,
   "metadata": {},
   "outputs": [
    {
     "data": {
      "text/plain": [
       "count    569877.000000\n",
       "mean        134.511665\n",
       "std         239.395078\n",
       "min           0.251000\n",
       "25%          43.970000\n",
       "50%          68.500000\n",
       "75%         120.000000\n",
       "max       31937.391000\n",
       "Name: TransactionAmt, dtype: float64"
      ]
     },
     "execution_count": 74,
     "metadata": {},
     "output_type": "execute_result"
    }
   ],
   "source": [
    "tx_amt_not_fraud[\"TransactionAmt\"].describe()"
   ]
  },
  {
   "cell_type": "markdown",
   "metadata": {},
   "source": [
    "# Distributions"
   ]
  },
  {
   "cell_type": "markdown",
   "metadata": {},
   "source": [
    "## id columns"
   ]
  },
  {
   "cell_type": "code",
   "execution_count": 40,
   "metadata": {},
   "outputs": [
    {
     "data": {
      "text/plain": [
       "-5.0      0.569703\n",
       " 0.0      0.135579\n",
       "-10.0     0.078047\n",
       "-20.0     0.077728\n",
       "-15.0     0.039339\n",
       "-25.0     0.032052\n",
       "-45.0     0.014858\n",
       "-35.0     0.011246\n",
       "-40.0     0.009603\n",
       "-100.0    0.007016\n",
       "Name: id_01, dtype: float64"
      ]
     },
     "execution_count": 40,
     "metadata": {},
     "output_type": "execute_result"
    }
   ],
   "source": [
    "train_identity[\"id_01\"].value_counts(ascending=False, dropna=False, normalize=True).head(10)"
   ]
  },
  {
   "cell_type": "code",
   "execution_count": 78,
   "metadata": {},
   "outputs": [
    {
     "data": {
      "text/plain": [
       "<matplotlib.axes._subplots.AxesSubplot at 0x1a1c29aa90>"
      ]
     },
     "execution_count": 78,
     "metadata": {},
     "output_type": "execute_result"
    },
    {
     "data": {
      "image/png": "[encoded data removed]",
      "text/plain": [
       "<Figure size 432x288 with 1 Axes>"
      ]
     },
     "metadata": {
      "needs_background": "light"
     },
     "output_type": "display_data"
    }
   ],
   "source": [
    "sns.distplot(train_identity[\"id_01\"], kde=False)"
   ]
  },
  {
   "cell_type": "code",
   "execution_count": 111,
   "metadata": {
    "scrolled": false
   },
   "outputs": [
    {
     "name": "stdout",
     "output_type": "stream",
     "text": [
      "id_01:\n",
      " -5.0      0.569703\n",
      " 0.0      0.135579\n",
      "-10.0     0.078047\n",
      "-20.0     0.077728\n",
      "-15.0     0.039339\n",
      "-25.0     0.032052\n",
      "-45.0     0.014858\n",
      "-35.0     0.011246\n",
      "-40.0     0.009603\n",
      "-100.0    0.007016\n",
      "Name: id_01, dtype: float64\n",
      "\n",
      "id_02:\n",
      " NaN        0.023303\n",
      " 1102.0    0.000076\n",
      " 696.0     0.000069\n",
      " 1116.0    0.000062\n",
      " 1117.0    0.000062\n",
      " 1141.0    0.000062\n",
      " 1083.0    0.000062\n",
      " 1120.0    0.000062\n",
      " 1127.0    0.000055\n",
      " 1119.0    0.000049\n",
      "Name: id_02, dtype: float64\n",
      "\n",
      "id_03:\n",
      " NaN     0.540161\n",
      " 0.0    0.443054\n",
      " 1.0    0.005983\n",
      " 3.0    0.004631\n",
      " 2.0    0.002919\n",
      " 5.0    0.000756\n",
      " 4.0    0.000693\n",
      " 6.0    0.000444\n",
      "-5.0    0.000229\n",
      "-6.0    0.000215\n",
      "Name: id_03, dtype: float64\n",
      "\n",
      "id_04:\n",
      " NaN      0.540161\n",
      " 0.0     0.455783\n",
      "-5.0     0.000915\n",
      "-6.0     0.000679\n",
      "-8.0     0.000444\n",
      "-4.0     0.000354\n",
      "-1.0     0.000298\n",
      "-11.0    0.000243\n",
      "-12.0    0.000236\n",
      "-10.0    0.000208\n",
      "Name: id_04, dtype: float64\n",
      "\n",
      "id_05:\n",
      "  0.0    0.643008\n",
      " 1.0    0.057497\n",
      "NaN     0.051084\n",
      " 2.0    0.034229\n",
      " 3.0    0.026721\n",
      " 4.0    0.020391\n",
      " 6.0    0.016210\n",
      " 5.0    0.016030\n",
      " 7.0    0.010227\n",
      " 8.0    0.008777\n",
      "Name: id_05, dtype: float64\n",
      "\n",
      "id_06:\n",
      "  0.0      0.633177\n",
      "NaN       0.051084\n",
      "-1.0      0.032496\n",
      "-5.0      0.026686\n",
      "-6.0      0.022582\n",
      "-9.0      0.018262\n",
      "-100.0    0.016855\n",
      "-8.0      0.013825\n",
      "-10.0     0.013617\n",
      "-11.0     0.012702\n",
      "Name: id_06, dtype: float64\n",
      "\n",
      "id_07:\n",
      " NaN      0.964259\n",
      " 0.0     0.002836\n",
      " 16.0    0.001699\n",
      " 14.0    0.001581\n",
      " 12.0    0.001442\n",
      " 15.0    0.001290\n",
      " 17.0    0.001248\n",
      " 4.0     0.001234\n",
      " 13.0    0.001213\n",
      " 5.0     0.001068\n",
      "Name: id_07, dtype: float64\n",
      "\n",
      "id_08:\n",
      " NaN       0.964259\n",
      "-100.0    0.003467\n",
      " 0.0      0.001810\n",
      "-34.0     0.001782\n",
      "-33.0     0.001449\n",
      "-32.0     0.001283\n",
      "-35.0     0.001276\n",
      "-25.0     0.000874\n",
      "-31.0     0.000811\n",
      "-30.0     0.000804\n",
      "Name: id_08, dtype: float64\n",
      "\n",
      "id_09:\n",
      "  0.0    0.487947\n",
      "NaN     0.480521\n",
      " 1.0    0.011204\n",
      " 3.0    0.006697\n",
      " 2.0    0.005359\n",
      " 4.0    0.001872\n",
      " 5.0    0.001435\n",
      " 6.0    0.001005\n",
      "-6.0    0.000458\n",
      "-5.0    0.000416\n",
      "Name: id_09, dtype: float64\n",
      "\n",
      "id_10:\n",
      "  0.0     0.505287\n",
      "NaN      0.480521\n",
      "-6.0     0.002045\n",
      "-5.0     0.001713\n",
      "-1.0     0.001387\n",
      "-8.0     0.001019\n",
      "-11.0    0.000881\n",
      "-9.0     0.000818\n",
      "-12.0    0.000818\n",
      "-10.0    0.000797\n",
      "Name: id_10, dtype: float64\n",
      "\n",
      "id_11:\n",
      "  100.000000    0.923242\n",
      "NaN            0.022568\n",
      " 95.080002     0.008535\n",
      " 95.160004     0.005228\n",
      " 97.120003     0.003051\n",
      " 96.669998     0.002309\n",
      " 95.650002     0.001983\n",
      " 96.190002     0.001671\n",
      " 94.290001     0.001581\n",
      " 93.550003     0.001414\n",
      "Name: id_11, dtype: float64\n",
      "\n",
      "id_12:\n",
      " NotFound    0.85296\n",
      "Found       0.14704\n",
      "Name: id_12, dtype: float64\n",
      "\n",
      "id_13:\n",
      "  52.0    0.402814\n",
      " 49.0    0.182795\n",
      "NaN      0.117262\n",
      " 64.0    0.100040\n",
      " 33.0    0.069665\n",
      " 27.0    0.025417\n",
      " 20.0    0.019954\n",
      " 14.0    0.017326\n",
      " 63.0    0.010178\n",
      " 19.0    0.007952\n",
      "Name: id_13, dtype: float64\n",
      "\n",
      "id_14:\n",
      " NaN       0.445037\n",
      "-300.0    0.305901\n",
      "-360.0    0.115514\n",
      "-480.0    0.089376\n",
      "-420.0    0.031491\n",
      "-600.0    0.003453\n",
      " 60.0     0.002558\n",
      " 0.0      0.001331\n",
      "-240.0    0.001102\n",
      "-180.0    0.000874\n",
      "Name: id_14, dtype: float64\n",
      "\n",
      "id_15:\n",
      " Found      0.469574\n",
      "New        0.427170\n",
      "Unknown    0.080737\n",
      "NaN        0.022519\n",
      "Name: id_15, dtype: float64\n",
      "\n",
      "id_16:\n",
      " Found       0.459839\n",
      "NotFound    0.436904\n",
      "NaN         0.103257\n",
      "Name: id_16, dtype: float64\n",
      "\n",
      "id_17:\n",
      "  166.0    0.545167\n",
      " 225.0    0.394972\n",
      "NaN       0.033723\n",
      " 102.0    0.004777\n",
      " 159.0    0.002440\n",
      " 100.0    0.002330\n",
      " 121.0    0.001934\n",
      " 148.0    0.001588\n",
      " 150.0    0.000874\n",
      " 191.0    0.000853\n",
      "Name: id_17, dtype: float64\n",
      "\n",
      "id_18:\n",
      " NaN      0.687221\n",
      " 15.0    0.176721\n",
      " 13.0    0.093176\n",
      " 12.0    0.032281\n",
      " 18.0    0.004507\n",
      " 20.0    0.002350\n",
      " 17.0    0.001615\n",
      " 26.0    0.000617\n",
      " 21.0    0.000541\n",
      " 24.0    0.000361\n",
      "Name: id_18, dtype: float64\n",
      "\n",
      "id_19:\n",
      "  266.0    0.137618\n",
      " 410.0    0.078470\n",
      " 427.0    0.061068\n",
      " 529.0    0.056312\n",
      " 312.0    0.043173\n",
      " 100.0    0.036483\n",
      " 542.0    0.035470\n",
      "NaN       0.034077\n",
      " 215.0    0.032780\n",
      " 153.0    0.030395\n",
      "Name: id_19, dtype: float64\n",
      "\n",
      "id_20:\n",
      "  507.0    0.154687\n",
      " 222.0    0.076716\n",
      " 325.0    0.056388\n",
      " 533.0    0.045836\n",
      " 214.0    0.039270\n",
      " 549.0    0.039124\n",
      " 600.0    0.038570\n",
      "NaN       0.034472\n",
      " 563.0    0.032662\n",
      " 333.0    0.025591\n",
      "Name: id_20, dtype: float64\n",
      "\n",
      "id_21:\n",
      " NaN       0.964231\n",
      " 252.0    0.017624\n",
      " 228.0    0.001657\n",
      " 255.0    0.000756\n",
      " 596.0    0.000714\n",
      " 576.0    0.000700\n",
      " 849.0    0.000610\n",
      " 277.0    0.000596\n",
      " 755.0    0.000451\n",
      " 848.0    0.000402\n",
      "Name: id_21, dtype: float64\n",
      "\n",
      "id_22:\n",
      " NaN      0.964162\n",
      " 14.0    0.032836\n",
      " 41.0    0.002226\n",
      " 33.0    0.000263\n",
      " 21.0    0.000049\n",
      " 17.0    0.000049\n",
      " 39.0    0.000042\n",
      " 12.0    0.000035\n",
      " 31.0    0.000035\n",
      " 22.0    0.000035\n",
      "Name: id_22, dtype: float64\n",
      "\n",
      "id_23:\n",
      " NaN                     0.964162\n",
      "IP_PROXY:TRANSPARENT    0.024190\n",
      "IP_PROXY:ANONYMOUS      0.007425\n",
      "IP_PROXY:HIDDEN         0.004222\n",
      "Name: id_23, dtype: float64\n",
      "\n",
      "id_24:\n",
      " NaN      0.967088\n",
      " 11.0    0.019531\n",
      " 15.0    0.011052\n",
      " 16.0    0.001525\n",
      " 18.0    0.000257\n",
      " 21.0    0.000229\n",
      " 24.0    0.000083\n",
      " 17.0    0.000062\n",
      " 26.0    0.000055\n",
      " 25.0    0.000049\n",
      "Name: id_24, dtype: float64\n",
      "\n",
      "id_25:\n",
      " NaN       0.964419\n",
      " 321.0    0.017291\n",
      " 205.0    0.002087\n",
      " 426.0    0.001636\n",
      " 501.0    0.000714\n",
      " 371.0    0.000575\n",
      " 524.0    0.000541\n",
      " 442.0    0.000534\n",
      " 509.0    0.000451\n",
      " 123.0    0.000367\n",
      "Name: id_25, dtype: float64\n",
      "\n",
      "id_26:\n",
      " NaN       0.964204\n",
      " 161.0    0.005713\n",
      " 184.0    0.004035\n",
      " 142.0    0.003661\n",
      " 102.0    0.003127\n",
      " 100.0    0.003002\n",
      " 119.0    0.002600\n",
      " 169.0    0.002531\n",
      " 147.0    0.001615\n",
      " 215.0    0.000985\n",
      "Name: id_26, dtype: float64\n",
      "\n",
      "id_27:\n",
      " NaN         0.964162\n",
      "Found       0.035741\n",
      "NotFound    0.000097\n",
      "Name: id_27, dtype: float64\n",
      "\n",
      "id_28:\n",
      " Found    0.528534\n",
      "New      0.448899\n",
      "NaN      0.022568\n",
      "Name: id_28, dtype: float64\n",
      "\n",
      "id_29:\n",
      " Found       0.519479\n",
      "NotFound    0.457953\n",
      "NaN         0.022568\n",
      "Name: id_29, dtype: float64\n",
      "\n",
      "id_30:\n",
      " NaN                 0.462224\n",
      "Windows 10          0.146672\n",
      "Windows 7           0.090895\n",
      "iOS 11.2.1          0.025805\n",
      "iOS 11.1.2          0.025646\n",
      "Android 7.0         0.019905\n",
      "Mac OS X 10_12_6    0.017742\n",
      "Mac OS X 10_11_6    0.016279\n",
      "iOS 11.3.0          0.013977\n",
      "Windows 8.1         0.013270\n",
      "Name: id_30, dtype: float64\n",
      "\n",
      "id_31:\n",
      " chrome 63.0                0.152531\n",
      "mobile safari 11.0         0.093065\n",
      "mobile safari generic      0.079552\n",
      "ie 11.0 for desktop        0.062607\n",
      "safari generic             0.056818\n",
      "chrome 62.0                0.049794\n",
      "chrome 65.0                0.047638\n",
      "chrome 64.0                0.046529\n",
      "chrome 63.0 for android    0.040254\n",
      "chrome generic             0.033127\n",
      "Name: id_31, dtype: float64\n",
      "\n",
      "id_32:\n",
      " NaN      0.462079\n",
      " 24.0    0.367953\n",
      " 32.0    0.169365\n",
      " 16.0    0.000562\n",
      " 0.0     0.000042\n",
      "Name: id_32, dtype: float64\n",
      "\n",
      "id_33:\n",
      " NaN          0.491871\n",
      "1920x1080    0.116991\n",
      "1366x768     0.059660\n",
      "1334x750     0.044699\n",
      "2208x1242    0.033973\n",
      "1440x900     0.030395\n",
      "1600x900     0.024336\n",
      "2048x1536    0.024141\n",
      "1280x800     0.014900\n",
      "2560x1600    0.014511\n",
      "Name: id_33, dtype: float64\n",
      "\n",
      "id_34:\n",
      " NaN                0.460560\n",
      "match_status:2     0.416070\n",
      "match_status:1     0.120472\n",
      "match_status:0     0.002877\n",
      "match_status:-1    0.000021\n",
      "Name: id_34, dtype: float64\n",
      "\n",
      "id_35:\n",
      " T      0.539502\n",
      "F      0.437979\n",
      "NaN    0.022519\n",
      "Name: id_35, dtype: float64\n",
      "\n",
      "id_36:\n",
      " F      0.929510\n",
      "T      0.047971\n",
      "NaN    0.022519\n",
      "Name: id_36, dtype: float64\n",
      "\n",
      "id_37:\n",
      " T      0.765789\n",
      "F      0.211692\n",
      "NaN    0.022519\n",
      "Name: id_37, dtype: float64\n",
      "\n",
      "id_38:\n",
      " F      0.512518\n",
      "T      0.464963\n",
      "NaN    0.022519\n",
      "Name: id_38, dtype: float64\n",
      "\n"
     ]
    },
    {
     "data": {
      "image/png": "[encoded data removed]",
      "text/plain": [
       "<Figure size 864x864 with 12 Axes>"
      ]
     },
     "metadata": {
      "needs_background": "light"
     },
     "output_type": "display_data"
    }
   ],
   "source": [
    "id_cols = [\"id_01\", \"id_02\", \"id_03\", \"id_04\", \"id_05\", \"id_06\", \"id_07\", \"id_08\", \"id_09\", \"id_10\", \"id_11\",\n",
    "       \"id_12\", \"id_13\", \"id_14\", \"id_15\", \"id_16\", \"id_17\", \"id_18\", \"id_19\", \"id_20\", \"id_21\", \"id_22\",\n",
    "       \"id_23\", \"id_24\", \"id_25\", \"id_26\", \"id_27\", \"id_28\", \"id_29\", \"id_30\", \"id_31\", \"id_32\", \"id_33\",\n",
    "       \"id_34\", \"id_35\", \"id_36\", \"id_37\", \"id_38\"]\n",
    "\n",
    "cat_id_cols = [\"id_12\", \"id_13\", \"id_14\", \"id_15\", \"id_16\", \"id_17\", \"id_18\", \"id_19\", \"id_20\", \"id_21\", \"id_22\",\n",
    "       \"id_23\", \"id_24\", \"id_25\", \"id_26\", \"id_27\", \"id_28\", \"id_29\", \"id_30\", \"id_31\", \"id_32\", \"id_33\",\n",
    "       \"id_34\", \"id_35\", \"id_36\", \"id_37\", \"id_38\"]\n",
    "\n",
    "fig, axes = plt.subplots(nrows=4, ncols=3, figsize=(12, 12))\n",
    "plt.subplots_adjust(hspace=0.75)\n",
    "\n",
    "row_idx = 0\n",
    "col_idx = 0\n",
    "for col in id_cols:\n",
    "    try:\n",
    "        print(f\"{col}:\\n {train_identity[col].value_counts(ascending=False, dropna=False, normalize=True).head(10)}\\n\")\n",
    "        if col not in cat_id_cols:\n",
    "            sns.distplot(train_identity[col].dropna(), kde=False, ax=axes[row_idx][col_idx], label=col)\n",
    "        if col_idx == 2:\n",
    "            row_idx += 1\n",
    "        if col_idx == 0:\n",
    "            col_idx = 1\n",
    "        elif col_idx == 1:\n",
    "            col_idx = 2\n",
    "        else:\n",
    "            col_idx = 0\n",
    "    except TypeError as err:\n",
    "        print(f\"Caught error for col: {col} due to {err}\\n\")\n",
    "        print(f\"sample: {train_identity[col].sample()}\\n\")"
   ]
  },
  {
   "cell_type": "markdown",
   "metadata": {},
   "source": [
    "*TODO:* Go over categories of variables and try to understand them a bit better. Follow this example [notebook](https://www.kaggle.com/robikscube/ieee-fraud-detection-first-look-and-eda)."
   ]
  },
  {
   "cell_type": "code",
   "execution_count": 131,
   "metadata": {
    "scrolled": false
   },
   "outputs": [
    {
     "name": "stdout",
     "output_type": "stream",
     "text": [
      "id_12:\n",
      "NotFound    0.85296\n",
      "Found       0.14704\n",
      "Name: id_12, dtype: float64\n",
      "\n",
      "id_13:\n",
      " 52.0    0.402814\n",
      " 49.0    0.182795\n",
      "NaN      0.117262\n",
      " 64.0    0.100040\n",
      " 33.0    0.069665\n",
      " 27.0    0.025417\n",
      " 20.0    0.019954\n",
      " 14.0    0.017326\n",
      " 63.0    0.010178\n",
      " 19.0    0.007952\n",
      "Name: id_13, dtype: float64\n",
      "\n"
     ]
    },
    {
     "data": {
      "image/png": "[encoded data removed]",
      "text/plain": [
       "<Figure size 1080x216 with 1 Axes>"
      ]
     },
     "metadata": {
      "needs_background": "light"
     },
     "output_type": "display_data"
    },
    {
     "name": "stdout",
     "output_type": "stream",
     "text": [
      "id_14:\n",
      "NaN       0.445037\n",
      "-300.0    0.305901\n",
      "-360.0    0.115514\n",
      "-480.0    0.089376\n",
      "-420.0    0.031491\n",
      "-600.0    0.003453\n",
      " 60.0     0.002558\n",
      " 0.0      0.001331\n",
      "-240.0    0.001102\n",
      "-180.0    0.000874\n",
      "Name: id_14, dtype: float64\n",
      "\n"
     ]
    },
    {
     "data": {
      "image/png": "[encoded data removed]",
      "text/plain": [
       "<Figure size 1080x216 with 1 Axes>"
      ]
     },
     "metadata": {
      "needs_background": "light"
     },
     "output_type": "display_data"
    },
    {
     "name": "stdout",
     "output_type": "stream",
     "text": [
      "id_15:\n",
      "Found      0.469574\n",
      "New        0.427170\n",
      "Unknown    0.080737\n",
      "NaN        0.022519\n",
      "Name: id_15, dtype: float64\n",
      "\n",
      "id_16:\n",
      "Found       0.459839\n",
      "NotFound    0.436904\n",
      "NaN         0.103257\n",
      "Name: id_16, dtype: float64\n",
      "\n",
      "id_17:\n",
      " 166.0    0.545167\n",
      " 225.0    0.394972\n",
      "NaN       0.033723\n",
      " 102.0    0.004777\n",
      " 159.0    0.002440\n",
      " 100.0    0.002330\n",
      " 121.0    0.001934\n",
      " 148.0    0.001588\n",
      " 150.0    0.000874\n",
      " 191.0    0.000853\n",
      "Name: id_17, dtype: float64\n",
      "\n"
     ]
    },
    {
     "data": {
      "image/png": "[encoded data removed]",
      "text/plain": [
       "<Figure size 1080x216 with 1 Axes>"
      ]
     },
     "metadata": {
      "needs_background": "light"
     },
     "output_type": "display_data"
    },
    {
     "name": "stdout",
     "output_type": "stream",
     "text": [
      "id_18:\n",
      "NaN      0.687221\n",
      " 15.0    0.176721\n",
      " 13.0    0.093176\n",
      " 12.0    0.032281\n",
      " 18.0    0.004507\n",
      " 20.0    0.002350\n",
      " 17.0    0.001615\n",
      " 26.0    0.000617\n",
      " 21.0    0.000541\n",
      " 24.0    0.000361\n",
      "Name: id_18, dtype: float64\n",
      "\n"
     ]
    },
    {
     "data": {
      "image/png": "[encoded data removed]",
      "text/plain": [
       "<Figure size 1080x216 with 1 Axes>"
      ]
     },
     "metadata": {
      "needs_background": "light"
     },
     "output_type": "display_data"
    },
    {
     "name": "stdout",
     "output_type": "stream",
     "text": [
      "id_19:\n",
      " 266.0    0.137618\n",
      " 410.0    0.078470\n",
      " 427.0    0.061068\n",
      " 529.0    0.056312\n",
      " 312.0    0.043173\n",
      " 100.0    0.036483\n",
      " 542.0    0.035470\n",
      "NaN       0.034077\n",
      " 215.0    0.032780\n",
      " 153.0    0.030395\n",
      "Name: id_19, dtype: float64\n",
      "\n"
     ]
    },
    {
     "data": {
      "image/png": "[encoded data removed]",
      "text/plain": [
       "<Figure size 1080x216 with 1 Axes>"
      ]
     },
     "metadata": {
      "needs_background": "light"
     },
     "output_type": "display_data"
    },
    {
     "name": "stdout",
     "output_type": "stream",
     "text": [
      "id_20:\n",
      " 507.0    0.154687\n",
      " 222.0    0.076716\n",
      " 325.0    0.056388\n",
      " 533.0    0.045836\n",
      " 214.0    0.039270\n",
      " 549.0    0.039124\n",
      " 600.0    0.038570\n",
      "NaN       0.034472\n",
      " 563.0    0.032662\n",
      " 333.0    0.025591\n",
      "Name: id_20, dtype: float64\n",
      "\n"
     ]
    },
    {
     "data": {
      "image/png": "[encoded data removed]",
      "text/plain": [
       "<Figure size 1080x216 with 1 Axes>"
      ]
     },
     "metadata": {
      "needs_background": "light"
     },
     "output_type": "display_data"
    },
    {
     "name": "stdout",
     "output_type": "stream",
     "text": [
      "id_21:\n",
      "NaN       0.964231\n",
      " 252.0    0.017624\n",
      " 228.0    0.001657\n",
      " 255.0    0.000756\n",
      " 596.0    0.000714\n",
      " 576.0    0.000700\n",
      " 849.0    0.000610\n",
      " 277.0    0.000596\n",
      " 755.0    0.000451\n",
      " 848.0    0.000402\n",
      "Name: id_21, dtype: float64\n",
      "\n"
     ]
    },
    {
     "data": {
      "image/png": "[encoded data removed]",
      "text/plain": [
       "<Figure size 1080x216 with 1 Axes>"
      ]
     },
     "metadata": {
      "needs_background": "light"
     },
     "output_type": "display_data"
    },
    {
     "name": "stdout",
     "output_type": "stream",
     "text": [
      "id_22:\n",
      "NaN      0.964162\n",
      " 14.0    0.032836\n",
      " 41.0    0.002226\n",
      " 33.0    0.000263\n",
      " 21.0    0.000049\n",
      " 17.0    0.000049\n",
      " 39.0    0.000042\n",
      " 12.0    0.000035\n",
      " 31.0    0.000035\n",
      " 22.0    0.000035\n",
      "Name: id_22, dtype: float64\n",
      "\n"
     ]
    },
    {
     "data": {
      "image/png": "[encoded data removed]",
      "text/plain": [
       "<Figure size 1080x216 with 1 Axes>"
      ]
     },
     "metadata": {
      "needs_background": "light"
     },
     "output_type": "display_data"
    },
    {
     "name": "stdout",
     "output_type": "stream",
     "text": [
      "id_23:\n",
      "NaN                     0.964162\n",
      "IP_PROXY:TRANSPARENT    0.024190\n",
      "IP_PROXY:ANONYMOUS      0.007425\n",
      "IP_PROXY:HIDDEN         0.004222\n",
      "Name: id_23, dtype: float64\n",
      "\n",
      "id_24:\n",
      "NaN      0.967088\n",
      " 11.0    0.019531\n",
      " 15.0    0.011052\n",
      " 16.0    0.001525\n",
      " 18.0    0.000257\n",
      " 21.0    0.000229\n",
      " 24.0    0.000083\n",
      " 17.0    0.000062\n",
      " 26.0    0.000055\n",
      " 25.0    0.000049\n",
      "Name: id_24, dtype: float64\n",
      "\n"
     ]
    },
    {
     "data": {
      "image/png": "[encoded data removed]",
      "text/plain": [
       "<Figure size 1080x216 with 1 Axes>"
      ]
     },
     "metadata": {
      "needs_background": "light"
     },
     "output_type": "display_data"
    },
    {
     "name": "stdout",
     "output_type": "stream",
     "text": [
      "id_25:\n",
      "NaN       0.964419\n",
      " 321.0    0.017291\n",
      " 205.0    0.002087\n",
      " 426.0    0.001636\n",
      " 501.0    0.000714\n",
      " 371.0    0.000575\n",
      " 524.0    0.000541\n",
      " 442.0    0.000534\n",
      " 509.0    0.000451\n",
      " 123.0    0.000367\n",
      "Name: id_25, dtype: float64\n",
      "\n"
     ]
    },
    {
     "data": {
      "image/png": "[encoded data removed]",
      "text/plain": [
       "<Figure size 1080x216 with 1 Axes>"
      ]
     },
     "metadata": {
      "needs_background": "light"
     },
     "output_type": "display_data"
    },
    {
     "name": "stdout",
     "output_type": "stream",
     "text": [
      "id_26:\n",
      "NaN       0.964204\n",
      " 161.0    0.005713\n",
      " 184.0    0.004035\n",
      " 142.0    0.003661\n",
      " 102.0    0.003127\n",
      " 100.0    0.003002\n",
      " 119.0    0.002600\n",
      " 169.0    0.002531\n",
      " 147.0    0.001615\n",
      " 215.0    0.000985\n",
      "Name: id_26, dtype: float64\n",
      "\n"
     ]
    },
    {
     "data": {
      "image/png": "[encoded data removed]",
      "text/plain": [
       "<Figure size 1080x216 with 1 Axes>"
      ]
     },
     "metadata": {
      "needs_background": "light"
     },
     "output_type": "display_data"
    },
    {
     "name": "stdout",
     "output_type": "stream",
     "text": [
      "id_27:\n",
      "NaN         0.964162\n",
      "Found       0.035741\n",
      "NotFound    0.000097\n",
      "Name: id_27, dtype: float64\n",
      "\n",
      "id_28:\n",
      "Found    0.528534\n",
      "New      0.448899\n",
      "NaN      0.022568\n",
      "Name: id_28, dtype: float64\n",
      "\n",
      "id_29:\n",
      "Found       0.519479\n",
      "NotFound    0.457953\n",
      "NaN         0.022568\n",
      "Name: id_29, dtype: float64\n",
      "\n",
      "id_30:\n",
      "NaN                 0.462224\n",
      "Windows 10          0.146672\n",
      "Windows 7           0.090895\n",
      "iOS 11.2.1          0.025805\n",
      "iOS 11.1.2          0.025646\n",
      "Android 7.0         0.019905\n",
      "Mac OS X 10_12_6    0.017742\n",
      "Mac OS X 10_11_6    0.016279\n",
      "iOS 11.3.0          0.013977\n",
      "Windows 8.1         0.013270\n",
      "Name: id_30, dtype: float64\n",
      "\n",
      "id_31:\n",
      "chrome 63.0                0.152531\n",
      "mobile safari 11.0         0.093065\n",
      "mobile safari generic      0.079552\n",
      "ie 11.0 for desktop        0.062607\n",
      "safari generic             0.056818\n",
      "chrome 62.0                0.049794\n",
      "chrome 65.0                0.047638\n",
      "chrome 64.0                0.046529\n",
      "chrome 63.0 for android    0.040254\n",
      "chrome generic             0.033127\n",
      "Name: id_31, dtype: float64\n",
      "\n",
      "id_32:\n",
      "NaN      0.462079\n",
      " 24.0    0.367953\n",
      " 32.0    0.169365\n",
      " 16.0    0.000562\n",
      " 0.0     0.000042\n",
      "Name: id_32, dtype: float64\n",
      "\n"
     ]
    },
    {
     "data": {
      "image/png": "[encoded data removed]",
      "text/plain": [
       "<Figure size 1080x216 with 1 Axes>"
      ]
     },
     "metadata": {
      "needs_background": "light"
     },
     "output_type": "display_data"
    },
    {
     "name": "stdout",
     "output_type": "stream",
     "text": [
      "id_33:\n",
      "NaN          0.491871\n",
      "1920x1080    0.116991\n",
      "1366x768     0.059660\n",
      "1334x750     0.044699\n",
      "2208x1242    0.033973\n",
      "1440x900     0.030395\n",
      "1600x900     0.024336\n",
      "2048x1536    0.024141\n",
      "1280x800     0.014900\n",
      "2560x1600    0.014511\n",
      "Name: id_33, dtype: float64\n",
      "\n",
      "id_34:\n",
      "NaN                0.460560\n",
      "match_status:2     0.416070\n",
      "match_status:1     0.120472\n",
      "match_status:0     0.002877\n",
      "match_status:-1    0.000021\n",
      "Name: id_34, dtype: float64\n",
      "\n",
      "id_35:\n",
      "T      0.539502\n",
      "F      0.437979\n",
      "NaN    0.022519\n",
      "Name: id_35, dtype: float64\n",
      "\n",
      "id_36:\n",
      "F      0.929510\n",
      "T      0.047971\n",
      "NaN    0.022519\n",
      "Name: id_36, dtype: float64\n",
      "\n",
      "id_37:\n",
      "T      0.765789\n",
      "F      0.211692\n",
      "NaN    0.022519\n",
      "Name: id_37, dtype: float64\n",
      "\n",
      "id_38:\n",
      "F      0.512518\n",
      "T      0.464963\n",
      "NaN    0.022519\n",
      "Name: id_38, dtype: float64\n",
      "\n"
     ]
    }
   ],
   "source": [
    "color_pal = [x['color'] for x in plt.rcParams['axes.prop_cycle']]\n",
    "    \n",
    "color_idx = 0\n",
    "for col in cat_id_cols:\n",
    "    print(f\"{col}:\\n{train_identity[col].value_counts(ascending=False, dropna=False, normalize=True).head(10)}\\n\")\n",
    "    if train_identity[col].dtype in [\"float64\", \"int64\"]:\n",
    "        train_identity[col].plot(kind=\"hist\",\n",
    "                                title=col,\n",
    "                                bins=50,\n",
    "                                figsize=(15, 3),\n",
    "                                color=color_pal[color_idx])\n",
    "        color_idx += 1\n",
    "        if color_idx == len(plt.rcParams[\"axes.prop_cycle\"]):\n",
    "            color_idx = 0\n",
    "        plt.show()\n"
   ]
  },
  {
   "cell_type": "markdown",
   "metadata": {},
   "source": [
    "# card columns"
   ]
  },
  {
   "cell_type": "code",
   "execution_count": 132,
   "metadata": {},
   "outputs": [
    {
     "data": {
      "text/html": [
       "<div>\n",
       "<style scoped>\n",
       "    .dataframe tbody tr th:only-of-type {\n",
       "        vertical-align: middle;\n",
       "    }\n",
       "\n",
       "    .dataframe tbody tr th {\n",
       "        vertical-align: top;\n",
       "    }\n",
       "\n",
       "    .dataframe thead th {\n",
       "        text-align: right;\n",
       "    }\n",
       "</style>\n",
       "<table border=\"1\" class=\"dataframe\">\n",
       "  <thead>\n",
       "    <tr style=\"text-align: right;\">\n",
       "      <th></th>\n",
       "      <th>card1</th>\n",
       "      <th>card2</th>\n",
       "      <th>card3</th>\n",
       "      <th>card4</th>\n",
       "      <th>card5</th>\n",
       "      <th>card6</th>\n",
       "    </tr>\n",
       "  </thead>\n",
       "  <tbody>\n",
       "    <tr>\n",
       "      <th>0</th>\n",
       "      <td>13926</td>\n",
       "      <td>NaN</td>\n",
       "      <td>150.0</td>\n",
       "      <td>discover</td>\n",
       "      <td>142.0</td>\n",
       "      <td>credit</td>\n",
       "    </tr>\n",
       "    <tr>\n",
       "      <th>1</th>\n",
       "      <td>2755</td>\n",
       "      <td>404.0</td>\n",
       "      <td>150.0</td>\n",
       "      <td>mastercard</td>\n",
       "      <td>102.0</td>\n",
       "      <td>credit</td>\n",
       "    </tr>\n",
       "    <tr>\n",
       "      <th>2</th>\n",
       "      <td>4663</td>\n",
       "      <td>490.0</td>\n",
       "      <td>150.0</td>\n",
       "      <td>visa</td>\n",
       "      <td>166.0</td>\n",
       "      <td>debit</td>\n",
       "    </tr>\n",
       "    <tr>\n",
       "      <th>3</th>\n",
       "      <td>18132</td>\n",
       "      <td>567.0</td>\n",
       "      <td>150.0</td>\n",
       "      <td>mastercard</td>\n",
       "      <td>117.0</td>\n",
       "      <td>debit</td>\n",
       "    </tr>\n",
       "    <tr>\n",
       "      <th>4</th>\n",
       "      <td>4497</td>\n",
       "      <td>514.0</td>\n",
       "      <td>150.0</td>\n",
       "      <td>mastercard</td>\n",
       "      <td>102.0</td>\n",
       "      <td>credit</td>\n",
       "    </tr>\n",
       "  </tbody>\n",
       "</table>\n",
       "</div>"
      ],
      "text/plain": [
       "   card1  card2  card3       card4  card5   card6\n",
       "0  13926    NaN  150.0    discover  142.0  credit\n",
       "1   2755  404.0  150.0  mastercard  102.0  credit\n",
       "2   4663  490.0  150.0        visa  166.0   debit\n",
       "3  18132  567.0  150.0  mastercard  117.0   debit\n",
       "4   4497  514.0  150.0  mastercard  102.0  credit"
      ]
     },
     "execution_count": 132,
     "metadata": {},
     "output_type": "execute_result"
    }
   ],
   "source": [
    "card_cols = [c for c in train_transaction.columns if 'card' in c]\n",
    "train_transaction[card_cols].head()"
   ]
  },
  {
   "cell_type": "code",
   "execution_count": 134,
   "metadata": {
    "scrolled": false
   },
   "outputs": [
    {
     "name": "stdout",
     "output_type": "stream",
     "text": [
      "card1:\n",
      "7919     0.025285\n",
      "9500     0.023981\n",
      "15885    0.017545\n",
      "17188    0.017516\n",
      "15066    0.013454\n",
      "12695    0.012008\n",
      "12544    0.011469\n",
      "6019     0.011466\n",
      "2803     0.010399\n",
      "7585     0.009032\n",
      "Name: card1, dtype: float64\n",
      "\n"
     ]
    },
    {
     "data": {
      "image/png": "[encoded data removed]",
      "text/plain": [
       "<Figure size 1080x216 with 1 Axes>"
      ]
     },
     "metadata": {
      "needs_background": "light"
     },
     "output_type": "display_data"
    },
    {
     "name": "stdout",
     "output_type": "stream",
     "text": [
      "card2:\n",
      "321.0    0.082865\n",
      "111.0    0.076525\n",
      "555.0    0.071113\n",
      "490.0    0.064593\n",
      "583.0    0.036920\n",
      "170.0    0.030843\n",
      "194.0    0.028682\n",
      "545.0    0.027695\n",
      "360.0    0.025722\n",
      "514.0    0.024623\n",
      "Name: card2, dtype: float64\n",
      "\n"
     ]
    },
    {
     "data": {
      "image/png": "[encoded data removed]",
      "text/plain": [
       "<Figure size 1080x216 with 1 Axes>"
      ]
     },
     "metadata": {
      "needs_background": "light"
     },
     "output_type": "display_data"
    },
    {
     "name": "stdout",
     "output_type": "stream",
     "text": [
      "card3:\n",
      " 150.0    0.882729\n",
      " 185.0    0.095414\n",
      " 106.0    0.002660\n",
      "NaN       0.002650\n",
      " 146.0    0.002120\n",
      " 144.0    0.002120\n",
      " 117.0    0.001629\n",
      " 143.0    0.001522\n",
      " 119.0    0.001270\n",
      " 102.0    0.000779\n",
      "Name: card3, dtype: float64\n",
      "\n"
     ]
    },
    {
     "data": {
      "image/png": "[encoded data removed]",
      "text/plain": [
       "<Figure size 1080x216 with 1 Axes>"
      ]
     },
     "metadata": {
      "needs_background": "light"
     },
     "output_type": "display_data"
    },
    {
     "name": "stdout",
     "output_type": "stream",
     "text": [
      "card4:\n",
      "visa                0.651551\n",
      "mastercard          0.320414\n",
      "american express    0.014102\n",
      "discover            0.011263\n",
      "NaN                 0.002670\n",
      "Name: card4, dtype: float64\n",
      "\n",
      "card5:\n",
      "226.0    0.502161\n",
      "224.0    0.138031\n",
      "166.0    0.096759\n",
      "102.0    0.049285\n",
      "117.0    0.043928\n",
      "138.0    0.033422\n",
      "195.0    0.028694\n",
      "137.0    0.019846\n",
      "126.0    0.017438\n",
      "219.0    0.016805\n",
      "Name: card5, dtype: float64\n",
      "\n"
     ]
    },
    {
     "data": {
      "image/png": "[encoded data removed]",
      "text/plain": [
       "<Figure size 1080x216 with 1 Axes>"
      ]
     },
     "metadata": {
      "needs_background": "light"
     },
     "output_type": "display_data"
    },
    {
     "name": "stdout",
     "output_type": "stream",
     "text": [
      "card6:\n",
      "debit              0.744976\n",
      "credit             0.252288\n",
      "NaN                0.002660\n",
      "debit or credit    0.000051\n",
      "charge card        0.000025\n",
      "Name: card6, dtype: float64\n",
      "\n"
     ]
    }
   ],
   "source": [
    "color_pal = [x['color'] for x in plt.rcParams['axes.prop_cycle']]\n",
    "    \n",
    "color_idx = 0\n",
    "for col in card_cols:\n",
    "    print(f\"{col}:\\n{train_transaction[col].value_counts(ascending=False, dropna=False, normalize=True).head(10)}\\n\")\n",
    "    if train_transaction[col].dtype in [\"float64\", \"int64\"]:\n",
    "        train_transaction[col].plot(kind=\"hist\",\n",
    "                                title=col,\n",
    "                                bins=50,\n",
    "                                figsize=(15, 3),\n",
    "                                color=color_pal[color_idx])\n",
    "        color_idx += 1\n",
    "        if color_idx == len(plt.rcParams[\"axes.prop_cycle\"]):\n",
    "            color_idx = 0\n",
    "        plt.show()\n"
   ]
  },
  {
   "cell_type": "code",
   "execution_count": 168,
   "metadata": {},
   "outputs": [
    {
     "name": "stdout",
     "output_type": "stream",
     "text": [
      "Proportion of fraudulent transactions by credit card company (card4)\n"
     ]
    },
    {
     "data": {
      "text/plain": [
       "card4\n",
       "american express    0.028698\n",
       "discover            0.077282\n",
       "mastercard          0.034331\n",
       "visa                0.034756\n",
       "Name: isFraud, dtype: float64"
      ]
     },
     "execution_count": 168,
     "metadata": {},
     "output_type": "execute_result"
    }
   ],
   "source": [
    "print(\"Proportion of fraudulent transactions by credit card company (card4)\")\n",
    "mean_fraud_card4 = train_transaction.groupby(\"card4\")[\"isFraud\"].mean()\n",
    "mean_fraud_card4"
   ]
  },
  {
   "cell_type": "code",
   "execution_count": 169,
   "metadata": {},
   "outputs": [
    {
     "data": {
      "text/plain": [
       "<matplotlib.axes._subplots.AxesSubplot at 0x1a4391f080>"
      ]
     },
     "execution_count": 169,
     "metadata": {},
     "output_type": "execute_result"
    },
    {
     "data": {
      "image/png": "[encoded data removed]",
      "text/plain": [
       "<Figure size 648x216 with 1 Axes>"
      ]
     },
     "metadata": {
      "needs_background": "light"
     },
     "output_type": "display_data"
    }
   ],
   "source": [
    "mean_fraud_card4.plot(kind=\"barh\", figsize=(9, 3))"
   ]
  },
  {
   "cell_type": "code",
   "execution_count": 170,
   "metadata": {},
   "outputs": [
    {
     "name": "stdout",
     "output_type": "stream",
     "text": [
      "Proportion of fraudulent transactions by payment card type (card6)\n"
     ]
    },
    {
     "data": {
      "text/plain": [
       "card6\n",
       "charge card        0.000000\n",
       "credit             0.066785\n",
       "debit              0.024263\n",
       "debit or credit    0.000000\n",
       "Name: isFraud, dtype: float64"
      ]
     },
     "execution_count": 170,
     "metadata": {},
     "output_type": "execute_result"
    }
   ],
   "source": [
    "print(\"Proportion of fraudulent transactions by payment card type (card6)\")\n",
    "mean_fraud_card6 = train_transaction.groupby(\"card6\")[\"isFraud\"].mean()\n",
    "mean_fraud_card6"
   ]
  },
  {
   "cell_type": "code",
   "execution_count": 171,
   "metadata": {},
   "outputs": [
    {
     "data": {
      "text/plain": [
       "<matplotlib.axes._subplots.AxesSubplot at 0x1a4e38c080>"
      ]
     },
     "execution_count": 171,
     "metadata": {},
     "output_type": "execute_result"
    },
    {
     "data": {
      "image/png": "[encoded data removed]",
      "text/plain": [
       "<Figure size 648x216 with 1 Axes>"
      ]
     },
     "metadata": {
      "needs_background": "light"
     },
     "output_type": "display_data"
    }
   ],
   "source": [
    "mean_fraud_card6.plot(kind=\"barh\", figsize=(9, 3))"
   ]
  },
  {
   "cell_type": "markdown",
   "metadata": {},
   "source": [
    "## ProductCD column"
   ]
  },
  {
   "cell_type": "code",
   "execution_count": 154,
   "metadata": {},
   "outputs": [
    {
     "data": {
      "text/plain": [
       "<matplotlib.axes._subplots.AxesSubplot at 0x1a29fe46a0>"
      ]
     },
     "execution_count": 154,
     "metadata": {},
     "output_type": "execute_result"
    },
    {
     "data": {
      "image/png": "[encoded data removed]",
      "text/plain": [
       "<Figure size 648x216 with 1 Axes>"
      ]
     },
     "metadata": {
      "needs_background": "light"
     },
     "output_type": "display_data"
    }
   ],
   "source": [
    "train_transaction.groupby(\"ProductCD\")[\"TransactionID\"].count().plot(\n",
    "    kind=\"barh\", \n",
    "    title=\"Count of rows by ProductCD\", \n",
    "    figsize=(9, 3))"
   ]
  },
  {
   "cell_type": "code",
   "execution_count": 157,
   "metadata": {},
   "outputs": [
    {
     "data": {
      "text/plain": [
       "<matplotlib.axes._subplots.AxesSubplot at 0x1a29705860>"
      ]
     },
     "execution_count": 157,
     "metadata": {},
     "output_type": "execute_result"
    },
    {
     "data": {
      "image/png": "[encoded data removed]",
      "text/plain": [
       "<Figure size 648x216 with 1 Axes>"
      ]
     },
     "metadata": {
      "needs_background": "light"
     },
     "output_type": "display_data"
    }
   ],
   "source": [
    "train_transaction.groupby(\"ProductCD\")[\"isFraud\"].mean().plot(\n",
    "    kind=\"barh\", \n",
    "    title=\"Proportion of fraud by ProductCDs\",\n",
    "    figsize=(9, 3))"
   ]
  },
  {
   "cell_type": "markdown",
   "metadata": {},
   "source": [
    "## addr columns"
   ]
  },
  {
   "cell_type": "code",
   "execution_count": 12,
   "metadata": {},
   "outputs": [
    {
     "data": {
      "text/plain": [
       "294600      NaN\n",
       "236027    299.0\n",
       "311806    264.0\n",
       "381763    337.0\n",
       "202238    325.0\n",
       "Name: addr1, dtype: float64"
      ]
     },
     "execution_count": 12,
     "metadata": {},
     "output_type": "execute_result"
    }
   ],
   "source": [
    "train_transaction[\"addr1\"].sample(5)"
   ]
  },
  {
   "cell_type": "code",
   "execution_count": 13,
   "metadata": {},
   "outputs": [
    {
     "data": {
      "text/plain": [
       "215965     NaN\n",
       "415351    87.0\n",
       "567221    87.0\n",
       "435154    87.0\n",
       "502038    87.0\n",
       "Name: addr2, dtype: float64"
      ]
     },
     "execution_count": 13,
     "metadata": {},
     "output_type": "execute_result"
    }
   ],
   "source": [
    "train_transaction[\"addr2\"].sample(5)"
   ]
  },
  {
   "cell_type": "code",
   "execution_count": 9,
   "metadata": {},
   "outputs": [
    {
     "data": {
      "text/plain": [
       "count    524834.000000\n",
       "mean        290.733794\n",
       "std         101.741072\n",
       "min         100.000000\n",
       "25%         204.000000\n",
       "50%         299.000000\n",
       "75%         330.000000\n",
       "max         540.000000\n",
       "Name: addr1, dtype: float64"
      ]
     },
     "execution_count": 9,
     "metadata": {},
     "output_type": "execute_result"
    }
   ],
   "source": [
    "train_transaction[\"addr1\"].describe()"
   ]
  },
  {
   "cell_type": "code",
   "execution_count": 10,
   "metadata": {},
   "outputs": [
    {
     "data": {
      "text/plain": [
       "count    524834.000000\n",
       "mean         86.800630\n",
       "std           2.690623\n",
       "min          10.000000\n",
       "25%          87.000000\n",
       "50%          87.000000\n",
       "75%          87.000000\n",
       "max         102.000000\n",
       "Name: addr2, dtype: float64"
      ]
     },
     "execution_count": 10,
     "metadata": {},
     "output_type": "execute_result"
    }
   ],
   "source": [
    "train_transaction[\"addr2\"].describe()"
   ]
  },
  {
   "cell_type": "code",
   "execution_count": 7,
   "metadata": {},
   "outputs": [
    {
     "data": {
      "image/png": "[encoded data removed]",
      "text/plain": [
       "<Figure size 1080x144 with 1 Axes>"
      ]
     },
     "metadata": {
      "needs_background": "light"
     },
     "output_type": "display_data"
    },
    {
     "data": {
      "image/png": "[encoded data removed]",
      "text/plain": [
       "<Figure size 1080x144 with 1 Axes>"
      ]
     },
     "metadata": {
      "needs_background": "light"
     },
     "output_type": "display_data"
    }
   ],
   "source": [
    "train_transaction[\"addr1\"].plot(kind=\"hist\", bins=100, figsize=(15, 2), title=\"Distribution of addr1\")\n",
    "plt.show()\n",
    "train_transaction[\"addr2\"].plot(kind=\"hist\", bins=100, figsize=(15, 2), title=\"Distribution of addr2\")\n",
    "plt.show()"
   ]
  },
  {
   "cell_type": "markdown",
   "metadata": {},
   "source": [
    "How do these values make sense of address fields? Not textual, not categorical, and `addr2` has a lot contains a lot of the same value. "
   ]
  },
  {
   "cell_type": "markdown",
   "metadata": {},
   "source": [
    "# dist columns"
   ]
  },
  {
   "cell_type": "code",
   "execution_count": 25,
   "metadata": {},
   "outputs": [
    {
     "name": "stdout",
     "output_type": "stream",
     "text": [
      "dist1:\n",
      "NaN     0.596524\n",
      " 0.0    0.033569\n",
      " 1.0    0.031039\n",
      " 2.0    0.028835\n",
      " 4.0    0.022127\n",
      " 3.0    0.021689\n",
      " 5.0    0.020327\n",
      " 6.0    0.016668\n",
      " 7.0    0.015816\n",
      " 8.0    0.013091\n",
      "Name: dist1, dtype: float64\n",
      "\n"
     ]
    },
    {
     "data": {
      "text/plain": [
       "<matplotlib.axes._subplots.AxesSubplot at 0x1a24edea90>"
      ]
     },
     "execution_count": 25,
     "metadata": {},
     "output_type": "execute_result"
    },
    {
     "data": {
      "image/png": "[encoded data removed]",
      "text/plain": [
       "<Figure size 432x288 with 1 Axes>"
      ]
     },
     "metadata": {
      "needs_background": "light"
     },
     "output_type": "display_data"
    }
   ],
   "source": [
    "print(f\"dist1:\\n{train_transaction['dist1'].value_counts(ascending=False, dropna=False, normalize=True).head(10)}\\n\")\n",
    "train_transaction[\"dist1\"].plot(kind=\"hist\", bins=1000, logx=True, title=\"log of dist1\")"
   ]
  },
  {
   "cell_type": "code",
   "execution_count": 28,
   "metadata": {},
   "outputs": [
    {
     "name": "stdout",
     "output_type": "stream",
     "text": [
      "dist1 for isFraud: NaN     0.769879\n",
      " 1.0    0.024779\n",
      " 0.0    0.018390\n",
      " 5.0    0.012922\n",
      " 4.0    0.010405\n",
      " 2.0    0.009679\n",
      " 3.0    0.007259\n",
      " 9.0    0.007066\n",
      " 6.0    0.006969\n",
      " 7.0    0.006630\n",
      "Name: dist1, dtype: float64\n",
      "\n"
     ]
    },
    {
     "data": {
      "text/plain": [
       "<matplotlib.axes._subplots.AxesSubplot at 0x1a1c13d080>"
      ]
     },
     "execution_count": 28,
     "metadata": {},
     "output_type": "execute_result"
    },
    {
     "data": {
      "image/png": "[encoded data removed]",
      "text/plain": [
       "<Figure size 432x288 with 1 Axes>"
      ]
     },
     "metadata": {
      "needs_background": "light"
     },
     "output_type": "display_data"
    }
   ],
   "source": [
    "print(f\"dist1 for isFraud: {train_transaction[train_transaction['isFraud'] == True]['dist1'].value_counts(ascending=False, dropna=False, normalize=True).head(10)}\\n\")\n",
    "train_transaction[train_transaction[\"isFraud\"] == True][\"dist1\"].plot(\n",
    "    kind=\"hist\", \n",
    "    bins=1000, \n",
    "    logx=True, \n",
    "    title=\"log of dist1 for isFraud\")"
   ]
  },
  {
   "cell_type": "code",
   "execution_count": 29,
   "metadata": {},
   "outputs": [
    {
     "name": "stdout",
     "output_type": "stream",
     "text": [
      "dist2:\n",
      "NaN      0.936284\n",
      " 7.0     0.009630\n",
      " 0.0     0.005959\n",
      " 1.0     0.002327\n",
      " 9.0     0.001256\n",
      " 4.0     0.001116\n",
      " 2.0     0.000942\n",
      " 3.0     0.000830\n",
      " 68.0    0.000821\n",
      " 6.0     0.000698\n",
      "Name: dist2, dtype: float64\n",
      "\n"
     ]
    },
    {
     "data": {
      "text/plain": [
       "<matplotlib.axes._subplots.AxesSubplot at 0x1a1cc82dd8>"
      ]
     },
     "execution_count": 29,
     "metadata": {},
     "output_type": "execute_result"
    },
    {
     "data": {
      "image/png": "[encoded data removed]",
      "text/plain": [
       "<Figure size 432x288 with 1 Axes>"
      ]
     },
     "metadata": {
      "needs_background": "light"
     },
     "output_type": "display_data"
    }
   ],
   "source": [
    "print(f\"dist2:\\n{train_transaction['dist2'].value_counts(ascending=False, dropna=False, normalize=True).head(10)}\\n\")\n",
    "train_transaction[\"dist2\"].plot(kind=\"hist\", bins=1000, logx=True, title=\"log of dist2\")"
   ]
  },
  {
   "cell_type": "code",
   "execution_count": 30,
   "metadata": {},
   "outputs": [
    {
     "name": "stdout",
     "output_type": "stream",
     "text": [
      "dist2 for isFraud: NaN       0.819436\n",
      " 0.0      0.026134\n",
      " 7.0      0.024004\n",
      " 1.0      0.009292\n",
      " 9.0      0.005324\n",
      " 17.0     0.003436\n",
      " 199.0    0.003388\n",
      " 49.0     0.002710\n",
      " 478.0    0.002662\n",
      " 150.0    0.002468\n",
      "Name: dist2, dtype: float64\n",
      "\n"
     ]
    },
    {
     "data": {
      "text/plain": [
       "<matplotlib.axes._subplots.AxesSubplot at 0x1a2a3259e8>"
      ]
     },
     "execution_count": 30,
     "metadata": {},
     "output_type": "execute_result"
    },
    {
     "data": {
      "image/png": "[encoded data removed]",
      "text/plain": [
       "<Figure size 432x288 with 1 Axes>"
      ]
     },
     "metadata": {
      "needs_background": "light"
     },
     "output_type": "display_data"
    }
   ],
   "source": [
    "print(f\"dist2 for isFraud: {train_transaction[train_transaction['isFraud'] == True]['dist2'].value_counts(ascending=False, dropna=False, normalize=True).head(10)}\\n\")\n",
    "train_transaction[train_transaction[\"isFraud\"] == True][\"dist2\"].plot(\n",
    "    kind=\"hist\", \n",
    "    bins=1000, \n",
    "    logx=True, \n",
    "    title=\"log of dist2 for isFraud\")"
   ]
  },
  {
   "cell_type": "markdown",
   "metadata": {},
   "source": [
    "## M columns"
   ]
  },
  {
   "cell_type": "code",
   "execution_count": 42,
   "metadata": {},
   "outputs": [
    {
     "data": {
      "text/html": [
       "<div>\n",
       "<style scoped>\n",
       "    .dataframe tbody tr th:only-of-type {\n",
       "        vertical-align: middle;\n",
       "    }\n",
       "\n",
       "    .dataframe tbody tr th {\n",
       "        vertical-align: top;\n",
       "    }\n",
       "\n",
       "    .dataframe thead th {\n",
       "        text-align: right;\n",
       "    }\n",
       "</style>\n",
       "<table border=\"1\" class=\"dataframe\">\n",
       "  <thead>\n",
       "    <tr style=\"text-align: right;\">\n",
       "      <th></th>\n",
       "      <th>M1</th>\n",
       "      <th>M2</th>\n",
       "      <th>M3</th>\n",
       "      <th>M4</th>\n",
       "      <th>M5</th>\n",
       "      <th>M6</th>\n",
       "      <th>M7</th>\n",
       "      <th>M8</th>\n",
       "      <th>M9</th>\n",
       "    </tr>\n",
       "  </thead>\n",
       "  <tbody>\n",
       "    <tr>\n",
       "      <th>418947</th>\n",
       "      <td>T</td>\n",
       "      <td>T</td>\n",
       "      <td>F</td>\n",
       "      <td>NaN</td>\n",
       "      <td>NaN</td>\n",
       "      <td>NaN</td>\n",
       "      <td>NaN</td>\n",
       "      <td>NaN</td>\n",
       "      <td>NaN</td>\n",
       "    </tr>\n",
       "    <tr>\n",
       "      <th>539378</th>\n",
       "      <td>NaN</td>\n",
       "      <td>NaN</td>\n",
       "      <td>NaN</td>\n",
       "      <td>M2</td>\n",
       "      <td>NaN</td>\n",
       "      <td>NaN</td>\n",
       "      <td>NaN</td>\n",
       "      <td>NaN</td>\n",
       "      <td>NaN</td>\n",
       "    </tr>\n",
       "    <tr>\n",
       "      <th>104731</th>\n",
       "      <td>NaN</td>\n",
       "      <td>NaN</td>\n",
       "      <td>NaN</td>\n",
       "      <td>NaN</td>\n",
       "      <td>NaN</td>\n",
       "      <td>NaN</td>\n",
       "      <td>NaN</td>\n",
       "      <td>NaN</td>\n",
       "      <td>NaN</td>\n",
       "    </tr>\n",
       "    <tr>\n",
       "      <th>276621</th>\n",
       "      <td>T</td>\n",
       "      <td>F</td>\n",
       "      <td>F</td>\n",
       "      <td>M1</td>\n",
       "      <td>F</td>\n",
       "      <td>T</td>\n",
       "      <td>F</td>\n",
       "      <td>F</td>\n",
       "      <td>T</td>\n",
       "    </tr>\n",
       "    <tr>\n",
       "      <th>562806</th>\n",
       "      <td>T</td>\n",
       "      <td>T</td>\n",
       "      <td>T</td>\n",
       "      <td>NaN</td>\n",
       "      <td>NaN</td>\n",
       "      <td>F</td>\n",
       "      <td>F</td>\n",
       "      <td>F</td>\n",
       "      <td>T</td>\n",
       "    </tr>\n",
       "    <tr>\n",
       "      <th>268788</th>\n",
       "      <td>NaN</td>\n",
       "      <td>NaN</td>\n",
       "      <td>NaN</td>\n",
       "      <td>NaN</td>\n",
       "      <td>NaN</td>\n",
       "      <td>NaN</td>\n",
       "      <td>NaN</td>\n",
       "      <td>NaN</td>\n",
       "      <td>NaN</td>\n",
       "    </tr>\n",
       "    <tr>\n",
       "      <th>309653</th>\n",
       "      <td>NaN</td>\n",
       "      <td>NaN</td>\n",
       "      <td>NaN</td>\n",
       "      <td>M1</td>\n",
       "      <td>F</td>\n",
       "      <td>T</td>\n",
       "      <td>NaN</td>\n",
       "      <td>NaN</td>\n",
       "      <td>NaN</td>\n",
       "    </tr>\n",
       "    <tr>\n",
       "      <th>235515</th>\n",
       "      <td>NaN</td>\n",
       "      <td>NaN</td>\n",
       "      <td>NaN</td>\n",
       "      <td>M0</td>\n",
       "      <td>F</td>\n",
       "      <td>F</td>\n",
       "      <td>NaN</td>\n",
       "      <td>NaN</td>\n",
       "      <td>NaN</td>\n",
       "    </tr>\n",
       "    <tr>\n",
       "      <th>277534</th>\n",
       "      <td>T</td>\n",
       "      <td>T</td>\n",
       "      <td>T</td>\n",
       "      <td>M0</td>\n",
       "      <td>T</td>\n",
       "      <td>F</td>\n",
       "      <td>F</td>\n",
       "      <td>T</td>\n",
       "      <td>T</td>\n",
       "    </tr>\n",
       "    <tr>\n",
       "      <th>484001</th>\n",
       "      <td>T</td>\n",
       "      <td>F</td>\n",
       "      <td>F</td>\n",
       "      <td>M0</td>\n",
       "      <td>T</td>\n",
       "      <td>F</td>\n",
       "      <td>T</td>\n",
       "      <td>F</td>\n",
       "      <td>T</td>\n",
       "    </tr>\n",
       "  </tbody>\n",
       "</table>\n",
       "</div>"
      ],
      "text/plain": [
       "         M1   M2   M3   M4   M5   M6   M7   M8   M9\n",
       "418947    T    T    F  NaN  NaN  NaN  NaN  NaN  NaN\n",
       "539378  NaN  NaN  NaN   M2  NaN  NaN  NaN  NaN  NaN\n",
       "104731  NaN  NaN  NaN  NaN  NaN  NaN  NaN  NaN  NaN\n",
       "276621    T    F    F   M1    F    T    F    F    T\n",
       "562806    T    T    T  NaN  NaN    F    F    F    T\n",
       "268788  NaN  NaN  NaN  NaN  NaN  NaN  NaN  NaN  NaN\n",
       "309653  NaN  NaN  NaN   M1    F    T  NaN  NaN  NaN\n",
       "235515  NaN  NaN  NaN   M0    F    F  NaN  NaN  NaN\n",
       "277534    T    T    T   M0    T    F    F    T    T\n",
       "484001    T    F    F   M0    T    F    T    F    T"
      ]
     },
     "execution_count": 42,
     "metadata": {},
     "output_type": "execute_result"
    }
   ],
   "source": [
    "m_cols = [c for c in train_transaction if c.startswith(\"M\")]\n",
    "train_transaction[m_cols].sample(10)"
   ]
  },
  {
   "cell_type": "code",
   "execution_count": 34,
   "metadata": {},
   "outputs": [
    {
     "data": {
      "text/html": [
       "<div>\n",
       "<style scoped>\n",
       "    .dataframe tbody tr th:only-of-type {\n",
       "        vertical-align: middle;\n",
       "    }\n",
       "\n",
       "    .dataframe tbody tr th {\n",
       "        vertical-align: top;\n",
       "    }\n",
       "\n",
       "    .dataframe thead th {\n",
       "        text-align: right;\n",
       "    }\n",
       "</style>\n",
       "<table border=\"1\" class=\"dataframe\">\n",
       "  <thead>\n",
       "    <tr style=\"text-align: right;\">\n",
       "      <th></th>\n",
       "      <th>M1</th>\n",
       "      <th>M2</th>\n",
       "      <th>M3</th>\n",
       "      <th>M4</th>\n",
       "      <th>M5</th>\n",
       "      <th>M6</th>\n",
       "      <th>M7</th>\n",
       "      <th>M8</th>\n",
       "      <th>M9</th>\n",
       "    </tr>\n",
       "  </thead>\n",
       "  <tbody>\n",
       "    <tr>\n",
       "      <th>count</th>\n",
       "      <td>319440</td>\n",
       "      <td>319440</td>\n",
       "      <td>319440</td>\n",
       "      <td>309096</td>\n",
       "      <td>240058</td>\n",
       "      <td>421180</td>\n",
       "      <td>244275</td>\n",
       "      <td>244288</td>\n",
       "      <td>244288</td>\n",
       "    </tr>\n",
       "    <tr>\n",
       "      <th>unique</th>\n",
       "      <td>2</td>\n",
       "      <td>2</td>\n",
       "      <td>2</td>\n",
       "      <td>3</td>\n",
       "      <td>2</td>\n",
       "      <td>2</td>\n",
       "      <td>2</td>\n",
       "      <td>2</td>\n",
       "      <td>2</td>\n",
       "    </tr>\n",
       "    <tr>\n",
       "      <th>top</th>\n",
       "      <td>T</td>\n",
       "      <td>T</td>\n",
       "      <td>T</td>\n",
       "      <td>M0</td>\n",
       "      <td>F</td>\n",
       "      <td>F</td>\n",
       "      <td>F</td>\n",
       "      <td>F</td>\n",
       "      <td>T</td>\n",
       "    </tr>\n",
       "    <tr>\n",
       "      <th>freq</th>\n",
       "      <td>319415</td>\n",
       "      <td>285468</td>\n",
       "      <td>251731</td>\n",
       "      <td>196405</td>\n",
       "      <td>132491</td>\n",
       "      <td>227856</td>\n",
       "      <td>211374</td>\n",
       "      <td>155251</td>\n",
       "      <td>205656</td>\n",
       "    </tr>\n",
       "  </tbody>\n",
       "</table>\n",
       "</div>"
      ],
      "text/plain": [
       "            M1      M2      M3      M4      M5      M6      M7      M8      M9\n",
       "count   319440  319440  319440  309096  240058  421180  244275  244288  244288\n",
       "unique       2       2       2       3       2       2       2       2       2\n",
       "top          T       T       T      M0       F       F       F       F       T\n",
       "freq    319415  285468  251731  196405  132491  227856  211374  155251  205656"
      ]
     },
     "execution_count": 34,
     "metadata": {},
     "output_type": "execute_result"
    }
   ],
   "source": [
    "train_transaction[m_cols].describe()"
   ]
  },
  {
   "cell_type": "code",
   "execution_count": 49,
   "metadata": {},
   "outputs": [
    {
     "data": {
      "image/png": "[encoded data removed]",
      "text/plain": [
       "<Figure size 1080x144 with 1 Axes>"
      ]
     },
     "metadata": {
      "needs_background": "light"
     },
     "output_type": "display_data"
    },
    {
     "data": {
      "image/png": "[encoded data removed]",
      "text/plain": [
       "<Figure size 1080x144 with 1 Axes>"
      ]
     },
     "metadata": {
      "needs_background": "light"
     },
     "output_type": "display_data"
    },
    {
     "data": {
      "image/png": "[encoded data removed]",
      "text/plain": [
       "<Figure size 1080x144 with 1 Axes>"
      ]
     },
     "metadata": {
      "needs_background": "light"
     },
     "output_type": "display_data"
    },
    {
     "data": {
      "text/plain": [
       "<matplotlib.axes._subplots.AxesSubplot at 0x1a2b416588>"
      ]
     },
     "execution_count": 49,
     "metadata": {},
     "output_type": "execute_result"
    },
    {
     "data": {
      "image/png": "[encoded data removed]",
      "text/plain": [
       "<Figure size 1080x144 with 1 Axes>"
      ]
     },
     "metadata": {
      "needs_background": "light"
     },
     "output_type": "display_data"
    }
   ],
   "source": [
    "color_pal = [x['color'] for x in plt.rcParams['axes.prop_cycle']]\n",
    "\n",
    "(train_transaction[m_cols] == 'T').sum().plot(kind='bar',\n",
    "                                              title='Count of T by M column',\n",
    "                                              figsize=(15, 2),\n",
    "                                              color=color_pal[3])\n",
    "plt.show()\n",
    "(train_transaction[m_cols] == 'F').sum().plot(kind='bar',\n",
    "                                              title='Count of F by M column',\n",
    "                                              figsize=(15, 2),\n",
    "                                              color=color_pal[4])\n",
    "plt.show()\n",
    "(train_transaction[m_cols].isna()).sum().plot(kind='bar',\n",
    "                                              title='Count of NaN by M column',\n",
    "                                              figsize=(15, 2),\n",
    "                                              color=color_pal[0])\n",
    "plt.show()\n",
    "(train_transaction[m_cols]).count().plot(kind=\"bar\",\n",
    "                                         title=\"Counts by M column\",\n",
    "                                         figsize=(15, 2),\n",
    "                                         color=color_pal[1])"
   ]
  },
  {
   "cell_type": "markdown",
   "metadata": {},
   "source": [
    "`M4` does not have `F` or `T` as its values."
   ]
  },
  {
   "cell_type": "code",
   "execution_count": 56,
   "metadata": {},
   "outputs": [
    {
     "data": {
      "text/plain": [
       "M0    196405\n",
       "M2     59865\n",
       "M1     52826\n",
       "Name: M4, dtype: int64"
      ]
     },
     "execution_count": 56,
     "metadata": {},
     "output_type": "execute_result"
    }
   ],
   "source": [
    "#train_transaction.groupby(\"M4\").count()\n",
    "train_transaction[\"M4\"].value_counts()"
   ]
  },
  {
   "cell_type": "code",
   "execution_count": 58,
   "metadata": {},
   "outputs": [
    {
     "data": {
      "text/plain": [
       "<matplotlib.axes._subplots.AxesSubplot at 0x1a3259df60>"
      ]
     },
     "execution_count": 58,
     "metadata": {},
     "output_type": "execute_result"
    },
    {
     "data": {
      "image/png": "[encoded data removed]",
      "text/plain": [
       "<Figure size 432x288 with 1 Axes>"
      ]
     },
     "metadata": {
      "needs_background": "light"
     },
     "output_type": "display_data"
    }
   ],
   "source": [
    "train_transaction[\"M4\"].value_counts().plot(kind=\"bar\",\n",
    "                                            title=\"Count of values in M4\")"
   ]
  },
  {
   "cell_type": "markdown",
   "metadata": {},
   "source": [
    "## C columns"
   ]
  },
  {
   "cell_type": "code",
   "execution_count": 35,
   "metadata": {},
   "outputs": [
    {
     "data": {
      "text/html": [
       "<div>\n",
       "<style scoped>\n",
       "    .dataframe tbody tr th:only-of-type {\n",
       "        vertical-align: middle;\n",
       "    }\n",
       "\n",
       "    .dataframe tbody tr th {\n",
       "        vertical-align: top;\n",
       "    }\n",
       "\n",
       "    .dataframe thead th {\n",
       "        text-align: right;\n",
       "    }\n",
       "</style>\n",
       "<table border=\"1\" class=\"dataframe\">\n",
       "  <thead>\n",
       "    <tr style=\"text-align: right;\">\n",
       "      <th></th>\n",
       "      <th>C1</th>\n",
       "      <th>C2</th>\n",
       "      <th>C3</th>\n",
       "      <th>C4</th>\n",
       "      <th>C5</th>\n",
       "      <th>C6</th>\n",
       "      <th>C7</th>\n",
       "      <th>C8</th>\n",
       "      <th>C9</th>\n",
       "      <th>C10</th>\n",
       "      <th>C11</th>\n",
       "      <th>C12</th>\n",
       "      <th>C13</th>\n",
       "      <th>C14</th>\n",
       "    </tr>\n",
       "  </thead>\n",
       "  <tbody>\n",
       "    <tr>\n",
       "      <th>103552</th>\n",
       "      <td>1.0</td>\n",
       "      <td>1.0</td>\n",
       "      <td>0.0</td>\n",
       "      <td>1.0</td>\n",
       "      <td>0.0</td>\n",
       "      <td>1.0</td>\n",
       "      <td>0.0</td>\n",
       "      <td>1.0</td>\n",
       "      <td>0.0</td>\n",
       "      <td>1.0</td>\n",
       "      <td>1.0</td>\n",
       "      <td>0.0</td>\n",
       "      <td>0.0</td>\n",
       "      <td>0.0</td>\n",
       "    </tr>\n",
       "    <tr>\n",
       "      <th>325254</th>\n",
       "      <td>1.0</td>\n",
       "      <td>1.0</td>\n",
       "      <td>0.0</td>\n",
       "      <td>0.0</td>\n",
       "      <td>0.0</td>\n",
       "      <td>1.0</td>\n",
       "      <td>0.0</td>\n",
       "      <td>0.0</td>\n",
       "      <td>1.0</td>\n",
       "      <td>0.0</td>\n",
       "      <td>1.0</td>\n",
       "      <td>0.0</td>\n",
       "      <td>1.0</td>\n",
       "      <td>1.0</td>\n",
       "    </tr>\n",
       "    <tr>\n",
       "      <th>322449</th>\n",
       "      <td>1.0</td>\n",
       "      <td>1.0</td>\n",
       "      <td>0.0</td>\n",
       "      <td>0.0</td>\n",
       "      <td>0.0</td>\n",
       "      <td>1.0</td>\n",
       "      <td>0.0</td>\n",
       "      <td>0.0</td>\n",
       "      <td>1.0</td>\n",
       "      <td>0.0</td>\n",
       "      <td>1.0</td>\n",
       "      <td>0.0</td>\n",
       "      <td>1.0</td>\n",
       "      <td>1.0</td>\n",
       "    </tr>\n",
       "    <tr>\n",
       "      <th>309233</th>\n",
       "      <td>1.0</td>\n",
       "      <td>1.0</td>\n",
       "      <td>0.0</td>\n",
       "      <td>0.0</td>\n",
       "      <td>1.0</td>\n",
       "      <td>1.0</td>\n",
       "      <td>0.0</td>\n",
       "      <td>0.0</td>\n",
       "      <td>1.0</td>\n",
       "      <td>0.0</td>\n",
       "      <td>1.0</td>\n",
       "      <td>0.0</td>\n",
       "      <td>2.0</td>\n",
       "      <td>1.0</td>\n",
       "    </tr>\n",
       "    <tr>\n",
       "      <th>549930</th>\n",
       "      <td>2.0</td>\n",
       "      <td>2.0</td>\n",
       "      <td>0.0</td>\n",
       "      <td>0.0</td>\n",
       "      <td>1.0</td>\n",
       "      <td>1.0</td>\n",
       "      <td>0.0</td>\n",
       "      <td>0.0</td>\n",
       "      <td>1.0</td>\n",
       "      <td>0.0</td>\n",
       "      <td>1.0</td>\n",
       "      <td>0.0</td>\n",
       "      <td>13.0</td>\n",
       "      <td>2.0</td>\n",
       "    </tr>\n",
       "  </tbody>\n",
       "</table>\n",
       "</div>"
      ],
      "text/plain": [
       "         C1   C2   C3   C4   C5   C6   C7   C8   C9  C10  C11  C12   C13  C14\n",
       "103552  1.0  1.0  0.0  1.0  0.0  1.0  0.0  1.0  0.0  1.0  1.0  0.0   0.0  0.0\n",
       "325254  1.0  1.0  0.0  0.0  0.0  1.0  0.0  0.0  1.0  0.0  1.0  0.0   1.0  1.0\n",
       "322449  1.0  1.0  0.0  0.0  0.0  1.0  0.0  0.0  1.0  0.0  1.0  0.0   1.0  1.0\n",
       "309233  1.0  1.0  0.0  0.0  1.0  1.0  0.0  0.0  1.0  0.0  1.0  0.0   2.0  1.0\n",
       "549930  2.0  2.0  0.0  0.0  1.0  1.0  0.0  0.0  1.0  0.0  1.0  0.0  13.0  2.0"
      ]
     },
     "execution_count": 35,
     "metadata": {},
     "output_type": "execute_result"
    }
   ],
   "source": [
    "c_cols = [c for c in train_transaction if c.startswith(\"C\")]\n",
    "train_transaction[c_cols].sample(5)"
   ]
  },
  {
   "cell_type": "code",
   "execution_count": 36,
   "metadata": {
    "scrolled": true
   },
   "outputs": [
    {
     "data": {
      "text/html": [
       "<div>\n",
       "<style scoped>\n",
       "    .dataframe tbody tr th:only-of-type {\n",
       "        vertical-align: middle;\n",
       "    }\n",
       "\n",
       "    .dataframe tbody tr th {\n",
       "        vertical-align: top;\n",
       "    }\n",
       "\n",
       "    .dataframe thead th {\n",
       "        text-align: right;\n",
       "    }\n",
       "</style>\n",
       "<table border=\"1\" class=\"dataframe\">\n",
       "  <thead>\n",
       "    <tr style=\"text-align: right;\">\n",
       "      <th></th>\n",
       "      <th>C1</th>\n",
       "      <th>C2</th>\n",
       "      <th>C3</th>\n",
       "      <th>C4</th>\n",
       "      <th>C5</th>\n",
       "      <th>C6</th>\n",
       "      <th>C7</th>\n",
       "      <th>C8</th>\n",
       "      <th>C9</th>\n",
       "      <th>C10</th>\n",
       "      <th>C11</th>\n",
       "      <th>C12</th>\n",
       "      <th>C13</th>\n",
       "      <th>C14</th>\n",
       "    </tr>\n",
       "  </thead>\n",
       "  <tbody>\n",
       "    <tr>\n",
       "      <th>count</th>\n",
       "      <td>590540.000000</td>\n",
       "      <td>590540.000000</td>\n",
       "      <td>590540.000000</td>\n",
       "      <td>590540.000000</td>\n",
       "      <td>590540.000000</td>\n",
       "      <td>590540.000000</td>\n",
       "      <td>590540.000000</td>\n",
       "      <td>590540.000000</td>\n",
       "      <td>590540.000000</td>\n",
       "      <td>590540.000000</td>\n",
       "      <td>590540.000000</td>\n",
       "      <td>590540.000000</td>\n",
       "      <td>590540.000000</td>\n",
       "      <td>590540.000000</td>\n",
       "    </tr>\n",
       "    <tr>\n",
       "      <th>mean</th>\n",
       "      <td>14.092458</td>\n",
       "      <td>15.269734</td>\n",
       "      <td>0.005644</td>\n",
       "      <td>4.092185</td>\n",
       "      <td>5.571526</td>\n",
       "      <td>9.071082</td>\n",
       "      <td>2.848478</td>\n",
       "      <td>5.144574</td>\n",
       "      <td>4.480240</td>\n",
       "      <td>5.240343</td>\n",
       "      <td>10.241521</td>\n",
       "      <td>4.076227</td>\n",
       "      <td>32.539918</td>\n",
       "      <td>8.295215</td>\n",
       "    </tr>\n",
       "    <tr>\n",
       "      <th>std</th>\n",
       "      <td>133.569018</td>\n",
       "      <td>154.668899</td>\n",
       "      <td>0.150536</td>\n",
       "      <td>68.848459</td>\n",
       "      <td>25.786976</td>\n",
       "      <td>71.508467</td>\n",
       "      <td>61.727304</td>\n",
       "      <td>95.378574</td>\n",
       "      <td>16.674897</td>\n",
       "      <td>95.581443</td>\n",
       "      <td>94.336292</td>\n",
       "      <td>86.666218</td>\n",
       "      <td>129.364844</td>\n",
       "      <td>49.544262</td>\n",
       "    </tr>\n",
       "    <tr>\n",
       "      <th>min</th>\n",
       "      <td>0.000000</td>\n",
       "      <td>0.000000</td>\n",
       "      <td>0.000000</td>\n",
       "      <td>0.000000</td>\n",
       "      <td>0.000000</td>\n",
       "      <td>0.000000</td>\n",
       "      <td>0.000000</td>\n",
       "      <td>0.000000</td>\n",
       "      <td>0.000000</td>\n",
       "      <td>0.000000</td>\n",
       "      <td>0.000000</td>\n",
       "      <td>0.000000</td>\n",
       "      <td>0.000000</td>\n",
       "      <td>0.000000</td>\n",
       "    </tr>\n",
       "    <tr>\n",
       "      <th>25%</th>\n",
       "      <td>1.000000</td>\n",
       "      <td>1.000000</td>\n",
       "      <td>0.000000</td>\n",
       "      <td>0.000000</td>\n",
       "      <td>0.000000</td>\n",
       "      <td>1.000000</td>\n",
       "      <td>0.000000</td>\n",
       "      <td>0.000000</td>\n",
       "      <td>0.000000</td>\n",
       "      <td>0.000000</td>\n",
       "      <td>1.000000</td>\n",
       "      <td>0.000000</td>\n",
       "      <td>1.000000</td>\n",
       "      <td>1.000000</td>\n",
       "    </tr>\n",
       "    <tr>\n",
       "      <th>50%</th>\n",
       "      <td>1.000000</td>\n",
       "      <td>1.000000</td>\n",
       "      <td>0.000000</td>\n",
       "      <td>0.000000</td>\n",
       "      <td>0.000000</td>\n",
       "      <td>1.000000</td>\n",
       "      <td>0.000000</td>\n",
       "      <td>0.000000</td>\n",
       "      <td>1.000000</td>\n",
       "      <td>0.000000</td>\n",
       "      <td>1.000000</td>\n",
       "      <td>0.000000</td>\n",
       "      <td>3.000000</td>\n",
       "      <td>1.000000</td>\n",
       "    </tr>\n",
       "    <tr>\n",
       "      <th>75%</th>\n",
       "      <td>3.000000</td>\n",
       "      <td>3.000000</td>\n",
       "      <td>0.000000</td>\n",
       "      <td>0.000000</td>\n",
       "      <td>1.000000</td>\n",
       "      <td>2.000000</td>\n",
       "      <td>0.000000</td>\n",
       "      <td>0.000000</td>\n",
       "      <td>2.000000</td>\n",
       "      <td>0.000000</td>\n",
       "      <td>2.000000</td>\n",
       "      <td>0.000000</td>\n",
       "      <td>12.000000</td>\n",
       "      <td>2.000000</td>\n",
       "    </tr>\n",
       "    <tr>\n",
       "      <th>max</th>\n",
       "      <td>4685.000000</td>\n",
       "      <td>5691.000000</td>\n",
       "      <td>26.000000</td>\n",
       "      <td>2253.000000</td>\n",
       "      <td>349.000000</td>\n",
       "      <td>2253.000000</td>\n",
       "      <td>2255.000000</td>\n",
       "      <td>3331.000000</td>\n",
       "      <td>210.000000</td>\n",
       "      <td>3257.000000</td>\n",
       "      <td>3188.000000</td>\n",
       "      <td>3188.000000</td>\n",
       "      <td>2918.000000</td>\n",
       "      <td>1429.000000</td>\n",
       "    </tr>\n",
       "  </tbody>\n",
       "</table>\n",
       "</div>"
      ],
      "text/plain": [
       "                  C1             C2             C3             C4  \\\n",
       "count  590540.000000  590540.000000  590540.000000  590540.000000   \n",
       "mean       14.092458      15.269734       0.005644       4.092185   \n",
       "std       133.569018     154.668899       0.150536      68.848459   \n",
       "min         0.000000       0.000000       0.000000       0.000000   \n",
       "25%         1.000000       1.000000       0.000000       0.000000   \n",
       "50%         1.000000       1.000000       0.000000       0.000000   \n",
       "75%         3.000000       3.000000       0.000000       0.000000   \n",
       "max      4685.000000    5691.000000      26.000000    2253.000000   \n",
       "\n",
       "                  C5             C6             C7             C8  \\\n",
       "count  590540.000000  590540.000000  590540.000000  590540.000000   \n",
       "mean        5.571526       9.071082       2.848478       5.144574   \n",
       "std        25.786976      71.508467      61.727304      95.378574   \n",
       "min         0.000000       0.000000       0.000000       0.000000   \n",
       "25%         0.000000       1.000000       0.000000       0.000000   \n",
       "50%         0.000000       1.000000       0.000000       0.000000   \n",
       "75%         1.000000       2.000000       0.000000       0.000000   \n",
       "max       349.000000    2253.000000    2255.000000    3331.000000   \n",
       "\n",
       "                  C9            C10            C11            C12  \\\n",
       "count  590540.000000  590540.000000  590540.000000  590540.000000   \n",
       "mean        4.480240       5.240343      10.241521       4.076227   \n",
       "std        16.674897      95.581443      94.336292      86.666218   \n",
       "min         0.000000       0.000000       0.000000       0.000000   \n",
       "25%         0.000000       0.000000       1.000000       0.000000   \n",
       "50%         1.000000       0.000000       1.000000       0.000000   \n",
       "75%         2.000000       0.000000       2.000000       0.000000   \n",
       "max       210.000000    3257.000000    3188.000000    3188.000000   \n",
       "\n",
       "                 C13            C14  \n",
       "count  590540.000000  590540.000000  \n",
       "mean       32.539918       8.295215  \n",
       "std       129.364844      49.544262  \n",
       "min         0.000000       0.000000  \n",
       "25%         1.000000       1.000000  \n",
       "50%         3.000000       1.000000  \n",
       "75%        12.000000       2.000000  \n",
       "max      2918.000000    1429.000000  "
      ]
     },
     "execution_count": 36,
     "metadata": {},
     "output_type": "execute_result"
    }
   ],
   "source": [
    "train_transaction[c_cols].describe()"
   ]
  },
  {
   "cell_type": "markdown",
   "metadata": {},
   "source": [
    "## DeviceType"
   ]
  },
  {
   "cell_type": "code",
   "execution_count": 61,
   "metadata": {},
   "outputs": [
    {
     "data": {
      "text/plain": [
       "DeviceType\n",
       "desktop    85165\n",
       "mobile     55645\n",
       "Name: TransactionID, dtype: int64"
      ]
     },
     "execution_count": 61,
     "metadata": {},
     "output_type": "execute_result"
    }
   ],
   "source": [
    "train_identity.groupby(\"DeviceType\")[\"TransactionID\"].count()"
   ]
  },
  {
   "cell_type": "code",
   "execution_count": 65,
   "metadata": {},
   "outputs": [
    {
     "data": {
      "text/html": [
       "<div>\n",
       "<style scoped>\n",
       "    .dataframe tbody tr th:only-of-type {\n",
       "        vertical-align: middle;\n",
       "    }\n",
       "\n",
       "    .dataframe tbody tr th {\n",
       "        vertical-align: top;\n",
       "    }\n",
       "\n",
       "    .dataframe thead th {\n",
       "        text-align: right;\n",
       "    }\n",
       "</style>\n",
       "<table border=\"1\" class=\"dataframe\">\n",
       "  <thead>\n",
       "    <tr style=\"text-align: right;\">\n",
       "      <th></th>\n",
       "      <th>TransactionID</th>\n",
       "      <th>id_01</th>\n",
       "      <th>id_02</th>\n",
       "      <th>id_03</th>\n",
       "      <th>id_04</th>\n",
       "      <th>id_05</th>\n",
       "      <th>id_06</th>\n",
       "      <th>id_07</th>\n",
       "      <th>id_08</th>\n",
       "      <th>id_09</th>\n",
       "      <th>...</th>\n",
       "      <th>id_33</th>\n",
       "      <th>id_34</th>\n",
       "      <th>id_35</th>\n",
       "      <th>id_36</th>\n",
       "      <th>id_37</th>\n",
       "      <th>id_38</th>\n",
       "      <th>DeviceType</th>\n",
       "      <th>DeviceInfo</th>\n",
       "      <th>TransactionAmt</th>\n",
       "      <th>isFraud</th>\n",
       "    </tr>\n",
       "  </thead>\n",
       "  <tbody>\n",
       "    <tr>\n",
       "      <th>0</th>\n",
       "      <td>2987004</td>\n",
       "      <td>0.0</td>\n",
       "      <td>70787.0</td>\n",
       "      <td>NaN</td>\n",
       "      <td>NaN</td>\n",
       "      <td>NaN</td>\n",
       "      <td>NaN</td>\n",
       "      <td>NaN</td>\n",
       "      <td>NaN</td>\n",
       "      <td>NaN</td>\n",
       "      <td>...</td>\n",
       "      <td>2220x1080</td>\n",
       "      <td>match_status:2</td>\n",
       "      <td>T</td>\n",
       "      <td>F</td>\n",
       "      <td>T</td>\n",
       "      <td>T</td>\n",
       "      <td>mobile</td>\n",
       "      <td>SAMSUNG SM-G892A Build/NRD90M</td>\n",
       "      <td>50.000</td>\n",
       "      <td>0</td>\n",
       "    </tr>\n",
       "    <tr>\n",
       "      <th>1</th>\n",
       "      <td>2987008</td>\n",
       "      <td>-5.0</td>\n",
       "      <td>98945.0</td>\n",
       "      <td>NaN</td>\n",
       "      <td>NaN</td>\n",
       "      <td>0.0</td>\n",
       "      <td>-5.0</td>\n",
       "      <td>NaN</td>\n",
       "      <td>NaN</td>\n",
       "      <td>NaN</td>\n",
       "      <td>...</td>\n",
       "      <td>1334x750</td>\n",
       "      <td>match_status:1</td>\n",
       "      <td>T</td>\n",
       "      <td>F</td>\n",
       "      <td>F</td>\n",
       "      <td>T</td>\n",
       "      <td>mobile</td>\n",
       "      <td>iOS Device</td>\n",
       "      <td>15.000</td>\n",
       "      <td>0</td>\n",
       "    </tr>\n",
       "    <tr>\n",
       "      <th>2</th>\n",
       "      <td>2987010</td>\n",
       "      <td>-5.0</td>\n",
       "      <td>191631.0</td>\n",
       "      <td>0.0</td>\n",
       "      <td>0.0</td>\n",
       "      <td>0.0</td>\n",
       "      <td>0.0</td>\n",
       "      <td>NaN</td>\n",
       "      <td>NaN</td>\n",
       "      <td>0.0</td>\n",
       "      <td>...</td>\n",
       "      <td>NaN</td>\n",
       "      <td>NaN</td>\n",
       "      <td>F</td>\n",
       "      <td>F</td>\n",
       "      <td>T</td>\n",
       "      <td>T</td>\n",
       "      <td>desktop</td>\n",
       "      <td>Windows</td>\n",
       "      <td>75.887</td>\n",
       "      <td>0</td>\n",
       "    </tr>\n",
       "    <tr>\n",
       "      <th>3</th>\n",
       "      <td>2987011</td>\n",
       "      <td>-5.0</td>\n",
       "      <td>221832.0</td>\n",
       "      <td>NaN</td>\n",
       "      <td>NaN</td>\n",
       "      <td>0.0</td>\n",
       "      <td>-6.0</td>\n",
       "      <td>NaN</td>\n",
       "      <td>NaN</td>\n",
       "      <td>NaN</td>\n",
       "      <td>...</td>\n",
       "      <td>NaN</td>\n",
       "      <td>NaN</td>\n",
       "      <td>F</td>\n",
       "      <td>F</td>\n",
       "      <td>T</td>\n",
       "      <td>T</td>\n",
       "      <td>desktop</td>\n",
       "      <td>NaN</td>\n",
       "      <td>16.495</td>\n",
       "      <td>0</td>\n",
       "    </tr>\n",
       "    <tr>\n",
       "      <th>4</th>\n",
       "      <td>2987016</td>\n",
       "      <td>0.0</td>\n",
       "      <td>7460.0</td>\n",
       "      <td>0.0</td>\n",
       "      <td>0.0</td>\n",
       "      <td>1.0</td>\n",
       "      <td>0.0</td>\n",
       "      <td>NaN</td>\n",
       "      <td>NaN</td>\n",
       "      <td>0.0</td>\n",
       "      <td>...</td>\n",
       "      <td>1280x800</td>\n",
       "      <td>match_status:2</td>\n",
       "      <td>T</td>\n",
       "      <td>F</td>\n",
       "      <td>T</td>\n",
       "      <td>T</td>\n",
       "      <td>desktop</td>\n",
       "      <td>MacOS</td>\n",
       "      <td>30.000</td>\n",
       "      <td>0</td>\n",
       "    </tr>\n",
       "  </tbody>\n",
       "</table>\n",
       "<p>5 rows × 43 columns</p>\n",
       "</div>"
      ],
      "text/plain": [
       "   TransactionID  id_01     id_02  id_03  id_04  id_05  id_06  id_07  id_08  \\\n",
       "0        2987004    0.0   70787.0    NaN    NaN    NaN    NaN    NaN    NaN   \n",
       "1        2987008   -5.0   98945.0    NaN    NaN    0.0   -5.0    NaN    NaN   \n",
       "2        2987010   -5.0  191631.0    0.0    0.0    0.0    0.0    NaN    NaN   \n",
       "3        2987011   -5.0  221832.0    NaN    NaN    0.0   -6.0    NaN    NaN   \n",
       "4        2987016    0.0    7460.0    0.0    0.0    1.0    0.0    NaN    NaN   \n",
       "\n",
       "   id_09   ...         id_33           id_34 id_35  id_36  id_37 id_38  \\\n",
       "0    NaN   ...     2220x1080  match_status:2     T      F      T     T   \n",
       "1    NaN   ...      1334x750  match_status:1     T      F      F     T   \n",
       "2    0.0   ...           NaN             NaN     F      F      T     T   \n",
       "3    NaN   ...           NaN             NaN     F      F      T     T   \n",
       "4    0.0   ...      1280x800  match_status:2     T      F      T     T   \n",
       "\n",
       "  DeviceType                     DeviceInfo  TransactionAmt  isFraud  \n",
       "0     mobile  SAMSUNG SM-G892A Build/NRD90M          50.000        0  \n",
       "1     mobile                     iOS Device          15.000        0  \n",
       "2    desktop                        Windows          75.887        0  \n",
       "3    desktop                            NaN          16.495        0  \n",
       "4    desktop                          MacOS          30.000        0  \n",
       "\n",
       "[5 rows x 43 columns]"
      ]
     },
     "execution_count": 65,
     "metadata": {},
     "output_type": "execute_result"
    }
   ],
   "source": [
    "train_identity_wFraud = train_identity.merge(\n",
    "    train_transaction[[\"TransactionID\", \"TransactionAmt\", \"isFraud\"]],\n",
    "                        on=['TransactionID'])\n",
    "train_identity_wFraud.head()"
   ]
  },
  {
   "cell_type": "code",
   "execution_count": 74,
   "metadata": {},
   "outputs": [
    {
     "data": {
      "text/html": [
       "<div>\n",
       "<style scoped>\n",
       "    .dataframe tbody tr th:only-of-type {\n",
       "        vertical-align: middle;\n",
       "    }\n",
       "\n",
       "    .dataframe tbody tr th {\n",
       "        vertical-align: top;\n",
       "    }\n",
       "\n",
       "    .dataframe thead th {\n",
       "        text-align: right;\n",
       "    }\n",
       "</style>\n",
       "<table border=\"1\" class=\"dataframe\">\n",
       "  <thead>\n",
       "    <tr style=\"text-align: right;\">\n",
       "      <th></th>\n",
       "      <th>DeviceType</th>\n",
       "      <th>isFraud</th>\n",
       "      <th>TransactionAmt</th>\n",
       "    </tr>\n",
       "  </thead>\n",
       "  <tbody>\n",
       "    <tr>\n",
       "      <th>52</th>\n",
       "      <td>mobile</td>\n",
       "      <td>1</td>\n",
       "      <td>37.098</td>\n",
       "    </tr>\n",
       "    <tr>\n",
       "      <th>53</th>\n",
       "      <td>mobile</td>\n",
       "      <td>1</td>\n",
       "      <td>37.098</td>\n",
       "    </tr>\n",
       "    <tr>\n",
       "      <th>54</th>\n",
       "      <td>mobile</td>\n",
       "      <td>1</td>\n",
       "      <td>37.098</td>\n",
       "    </tr>\n",
       "    <tr>\n",
       "      <th>69</th>\n",
       "      <td>mobile</td>\n",
       "      <td>1</td>\n",
       "      <td>155.521</td>\n",
       "    </tr>\n",
       "    <tr>\n",
       "      <th>86</th>\n",
       "      <td>desktop</td>\n",
       "      <td>1</td>\n",
       "      <td>225.000</td>\n",
       "    </tr>\n",
       "  </tbody>\n",
       "</table>\n",
       "</div>"
      ],
      "text/plain": [
       "   DeviceType  isFraud  TransactionAmt\n",
       "52     mobile        1          37.098\n",
       "53     mobile        1          37.098\n",
       "54     mobile        1          37.098\n",
       "69     mobile        1         155.521\n",
       "86    desktop        1         225.000"
      ]
     },
     "execution_count": 74,
     "metadata": {},
     "output_type": "execute_result"
    }
   ],
   "source": [
    "device_types_fraud = train_identity_wFraud[train_identity_wFraud[\"isFraud\"] == 1][[\"DeviceType\", \"isFraud\", \"TransactionAmt\"]]\n",
    "device_types_fraud.head()"
   ]
  },
  {
   "cell_type": "code",
   "execution_count": 75,
   "metadata": {},
   "outputs": [
    {
     "data": {
      "text/html": [
       "<div>\n",
       "<style scoped>\n",
       "    .dataframe tbody tr th:only-of-type {\n",
       "        vertical-align: middle;\n",
       "    }\n",
       "\n",
       "    .dataframe tbody tr th {\n",
       "        vertical-align: top;\n",
       "    }\n",
       "\n",
       "    .dataframe thead th {\n",
       "        text-align: right;\n",
       "    }\n",
       "</style>\n",
       "<table border=\"1\" class=\"dataframe\">\n",
       "  <thead>\n",
       "    <tr style=\"text-align: right;\">\n",
       "      <th></th>\n",
       "      <th>DeviceType</th>\n",
       "      <th>isFraud</th>\n",
       "      <th>TransactionAmt</th>\n",
       "    </tr>\n",
       "  </thead>\n",
       "  <tbody>\n",
       "    <tr>\n",
       "      <th>0</th>\n",
       "      <td>mobile</td>\n",
       "      <td>0</td>\n",
       "      <td>50.000</td>\n",
       "    </tr>\n",
       "    <tr>\n",
       "      <th>1</th>\n",
       "      <td>mobile</td>\n",
       "      <td>0</td>\n",
       "      <td>15.000</td>\n",
       "    </tr>\n",
       "    <tr>\n",
       "      <th>2</th>\n",
       "      <td>desktop</td>\n",
       "      <td>0</td>\n",
       "      <td>75.887</td>\n",
       "    </tr>\n",
       "    <tr>\n",
       "      <th>3</th>\n",
       "      <td>desktop</td>\n",
       "      <td>0</td>\n",
       "      <td>16.495</td>\n",
       "    </tr>\n",
       "    <tr>\n",
       "      <th>4</th>\n",
       "      <td>desktop</td>\n",
       "      <td>0</td>\n",
       "      <td>30.000</td>\n",
       "    </tr>\n",
       "  </tbody>\n",
       "</table>\n",
       "</div>"
      ],
      "text/plain": [
       "  DeviceType  isFraud  TransactionAmt\n",
       "0     mobile        0          50.000\n",
       "1     mobile        0          15.000\n",
       "2    desktop        0          75.887\n",
       "3    desktop        0          16.495\n",
       "4    desktop        0          30.000"
      ]
     },
     "execution_count": 75,
     "metadata": {},
     "output_type": "execute_result"
    }
   ],
   "source": [
    "device_types_notFraud = train_identity_wFraud[train_identity_wFraud[\"isFraud\"] == 0][[\"DeviceType\", \"isFraud\", \"TransactionAmt\"]]\n",
    "device_types_notFraud.head()"
   ]
  },
  {
   "cell_type": "code",
   "execution_count": 90,
   "metadata": {},
   "outputs": [
    {
     "data": {
      "text/plain": [
       "<matplotlib.axes._subplots.AxesSubplot at 0x1a32295ba8>"
      ]
     },
     "execution_count": 90,
     "metadata": {},
     "output_type": "execute_result"
    },
    {
     "data": {
      "image/png": "[encoded data removed]",
      "text/plain": [
       "<Figure size 432x288 with 1 Axes>"
      ]
     },
     "metadata": {
      "needs_background": "light"
     },
     "output_type": "display_data"
    }
   ],
   "source": [
    "device_types_fraud.groupby(\"DeviceType\")[\"TransactionAmt\"].mean().sort_values().plot(\n",
    "        kind=\"barh\",\n",
    "        title=\"Fraud by DeviceType\")"
   ]
  },
  {
   "cell_type": "code",
   "execution_count": 93,
   "metadata": {},
   "outputs": [
    {
     "data": {
      "text/plain": [
       "88.81034157978442"
      ]
     },
     "execution_count": 93,
     "metadata": {},
     "output_type": "execute_result"
    }
   ],
   "source": [
    "device_types_fraud[\"TransactionAmt\"].mean()"
   ]
  },
  {
   "cell_type": "code",
   "execution_count": 121,
   "metadata": {},
   "outputs": [
    {
     "name": "stdout",
     "output_type": "stream",
     "text": [
      "Proportion of TransactionAmt for isFraud:\n",
      "100.0    0.127315\n",
      "50.0     0.102834\n",
      "150.0    0.054842\n",
      "25.0     0.045849\n",
      "200.0    0.041579\n",
      "75.0     0.031359\n",
      "250.0    0.019711\n",
      "30.0     0.017645\n",
      "125.0    0.015135\n",
      "300.0    0.014289\n",
      "Name: TransactionAmt, dtype: float64\n",
      "\n"
     ]
    },
    {
     "data": {
      "text/plain": [
       "<matplotlib.axes._subplots.AxesSubplot at 0x1a3d984c88>"
      ]
     },
     "execution_count": 121,
     "metadata": {},
     "output_type": "execute_result"
    },
    {
     "data": {
      "image/png": "[encoded data removed]",
      "text/plain": [
       "<Figure size 432x432 with 1 Axes>"
      ]
     },
     "metadata": {
      "needs_background": "light"
     },
     "output_type": "display_data"
    }
   ],
   "source": [
    "print(f\"Proportion of TransactionAmt for isFraud:\\n{train_identity_wFraud['TransactionAmt'].value_counts(ascending=False, dropna=False, normalize=True).head(10)}\\n\")\n",
    "train_identity_wFraud['TransactionAmt'].value_counts(ascending=False, dropna=False, normalize=True).head(12).plot(\n",
    "    kind=\"barh\",\n",
    "    figsize=(6, 6),\n",
    "    title=\"Proportion of TransactionAmt for isFraud\")"
   ]
  },
  {
   "cell_type": "markdown",
   "metadata": {},
   "source": [
    "# Correlations and information content"
   ]
  },
  {
   "cell_type": "code",
   "execution_count": 137,
   "metadata": {
    "scrolled": true
   },
   "outputs": [],
   "source": [
    "tx_correlations = train_transaction.corr().head()"
   ]
  },
  {
   "cell_type": "code",
   "execution_count": 139,
   "metadata": {},
   "outputs": [
    {
     "data": {
      "text/html": [
       "<div>\n",
       "<style scoped>\n",
       "    .dataframe tbody tr th:only-of-type {\n",
       "        vertical-align: middle;\n",
       "    }\n",
       "\n",
       "    .dataframe tbody tr th {\n",
       "        vertical-align: top;\n",
       "    }\n",
       "\n",
       "    .dataframe thead th {\n",
       "        text-align: right;\n",
       "    }\n",
       "</style>\n",
       "<table border=\"1\" class=\"dataframe\">\n",
       "  <thead>\n",
       "    <tr style=\"text-align: right;\">\n",
       "      <th></th>\n",
       "      <th>TransactionID</th>\n",
       "      <th>isFraud</th>\n",
       "      <th>TransactionDT</th>\n",
       "      <th>TransactionAmt</th>\n",
       "      <th>card1</th>\n",
       "      <th>card2</th>\n",
       "      <th>card3</th>\n",
       "      <th>card5</th>\n",
       "      <th>addr1</th>\n",
       "      <th>addr2</th>\n",
       "      <th>...</th>\n",
       "      <th>V330</th>\n",
       "      <th>V331</th>\n",
       "      <th>V332</th>\n",
       "      <th>V333</th>\n",
       "      <th>V334</th>\n",
       "      <th>V335</th>\n",
       "      <th>V336</th>\n",
       "      <th>V337</th>\n",
       "      <th>V338</th>\n",
       "      <th>V339</th>\n",
       "    </tr>\n",
       "  </thead>\n",
       "  <tbody>\n",
       "    <tr>\n",
       "      <th>TransactionID</th>\n",
       "      <td>1.000000</td>\n",
       "      <td>0.014166</td>\n",
       "      <td>0.998280</td>\n",
       "      <td>0.012025</td>\n",
       "      <td>0.010122</td>\n",
       "      <td>-0.019900</td>\n",
       "      <td>-0.010091</td>\n",
       "      <td>-0.023900</td>\n",
       "      <td>-0.000370</td>\n",
       "      <td>0.057213</td>\n",
       "      <td>...</td>\n",
       "      <td>0.250831</td>\n",
       "      <td>0.199285</td>\n",
       "      <td>0.219190</td>\n",
       "      <td>0.223816</td>\n",
       "      <td>0.005893</td>\n",
       "      <td>0.179740</td>\n",
       "      <td>0.103030</td>\n",
       "      <td>0.074034</td>\n",
       "      <td>0.203922</td>\n",
       "      <td>0.162702</td>\n",
       "    </tr>\n",
       "    <tr>\n",
       "      <th>isFraud</th>\n",
       "      <td>0.014166</td>\n",
       "      <td>1.000000</td>\n",
       "      <td>0.013103</td>\n",
       "      <td>0.011320</td>\n",
       "      <td>-0.013640</td>\n",
       "      <td>0.003388</td>\n",
       "      <td>0.154151</td>\n",
       "      <td>-0.033580</td>\n",
       "      <td>0.005596</td>\n",
       "      <td>-0.030387</td>\n",
       "      <td>...</td>\n",
       "      <td>-0.021164</td>\n",
       "      <td>-0.021982</td>\n",
       "      <td>-0.023468</td>\n",
       "      <td>-0.024134</td>\n",
       "      <td>-0.000451</td>\n",
       "      <td>-0.005456</td>\n",
       "      <td>-0.002402</td>\n",
       "      <td>-0.005702</td>\n",
       "      <td>-0.019356</td>\n",
       "      <td>-0.014663</td>\n",
       "    </tr>\n",
       "    <tr>\n",
       "      <th>TransactionDT</th>\n",
       "      <td>0.998280</td>\n",
       "      <td>0.013103</td>\n",
       "      <td>1.000000</td>\n",
       "      <td>0.011920</td>\n",
       "      <td>0.010625</td>\n",
       "      <td>-0.019202</td>\n",
       "      <td>-0.011222</td>\n",
       "      <td>-0.024132</td>\n",
       "      <td>-0.000051</td>\n",
       "      <td>0.051972</td>\n",
       "      <td>...</td>\n",
       "      <td>0.258603</td>\n",
       "      <td>0.205671</td>\n",
       "      <td>0.226312</td>\n",
       "      <td>0.231072</td>\n",
       "      <td>0.005762</td>\n",
       "      <td>0.184407</td>\n",
       "      <td>0.105783</td>\n",
       "      <td>0.075892</td>\n",
       "      <td>0.210240</td>\n",
       "      <td>0.167524</td>\n",
       "    </tr>\n",
       "    <tr>\n",
       "      <th>TransactionAmt</th>\n",
       "      <td>0.012025</td>\n",
       "      <td>0.011320</td>\n",
       "      <td>0.011920</td>\n",
       "      <td>1.000000</td>\n",
       "      <td>-0.005725</td>\n",
       "      <td>0.016136</td>\n",
       "      <td>-0.109785</td>\n",
       "      <td>0.003061</td>\n",
       "      <td>-0.007421</td>\n",
       "      <td>0.028312</td>\n",
       "      <td>...</td>\n",
       "      <td>0.003909</td>\n",
       "      <td>0.024319</td>\n",
       "      <td>0.010808</td>\n",
       "      <td>0.017385</td>\n",
       "      <td>0.078751</td>\n",
       "      <td>0.044830</td>\n",
       "      <td>0.070651</td>\n",
       "      <td>0.129452</td>\n",
       "      <td>0.082064</td>\n",
       "      <td>0.105996</td>\n",
       "    </tr>\n",
       "    <tr>\n",
       "      <th>card1</th>\n",
       "      <td>0.010122</td>\n",
       "      <td>-0.013640</td>\n",
       "      <td>0.010625</td>\n",
       "      <td>-0.005725</td>\n",
       "      <td>1.000000</td>\n",
       "      <td>0.004960</td>\n",
       "      <td>0.002965</td>\n",
       "      <td>-0.093633</td>\n",
       "      <td>0.020369</td>\n",
       "      <td>-0.000060</td>\n",
       "      <td>...</td>\n",
       "      <td>0.146483</td>\n",
       "      <td>0.121763</td>\n",
       "      <td>0.133150</td>\n",
       "      <td>0.136557</td>\n",
       "      <td>-0.001903</td>\n",
       "      <td>0.080603</td>\n",
       "      <td>0.050555</td>\n",
       "      <td>0.036052</td>\n",
       "      <td>0.118885</td>\n",
       "      <td>0.091271</td>\n",
       "    </tr>\n",
       "  </tbody>\n",
       "</table>\n",
       "<p>5 rows × 380 columns</p>\n",
       "</div>"
      ],
      "text/plain": [
       "                TransactionID   isFraud  TransactionDT  TransactionAmt  \\\n",
       "TransactionID        1.000000  0.014166       0.998280        0.012025   \n",
       "isFraud              0.014166  1.000000       0.013103        0.011320   \n",
       "TransactionDT        0.998280  0.013103       1.000000        0.011920   \n",
       "TransactionAmt       0.012025  0.011320       0.011920        1.000000   \n",
       "card1                0.010122 -0.013640       0.010625       -0.005725   \n",
       "\n",
       "                   card1     card2     card3     card5     addr1     addr2  \\\n",
       "TransactionID   0.010122 -0.019900 -0.010091 -0.023900 -0.000370  0.057213   \n",
       "isFraud        -0.013640  0.003388  0.154151 -0.033580  0.005596 -0.030387   \n",
       "TransactionDT   0.010625 -0.019202 -0.011222 -0.024132 -0.000051  0.051972   \n",
       "TransactionAmt -0.005725  0.016136 -0.109785  0.003061 -0.007421  0.028312   \n",
       "card1           1.000000  0.004960  0.002965 -0.093633  0.020369 -0.000060   \n",
       "\n",
       "                  ...         V330      V331      V332      V333      V334  \\\n",
       "TransactionID     ...     0.250831  0.199285  0.219190  0.223816  0.005893   \n",
       "isFraud           ...    -0.021164 -0.021982 -0.023468 -0.024134 -0.000451   \n",
       "TransactionDT     ...     0.258603  0.205671  0.226312  0.231072  0.005762   \n",
       "TransactionAmt    ...     0.003909  0.024319  0.010808  0.017385  0.078751   \n",
       "card1             ...     0.146483  0.121763  0.133150  0.136557 -0.001903   \n",
       "\n",
       "                    V335      V336      V337      V338      V339  \n",
       "TransactionID   0.179740  0.103030  0.074034  0.203922  0.162702  \n",
       "isFraud        -0.005456 -0.002402 -0.005702 -0.019356 -0.014663  \n",
       "TransactionDT   0.184407  0.105783  0.075892  0.210240  0.167524  \n",
       "TransactionAmt  0.044830  0.070651  0.129452  0.082064  0.105996  \n",
       "card1           0.080603  0.050555  0.036052  0.118885  0.091271  \n",
       "\n",
       "[5 rows x 380 columns]"
      ]
     },
     "execution_count": 139,
     "metadata": {},
     "output_type": "execute_result"
    }
   ],
   "source": [
    "tx_correlations[(tx_correlations > 0.7).any(axis=1) | (tx_correlations < -0.7).any(axis=1)]"
   ]
  },
  {
   "cell_type": "code",
   "execution_count": null,
   "metadata": {},
   "outputs": [],
   "source": []
  }
 ],
 "metadata": {
  "kernelspec": {
   "display_name": "Python 3",
   "language": "python",
   "name": "python3"
  },
  "language_info": {
   "codemirror_mode": {
    "name": "ipython",
    "version": 3
   },
   "file_extension": ".py",
   "mimetype": "text/x-python",
   "name": "python",
   "nbconvert_exporter": "python",
   "pygments_lexer": "ipython3",
   "version": "3.6.2"
  }
 },
 "nbformat": 4,
 "nbformat_minor": 2
}
