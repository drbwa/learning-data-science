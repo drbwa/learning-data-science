{
 "cells": [
  {
   "cell_type": "markdown",
   "metadata": {},
   "source": [
    "TODO\n",
    "\n",
    "* [ ] Basic overview of data\n",
    "* [ ] Determine proportion of fraud / not fraud in train set\n",
    "* [ ] Explore distributions of values and missing values for most columns\n",
    "* [ ] Compare distributions of variables for fraud versus not fraud in train\n",
    "* [ ] Determine correlations of colums (pair-wise or more) with fraud\n",
    "* [ ] Explore transaction amounts and their correlation with fraud\n",
    "* [ ] Compare time delta between train and test set\n",
    "* [ ] Types of credit cards, devices\n",
    "* [ ] Explore product codes and their correlation with fraud\n",
    "* [ ] Create a dictionary of columns (device type, type of card, credit card company, etc.)\n",
    "* [ ] Try some techniques to rank feature importance\n",
    "* [ ] Try to build some basic decision trees for individual, pairs, groups of features\n",
    "* [ ] Try to build a manual model that applies heuristics to some column values to determine fraud based on your analysis\n",
    "* [ ] Try computing z-scores on `TransactionAmt` and see if you can detect strong outliers\n",
    "* [ ] Maybe turn this into a timeseries and see if you can detect anomalies"
   ]
  },
  {
   "cell_type": "code",
   "execution_count": null,
   "metadata": {},
   "outputs": [],
   "source": []
  }
 ],
 "metadata": {
  "kernelspec": {
   "display_name": "Python 3",
   "language": "python",
   "name": "python3"
  },
  "language_info": {
   "codemirror_mode": {
    "name": "ipython",
    "version": 3
   },
   "file_extension": ".py",
   "mimetype": "text/x-python",
   "name": "python",
   "nbconvert_exporter": "python",
   "pygments_lexer": "ipython3",
   "version": "3.6.2"
  }
 },
 "nbformat": 4,
 "nbformat_minor": 2
}
