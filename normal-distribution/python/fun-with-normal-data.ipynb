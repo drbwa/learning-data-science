{
 "cells": [
  {
   "cell_type": "markdown",
   "metadata": {},
   "source": [
    "# Fun with normal data in Python\n",
    "\n",
    "* How to glean information about the distribution of data by computing basic descriptive statistics.\n",
    "* Visual analysis of normality. \n",
    "* Formal normality tests. \n",
    "* How to normalise measurements and compute z scores. \n",
    "* Calculate proportion of observations less / greater than a value. \n",
    "* Calculate proportion of observations between two values. \n",
    "\n",
    "The main dataset I am using consists of 25,000 synthetic records of human heights and weights: [data set](http://wiki.stat.ucla.edu/socr/index.php/SOCR_Data_Dinov_020108_HeightsWeights).\n",
    "\n",
    "My code and descriptions may contain errors."
   ]
  },
  {
   "cell_type": "code",
   "execution_count": null,
   "metadata": {},
   "outputs": [],
   "source": [
    "import pandas as pd\n",
    "import matplotlib.pyplot as plt\n",
    "import scipy.stats as stats\n",
    "import numpy as np\n",
    "import seaborn as sns"
   ]
  },
  {
   "cell_type": "markdown",
   "metadata": {},
   "source": [
    "## Load data and cleanup"
   ]
  },
  {
   "cell_type": "code",
   "execution_count": 2,
   "metadata": {},
   "outputs": [],
   "source": [
    "# parse the table from an HTML file and clean up the dataframe a bit\n",
    "heights_table = pd.read_html('../data/SOCR_Data_Dinov_020108_HeightsWeights.html')\n",
    "# get our dataframe from index 0\n",
    "heights_df = heights_table[0]"
   ]
  },
  {
   "cell_type": "code",
   "execution_count": 3,
   "metadata": {},
   "outputs": [
    {
     "data": {
      "text/html": [
       "<div>\n",
       "<style scoped>\n",
       "    .dataframe tbody tr th:only-of-type {\n",
       "        vertical-align: middle;\n",
       "    }\n",
       "\n",
       "    .dataframe tbody tr th {\n",
       "        vertical-align: top;\n",
       "    }\n",
       "\n",
       "    .dataframe thead th {\n",
       "        text-align: right;\n",
       "    }\n",
       "</style>\n",
       "<table border=\"1\" class=\"dataframe\">\n",
       "  <thead>\n",
       "    <tr style=\"text-align: right;\">\n",
       "      <th></th>\n",
       "      <th>Height (inches)</th>\n",
       "      <th>Weight (pounds)</th>\n",
       "    </tr>\n",
       "    <tr>\n",
       "      <th>Index</th>\n",
       "      <th></th>\n",
       "      <th></th>\n",
       "    </tr>\n",
       "  </thead>\n",
       "  <tbody>\n",
       "    <tr>\n",
       "      <th>4394</th>\n",
       "      <td>68.10745</td>\n",
       "      <td>132.0081</td>\n",
       "    </tr>\n",
       "    <tr>\n",
       "      <th>20692</th>\n",
       "      <td>68.41290</td>\n",
       "      <td>130.3184</td>\n",
       "    </tr>\n",
       "    <tr>\n",
       "      <th>8359</th>\n",
       "      <td>67.71834</td>\n",
       "      <td>124.1642</td>\n",
       "    </tr>\n",
       "    <tr>\n",
       "      <th>11706</th>\n",
       "      <td>69.90933</td>\n",
       "      <td>145.0568</td>\n",
       "    </tr>\n",
       "    <tr>\n",
       "      <th>16378</th>\n",
       "      <td>68.90454</td>\n",
       "      <td>145.1237</td>\n",
       "    </tr>\n",
       "    <tr>\n",
       "      <th>7012</th>\n",
       "      <td>67.80572</td>\n",
       "      <td>138.3332</td>\n",
       "    </tr>\n",
       "    <tr>\n",
       "      <th>2056</th>\n",
       "      <td>65.57359</td>\n",
       "      <td>107.7067</td>\n",
       "    </tr>\n",
       "    <tr>\n",
       "      <th>948</th>\n",
       "      <td>69.21225</td>\n",
       "      <td>130.8805</td>\n",
       "    </tr>\n",
       "    <tr>\n",
       "      <th>17736</th>\n",
       "      <td>69.18731</td>\n",
       "      <td>133.4524</td>\n",
       "    </tr>\n",
       "    <tr>\n",
       "      <th>18082</th>\n",
       "      <td>67.50863</td>\n",
       "      <td>124.7257</td>\n",
       "    </tr>\n",
       "  </tbody>\n",
       "</table>\n",
       "</div>"
      ],
      "text/plain": [
       "       Height (inches)  Weight (pounds)\n",
       "Index                                  \n",
       "4394          68.10745         132.0081\n",
       "20692         68.41290         130.3184\n",
       "8359          67.71834         124.1642\n",
       "11706         69.90933         145.0568\n",
       "16378         68.90454         145.1237\n",
       "7012          67.80572         138.3332\n",
       "2056          65.57359         107.7067\n",
       "948           69.21225         130.8805\n",
       "17736         69.18731         133.4524\n",
       "18082         67.50863         124.7257"
      ]
     },
     "execution_count": 3,
     "metadata": {},
     "output_type": "execute_result"
    }
   ],
   "source": [
    "# set some meaningful column names\n",
    "heights_df.columns = ['Index', \"Height (inches)\", \"Weight (pounds)\"]\n",
    "# set the index\n",
    "heights_df = heights_df.set_index(\"Index\")\n",
    "# get rid of the first row of textual values\n",
    "heights_df = heights_df.iloc[1:]\n",
    "# convert the two columns from strings to float64\n",
    "heights_df[['Height (inches)', 'Weight (pounds)']] = heights_df[['Height (inches)', 'Weight (pounds)']].apply(pd.to_numeric)\n",
    "heights_df.sample(10)"
   ]
  },
  {
   "cell_type": "code",
   "execution_count": 4,
   "metadata": {},
   "outputs": [
    {
     "data": {
      "text/plain": [
       "(25000, 2)"
      ]
     },
     "execution_count": 4,
     "metadata": {},
     "output_type": "execute_result"
    }
   ],
   "source": [
    "# double-check to make sure we did not lose any data\n",
    "heights_df.shape"
   ]
  },
  {
   "cell_type": "code",
   "execution_count": 5,
   "metadata": {},
   "outputs": [
    {
     "data": {
      "text/plain": [
       "Height (inches)    float64\n",
       "Weight (pounds)    float64\n",
       "dtype: object"
      ]
     },
     "execution_count": 5,
     "metadata": {},
     "output_type": "execute_result"
    }
   ],
   "source": [
    "# and that it is of the desired data type\n",
    "heights_df.dtypes"
   ]
  },
  {
   "cell_type": "markdown",
   "metadata": {},
   "source": [
    "## Inspect distribution"
   ]
  },
  {
   "cell_type": "code",
   "execution_count": 6,
   "metadata": {},
   "outputs": [],
   "source": [
    "col_name_height = 'Height (inches)'\n",
    "col_name_weight = 'Weight (pounds)'"
   ]
  },
  {
   "cell_type": "code",
   "execution_count": 7,
   "metadata": {},
   "outputs": [
    {
     "data": {
      "text/html": [
       "<div>\n",
       "<style scoped>\n",
       "    .dataframe tbody tr th:only-of-type {\n",
       "        vertical-align: middle;\n",
       "    }\n",
       "\n",
       "    .dataframe tbody tr th {\n",
       "        vertical-align: top;\n",
       "    }\n",
       "\n",
       "    .dataframe thead th {\n",
       "        text-align: right;\n",
       "    }\n",
       "</style>\n",
       "<table border=\"1\" class=\"dataframe\">\n",
       "  <thead>\n",
       "    <tr style=\"text-align: right;\">\n",
       "      <th></th>\n",
       "      <th>Height (inches)</th>\n",
       "      <th>Weight (pounds)</th>\n",
       "    </tr>\n",
       "  </thead>\n",
       "  <tbody>\n",
       "    <tr>\n",
       "      <th>count</th>\n",
       "      <td>25000.000000</td>\n",
       "      <td>25000.000000</td>\n",
       "    </tr>\n",
       "    <tr>\n",
       "      <th>mean</th>\n",
       "      <td>67.993114</td>\n",
       "      <td>127.079421</td>\n",
       "    </tr>\n",
       "    <tr>\n",
       "      <th>std</th>\n",
       "      <td>1.901679</td>\n",
       "      <td>11.660898</td>\n",
       "    </tr>\n",
       "    <tr>\n",
       "      <th>min</th>\n",
       "      <td>60.278360</td>\n",
       "      <td>78.014760</td>\n",
       "    </tr>\n",
       "    <tr>\n",
       "      <th>25%</th>\n",
       "      <td>66.704397</td>\n",
       "      <td>119.308675</td>\n",
       "    </tr>\n",
       "    <tr>\n",
       "      <th>50%</th>\n",
       "      <td>67.995700</td>\n",
       "      <td>127.157750</td>\n",
       "    </tr>\n",
       "    <tr>\n",
       "      <th>75%</th>\n",
       "      <td>69.272958</td>\n",
       "      <td>134.892850</td>\n",
       "    </tr>\n",
       "    <tr>\n",
       "      <th>max</th>\n",
       "      <td>75.152800</td>\n",
       "      <td>170.924000</td>\n",
       "    </tr>\n",
       "  </tbody>\n",
       "</table>\n",
       "</div>"
      ],
      "text/plain": [
       "       Height (inches)  Weight (pounds)\n",
       "count     25000.000000     25000.000000\n",
       "mean         67.993114       127.079421\n",
       "std           1.901679        11.660898\n",
       "min          60.278360        78.014760\n",
       "25%          66.704397       119.308675\n",
       "50%          67.995700       127.157750\n",
       "75%          69.272958       134.892850\n",
       "max          75.152800       170.924000"
      ]
     },
     "execution_count": 7,
     "metadata": {},
     "output_type": "execute_result"
    }
   ],
   "source": [
    "# summary of data\n",
    "heights_df.describe()"
   ]
  },
  {
   "cell_type": "markdown",
   "metadata": {},
   "source": [
    "There seems to be less variance in the height measurements than in the weight measurements. I guess this could be due to the fact that human beings vary less in height than in weight. That is, there is more or less a 'normal' range of heights, but someone's weight can fluctuate more significantly.\n",
    "\n",
    "The `mean` and `median` for both variables are quite close to each other, which indicates a symmetric data distribution. In addition, the density plots for both variables look normal."
   ]
  },
  {
   "cell_type": "code",
   "execution_count": 8,
   "metadata": {},
   "outputs": [
    {
     "data": {
      "text/plain": [
       "array([<matplotlib.axes._subplots.AxesSubplot object at 0x1a1e9b3d30>,\n",
       "       <matplotlib.axes._subplots.AxesSubplot object at 0x1a1eaeff60>],\n",
       "      dtype=object)"
      ]
     },
     "execution_count": 8,
     "metadata": {},
     "output_type": "execute_result"
    },
    {
     "data": {
      "image/png": "[encoded data removed]",
      "text/plain": [
       "<Figure size 864x576 with 2 Axes>"
      ]
     },
     "metadata": {
      "needs_background": "light"
     },
     "output_type": "display_data"
    }
   ],
   "source": [
    "heights_df.plot.density(subplots=True, figsize=(12, 8), sharex=False)"
   ]
  },
  {
   "cell_type": "code",
   "execution_count": 9,
   "metadata": {},
   "outputs": [
    {
     "data": {
      "text/plain": [
       "Height (inches)       AxesSubplot(0.125,0.125;0.352273x0.755)\n",
       "Weight (pounds)    AxesSubplot(0.547727,0.125;0.352273x0.755)\n",
       "dtype: object"
      ]
     },
     "execution_count": 9,
     "metadata": {},
     "output_type": "execute_result"
    },
    {
     "data": {
      "image/png": "[encoded data removed]",
      "text/plain": [
       "<Figure size 864x576 with 2 Axes>"
      ]
     },
     "metadata": {
      "needs_background": "light"
     },
     "output_type": "display_data"
    }
   ],
   "source": [
    "heights_df.plot.box(subplots=True, figsize=(12, 8))"
   ]
  },
  {
   "cell_type": "markdown",
   "metadata": {},
   "source": [
    "The box plots make it appear as though there were quite a few outliers in both variables. How many outliers are there? \n",
    "\n",
    "We can standardise the measurements by calculating their z-scores and then test for outliers by checking which measurements are three or more standard deviations away from the mean. Such measurements can be considered fairly 'unlikely' or extreme given given the overall distribution of all measurements.\n",
    "\n",
    "z-scores are calculated as follows: $z = \\frac{x - \\mu}{\\sigma}$.\n",
    "\n",
    "Making use of the 68-95-99.7 or Three Sigma rule is possible for normally distributed data, in which the standard deviation indicates the average distance of observed values from the mean. For non-normal distributions, you can make use of [Chebyshev's Inequality](https://en.wikipedia.org/wiki/Chebyshev's_inequality)."
   ]
  },
  {
   "cell_type": "code",
   "execution_count": 10,
   "metadata": {},
   "outputs": [
    {
     "name": "stdout",
     "output_type": "stream",
     "text": [
      "Number of outliers in Height (inches) is 51\n",
      "proportion of outliers: 0.204%,\n",
      "mean: 3.3217446896327747,\n",
      "median: 3.261271323083352,\n",
      "(min, max): (3.0122059780250807, 4.056893316219705)\n",
      "percentiles (90, 95, 99): ([3.74589346 3.77216362 3.96899817])\n",
      "\n",
      "\n",
      "Number of outliers in Weight (pounds) is 69\n",
      "proportion of outliers: 0.276%,\n",
      "mean: 3.3135150921856384,\n",
      "median: 3.2232193409056125,\n",
      "(min, max): (3.0002646340848855, 4.20770718684688)\n",
      "percentiles (90, 95, 99): ([3.68305539 3.76773749 4.17545335])\n"
     ]
    }
   ],
   "source": [
    "z_scores_heights = np.abs(stats.zscore(heights_df[col_name_height]))\n",
    "\n",
    "# outliers_height_idx contains the indices at which z_scores_heights contains elements that satisfy the condition. \n",
    "# In this case, the array is one-dimensional (i.e. multiple rows with a single column).\n",
    "outliers_height_idx = np.where(z_scores_heights > 3)[0]\n",
    "proportion_outliers_height = len(outliers_height_idx) / len(heights_df) * 100\n",
    "\n",
    "z_scores_weights = np.abs(stats.zscore(heights_df[col_name_weight]))\n",
    "\n",
    "# outliers_weight_idx contains the indices of z_scores_weights whose elements have a z-score greater than 3\n",
    "outliers_weight_idx = np.where(z_scores_weights > 3)[0]\n",
    "proportion_outliers_weight = len(outliers_weight_idx) / len(heights_df) * 100\n",
    "\n",
    "# using the indices matching the condition specified in the np.where condition in order to retrieve the corresponding \n",
    "# z-scores\n",
    "outliers_height = z_scores_heights[outliers_height_idx]\n",
    "outliers_weight = z_scores_weights[outliers_weight_idx]\n",
    "\n",
    "print(f\"Number of outliers in {col_name_height} is {len(outliers_height_idx)}\\n\"\\\n",
    "      f\"proportion of outliers: {proportion_outliers_height:.3f}%,\\n\"\\\n",
    "      f\"mean: {np.mean(outliers_height)},\\n\"\\\n",
    "      f\"median: {np.median(outliers_height)},\\n\"\\\n",
    "      f\"(min, max): ({np.min(outliers_height)}, {np.max(outliers_height)})\\n\"\\\n",
    "      f\"percentiles (90, 95, 99): ({np.percentile(outliers_height, [90, 95, 99])})\")\n",
    "print(\"\\n\")\n",
    "print(f\"Number of outliers in {col_name_weight} is {len(outliers_weight_idx)}\\n\"\\\n",
    "      f\"proportion of outliers: {proportion_outliers_weight:.3f}%,\\n\"\\\n",
    "      f\"mean: {np.mean(outliers_weight)},\\n\"\\\n",
    "      f\"median: {np.median(outliers_weight)},\\n\"\\\n",
    "      f\"(min, max): ({np.min(outliers_weight)}, {np.max(outliers_weight)})\\n\"\\\n",
    "      f\"percentiles (90, 95, 99): ({np.percentile(outliers_weight, [90, 95, 99])})\")"
   ]
  },
  {
   "cell_type": "markdown",
   "metadata": {},
   "source": [
    "There are some extreme (i.e. more than three standard deviations away from the mean) values, but their propotion in the overall dataset is low. These outliers may either be due to a natural degree of variance or due to an error in measurement or recording the observations. Difficult to tell."
   ]
  },
  {
   "cell_type": "markdown",
   "metadata": {},
   "source": [
    "Let's try to examine if the outliers in height and weight are related to each other. That is, if an individual has an outlier for one value (e.g., height), does the same individual also have an outlier for the other value (e.g., weight)?"
   ]
  },
  {
   "cell_type": "code",
   "execution_count": 11,
   "metadata": {},
   "outputs": [],
   "source": [
    "heights_df['Z-Scores-Height'] = z_scores_heights\n",
    "heights_df['Z-Scores-Weight'] = z_scores_weights"
   ]
  },
  {
   "cell_type": "code",
   "execution_count": 12,
   "metadata": {},
   "outputs": [
    {
     "data": {
      "text/html": [
       "<div>\n",
       "<style scoped>\n",
       "    .dataframe tbody tr th:only-of-type {\n",
       "        vertical-align: middle;\n",
       "    }\n",
       "\n",
       "    .dataframe tbody tr th {\n",
       "        vertical-align: top;\n",
       "    }\n",
       "\n",
       "    .dataframe thead th {\n",
       "        text-align: right;\n",
       "    }\n",
       "</style>\n",
       "<table border=\"1\" class=\"dataframe\">\n",
       "  <thead>\n",
       "    <tr style=\"text-align: right;\">\n",
       "      <th></th>\n",
       "      <th>Height (inches)</th>\n",
       "      <th>Weight (pounds)</th>\n",
       "      <th>Z-Scores-Height</th>\n",
       "      <th>Z-Scores-Weight</th>\n",
       "    </tr>\n",
       "    <tr>\n",
       "      <th>Index</th>\n",
       "      <th></th>\n",
       "      <th></th>\n",
       "      <th></th>\n",
       "      <th></th>\n",
       "    </tr>\n",
       "  </thead>\n",
       "  <tbody>\n",
       "    <tr>\n",
       "      <th>2652</th>\n",
       "      <td>60.61265</td>\n",
       "      <td>88.04646</td>\n",
       "      <td>3.881103</td>\n",
       "      <td>3.347405</td>\n",
       "    </tr>\n",
       "    <tr>\n",
       "      <th>10241</th>\n",
       "      <td>61.93152</td>\n",
       "      <td>85.29040</td>\n",
       "      <td>3.187560</td>\n",
       "      <td>3.583760</td>\n",
       "    </tr>\n",
       "    <tr>\n",
       "      <th>10331</th>\n",
       "      <td>74.36328</td>\n",
       "      <td>164.66430</td>\n",
       "      <td>3.349826</td>\n",
       "      <td>3.223219</td>\n",
       "    </tr>\n",
       "    <tr>\n",
       "      <th>14107</th>\n",
       "      <td>61.90725</td>\n",
       "      <td>78.56785</td>\n",
       "      <td>3.200322</td>\n",
       "      <td>4.160275</td>\n",
       "    </tr>\n",
       "    <tr>\n",
       "      <th>17080</th>\n",
       "      <td>74.29570</td>\n",
       "      <td>170.54790</td>\n",
       "      <td>3.314289</td>\n",
       "      <td>3.727788</td>\n",
       "    </tr>\n",
       "    <tr>\n",
       "      <th>22946</th>\n",
       "      <td>61.92639</td>\n",
       "      <td>78.01476</td>\n",
       "      <td>3.190257</td>\n",
       "      <td>4.207707</td>\n",
       "    </tr>\n",
       "  </tbody>\n",
       "</table>\n",
       "</div>"
      ],
      "text/plain": [
       "       Height (inches)  Weight (pounds)  Z-Scores-Height  Z-Scores-Weight\n",
       "Index                                                                    \n",
       "2652          60.61265         88.04646         3.881103         3.347405\n",
       "10241         61.93152         85.29040         3.187560         3.583760\n",
       "10331         74.36328        164.66430         3.349826         3.223219\n",
       "14107         61.90725         78.56785         3.200322         4.160275\n",
       "17080         74.29570        170.54790         3.314289         3.727788\n",
       "22946         61.92639         78.01476         3.190257         4.207707"
      ]
     },
     "execution_count": 12,
     "metadata": {},
     "output_type": "execute_result"
    }
   ],
   "source": [
    "heights_df[(heights_df['Z-Scores-Height'] > 3.0) & (heights_df['Z-Scores-Weight'] > 3.0)]"
   ]
  },
  {
   "cell_type": "markdown",
   "metadata": {},
   "source": [
    "In only six individuals out of 25,000 (or six individuals out of a few dozen outliers) does an unusual height coincide with an unusual weight."
   ]
  },
  {
   "cell_type": "markdown",
   "metadata": {},
   "source": [
    "Continuing to examine the question of normality, we can use a Normal-Quantile or Quantile-Quantile plot. This kind of plot allows us to test visually how well the actual measurements fit a theoretical distribution. In this case, the Q-Q plots confirm that the data appear to be normally distributed."
   ]
  },
  {
   "cell_type": "code",
   "execution_count": 13,
   "metadata": {},
   "outputs": [
    {
     "data": {
      "image/png": "[encoded data removed]",
      "text/plain": [
       "<Figure size 432x288 with 1 Axes>"
      ]
     },
     "metadata": {
      "needs_background": "light"
     },
     "output_type": "display_data"
    }
   ],
   "source": [
    "stats.probplot(heights_df[col_name_height], dist='norm', plot=plt)\n",
    "plt.title(f\"Normal-Quantile plot for {col_name_height}\")\n",
    "plt.show()"
   ]
  },
  {
   "cell_type": "code",
   "execution_count": 14,
   "metadata": {},
   "outputs": [
    {
     "data": {
      "image/png": "[encoded data removed]",
      "text/plain": [
       "<Figure size 432x288 with 1 Axes>"
      ]
     },
     "metadata": {
      "needs_background": "light"
     },
     "output_type": "display_data"
    }
   ],
   "source": [
    "stats.probplot(heights_df[col_name_weight], dist='norm', plot=plt)\n",
    "plt.title(f\"Normal-Quantile plot for {col_name_weight}\")\n",
    "plt.show()"
   ]
  },
  {
   "cell_type": "markdown",
   "metadata": {},
   "source": [
    "Another way of going about a quantile-quantile plot [Normal Q-Q plot](http://scientificpythonsnippets.com/index.php/distributions/6-q-q-plot-in-python-to-test-if-data-is-normally-distributed).\n",
    "\n",
    "We can also use a more formal test of normality. For instance, the Shapiro-Wilk test examines the null hypothesis that states that the data was drawn from a normal distribution. If it returns $\\text{p-value} \\lt 0.05$, then we reject the null hypothesis in favour of the alternative hypothesis that the data is not normally distributed. Otherwise, we fail to reject the null hypothesis and assume that the data is normally distributed."
   ]
  },
  {
   "cell_type": "code",
   "execution_count": 15,
   "metadata": {},
   "outputs": [
    {
     "name": "stdout",
     "output_type": "stream",
     "text": [
      "p: 0.7015516757965088\n",
      "The Height (inches) data appears to be normally distributed with a p-value of 0.7015516757965088.\n"
     ]
    },
    {
     "name": "stderr",
     "output_type": "stream",
     "text": [
      "/anaconda3/envs/py362scipy/lib/python3.6/site-packages/scipy/stats/morestats.py:1309: UserWarning: p-value may not be accurate for N > 5000.\n",
      "  warnings.warn(\"p-value may not be accurate for N > 5000.\")\n"
     ]
    }
   ],
   "source": [
    "# Shapiro-Wilk test on heights\n",
    "W, p = stats.shapiro(heights_df[col_name_height])\n",
    "print(f\"p: {p}\")\n",
    "if p < 0.05:\n",
    "    print(f\"The {col_name_height} data is not normally distributed with a p-value of {p}.\")\n",
    "elif p >= 0.05:\n",
    "    print(f\"The {col_name_height} data appears to be normally distributed with a p-value of {p}.\")\n",
    "elif math.isnan(p):\n",
    "    print(\"Something went wrong.\")"
   ]
  },
  {
   "cell_type": "code",
   "execution_count": 16,
   "metadata": {},
   "outputs": [
    {
     "name": "stdout",
     "output_type": "stream",
     "text": [
      "p: 0.40950363874435425\n",
      "The Weight (pounds) data appears to be normally distributed with a p-value of 0.40950363874435425.\n"
     ]
    },
    {
     "name": "stderr",
     "output_type": "stream",
     "text": [
      "/anaconda3/envs/py362scipy/lib/python3.6/site-packages/scipy/stats/morestats.py:1309: UserWarning: p-value may not be accurate for N > 5000.\n",
      "  warnings.warn(\"p-value may not be accurate for N > 5000.\")\n"
     ]
    }
   ],
   "source": [
    "# Shapiro-Wilk test on weights\n",
    "W, p = stats.shapiro(heights_df[col_name_weight])\n",
    "print(f\"p: {p}\")\n",
    "if p < 0.05:\n",
    "    print(f\"The {col_name_weight} data is not normally distributed with a p-value of {p}.\")\n",
    "elif p >= 0.05:\n",
    "    print(f\"The {col_name_weight} data appears to be normally distributed with a p-value of {p}.\")\n",
    "elif math.isnan(p):\n",
    "    print(\"Something went wrong.\")"
   ]
  },
  {
   "cell_type": "markdown",
   "metadata": {},
   "source": [
    "**However**, the Shapiro-Wilk test is not accurate for large datasets with $n \\gt 5,000$. In fact, for large datasets, formal normality tests tend to be quite sensitive to any deviation from normality, so that even a small deviation may result in classifiying the variable to be from a non-normal distribution. \n",
    "\n",
    "I guess, for 'large' datasets, you could assume that the Central Limit Theorem (CLT) is in effect and therefore rely at most on visual inspection (e.g., via Q-Q plots) to confirm that this is the case. While this manual approach may work well for small numbers of univariate metrics, it is probably less fitting for handling large numbers of such variables.\n",
    "\n",
    "Another question is how to determine what 'large enough' is for a given dataset or how its distribution affects this decision. The CLT states that:\n",
    "\n",
    "> Given an infinite set of random and independent samples of N observations each, the distribution of sample means approaches normality as the size of N increases, regardless of the sampling distribution or of the population distribution. \n",
    "\n",
    "So, if you take infinitely many independent samples and calculate the mean of each, then the distribution of those means would be normally distributed. And this is true, even if the sample distributions itself are not at all normal (e.g., exponential). \n",
    "\n",
    "How large $N$ needs to be depends on the distribution/shape of the population. A rule of thumb that has been discovered experimentally (by running Monte Carlo simulations) states that $N \\ge 30$ is sufficient for the CLT to be in effect and thus for the assumption of Normality to hold for even the most non-normal data. Such values of $N$ should be fairly common in the era of handling Big Data.\n",
    "\n",
    "An interesting discussion on the topic of normality testing can be found here: [Is normality testing 'essentially useless'?](https://stats.stackexchange.com/questions/2492/is-normality-testing-essentially-useless?newreg=1e4942f66879426da620a8366f24c282).\n",
    "\n",
    "There is a great explanation of what constitutes a 'large enough' dataset for the Central Limit Theorem to take effect here: [The Assumption(s) of Normality](http://www2.psychology.uiowa.edu/faculty/mordkoff/GradStats/part%201/I.07%20normal.pdf). \n",
    "\n",
    "On another note, above, we have tested the distribution of each sample. When you want to apply a parametric significance test to compare two samples for a statistically significant difference (e.g., Student's t-test), then:\n",
    "* when dealing with two independent samples, test that both samples $x$ and $y$ are normally distributed\n",
    "* when dealing with two paired samples, test that the difference between both samples $x - y$ is normally distributed.\n",
    "\n",
    "This is in addition to testing any of the other assumptions made by the test you want to apply.\n",
    "\n",
    "More information on this topic: [T-test analysis](http://www.sthda.com/english/wiki/t-test-analysis-is-it-always-correct-to-compare-means)."
   ]
  },
  {
   "cell_type": "markdown",
   "metadata": {},
   "source": [
    "## Calculate proportions\n",
    "\n",
    "Next, I want to answer several questions given the density function of the measurements.\n",
    "1. What proportion of measurements are at or below a given value?\n",
    "2. What proportion of measurements are above a given value?\n",
    "3. What proportion of measurements are between two values?"
   ]
  },
  {
   "cell_type": "markdown",
   "metadata": {},
   "source": [
    "First, we will get the values corresponding to the 25th 50th, 75th, 90th, 95th and 99th percentile and then we calculate the proportion of measurements that fall at or below these values (as a way to double-check our results :-)."
   ]
  },
  {
   "cell_type": "code",
   "execution_count": 17,
   "metadata": {},
   "outputs": [
    {
     "data": {
      "text/html": [
       "<div>\n",
       "<style scoped>\n",
       "    .dataframe tbody tr th:only-of-type {\n",
       "        vertical-align: middle;\n",
       "    }\n",
       "\n",
       "    .dataframe tbody tr th {\n",
       "        vertical-align: top;\n",
       "    }\n",
       "\n",
       "    .dataframe thead th {\n",
       "        text-align: right;\n",
       "    }\n",
       "</style>\n",
       "<table border=\"1\" class=\"dataframe\">\n",
       "  <thead>\n",
       "    <tr style=\"text-align: right;\">\n",
       "      <th></th>\n",
       "      <th>percentile</th>\n",
       "      <th>value at percentile</th>\n",
       "      <th>proportion under value</th>\n",
       "    </tr>\n",
       "  </thead>\n",
       "  <tbody>\n",
       "    <tr>\n",
       "      <th>0</th>\n",
       "      <td>25</td>\n",
       "      <td>66.704397</td>\n",
       "      <td>0.248985</td>\n",
       "    </tr>\n",
       "    <tr>\n",
       "      <th>1</th>\n",
       "      <td>50</td>\n",
       "      <td>67.995700</td>\n",
       "      <td>0.500543</td>\n",
       "    </tr>\n",
       "    <tr>\n",
       "      <th>2</th>\n",
       "      <td>75</td>\n",
       "      <td>69.272958</td>\n",
       "      <td>0.749533</td>\n",
       "    </tr>\n",
       "    <tr>\n",
       "      <th>3</th>\n",
       "      <td>90</td>\n",
       "      <td>70.445094</td>\n",
       "      <td>0.901371</td>\n",
       "    </tr>\n",
       "    <tr>\n",
       "      <th>4</th>\n",
       "      <td>95</td>\n",
       "      <td>71.110197</td>\n",
       "      <td>0.949409</td>\n",
       "    </tr>\n",
       "    <tr>\n",
       "      <th>5</th>\n",
       "      <td>99</td>\n",
       "      <td>72.372215</td>\n",
       "      <td>0.989355</td>\n",
       "    </tr>\n",
       "  </tbody>\n",
       "</table>\n",
       "</div>"
      ],
      "text/plain": [
       "   percentile  value at percentile  proportion under value\n",
       "0          25            66.704397                0.248985\n",
       "1          50            67.995700                0.500543\n",
       "2          75            69.272958                0.749533\n",
       "3          90            70.445094                0.901371\n",
       "4          95            71.110197                0.949409\n",
       "5          99            72.372215                0.989355"
      ]
     },
     "execution_count": 17,
     "metadata": {},
     "output_type": "execute_result"
    }
   ],
   "source": [
    "# calculate cummulative proportions for height values that correspond to the percentiles\n",
    "mean_height = np.mean(heights_df[col_name_height]) \n",
    "std_height = np.std(heights_df[col_name_height])\n",
    "percentiles = [25, 50, 75, 90, 95, 99]\n",
    "percentiles_height = np.percentile(heights_df[col_name_height], percentiles)\n",
    "proportions_height = []\n",
    "\n",
    "for idx, percentile in enumerate(percentiles):\n",
    "    # this is where we compute the proportion of values at or below the value at the given percentile\n",
    "    proportions_height.append(stats.norm.cdf(percentiles_height[idx], mean_height, std_height))\n",
    "\n",
    "d = {}\n",
    "d['percentile'] = pd.Series(percentiles)\n",
    "d['value at percentile'] = pd.Series(percentiles_height) \n",
    "d['proportion under value'] = pd.Series(proportions_height)\n",
    "height_proportions_df = pd.DataFrame(d)\n",
    "height_proportions_df"
   ]
  },
  {
   "cell_type": "markdown",
   "metadata": {},
   "source": [
    "How would we use this in practice? If we wanted to know, what proportion of people have a height of $70$ inches or less, we could calculate the proportion of values to the left of $70$ and find that the probability, given our sample, of someone being $70$ inches or less in height is approximately $85\\%$."
   ]
  },
  {
   "cell_type": "code",
   "execution_count": 18,
   "metadata": {},
   "outputs": [
    {
     "name": "stdout",
     "output_type": "stream",
     "text": [
      "Proportion of heights up to 70 inches is: 85.44%\n"
     ]
    }
   ],
   "source": [
    "prop_height_70 = stats.norm.cdf(70.0, mean_height, std_height)\n",
    "print(f\"Proportion of heights up to 70 inches is: {prop_height_70 * 100:.2f}%\")"
   ]
  },
  {
   "cell_type": "code",
   "execution_count": 19,
   "metadata": {},
   "outputs": [
    {
     "data": {
      "text/html": [
       "<div>\n",
       "<style scoped>\n",
       "    .dataframe tbody tr th:only-of-type {\n",
       "        vertical-align: middle;\n",
       "    }\n",
       "\n",
       "    .dataframe tbody tr th {\n",
       "        vertical-align: top;\n",
       "    }\n",
       "\n",
       "    .dataframe thead th {\n",
       "        text-align: right;\n",
       "    }\n",
       "</style>\n",
       "<table border=\"1\" class=\"dataframe\">\n",
       "  <thead>\n",
       "    <tr style=\"text-align: right;\">\n",
       "      <th></th>\n",
       "      <th>percentile</th>\n",
       "      <th>value at percentile</th>\n",
       "      <th>proportion under value</th>\n",
       "    </tr>\n",
       "  </thead>\n",
       "  <tbody>\n",
       "    <tr>\n",
       "      <th>0</th>\n",
       "      <td>25</td>\n",
       "      <td>119.308675</td>\n",
       "      <td>0.252576</td>\n",
       "    </tr>\n",
       "    <tr>\n",
       "      <th>1</th>\n",
       "      <td>50</td>\n",
       "      <td>127.157750</td>\n",
       "      <td>0.502680</td>\n",
       "    </tr>\n",
       "    <tr>\n",
       "      <th>2</th>\n",
       "      <td>75</td>\n",
       "      <td>134.892850</td>\n",
       "      <td>0.748593</td>\n",
       "    </tr>\n",
       "    <tr>\n",
       "      <th>3</th>\n",
       "      <td>90</td>\n",
       "      <td>141.912090</td>\n",
       "      <td>0.898318</td>\n",
       "    </tr>\n",
       "    <tr>\n",
       "      <th>4</th>\n",
       "      <td>95</td>\n",
       "      <td>146.193805</td>\n",
       "      <td>0.949416</td>\n",
       "    </tr>\n",
       "    <tr>\n",
       "      <th>5</th>\n",
       "      <td>99</td>\n",
       "      <td>154.316722</td>\n",
       "      <td>0.990250</td>\n",
       "    </tr>\n",
       "  </tbody>\n",
       "</table>\n",
       "</div>"
      ],
      "text/plain": [
       "   percentile  value at percentile  proportion under value\n",
       "0          25           119.308675                0.252576\n",
       "1          50           127.157750                0.502680\n",
       "2          75           134.892850                0.748593\n",
       "3          90           141.912090                0.898318\n",
       "4          95           146.193805                0.949416\n",
       "5          99           154.316722                0.990250"
      ]
     },
     "execution_count": 19,
     "metadata": {},
     "output_type": "execute_result"
    }
   ],
   "source": [
    "# calculate cummulative proportions for weight values that correspond to the percentiles\n",
    "mean_weight = np.mean(heights_df[col_name_weight]) \n",
    "std_weight = np.std(heights_df[col_name_weight])\n",
    "percentiles_weight = np.percentile(heights_df[col_name_weight], percentiles)\n",
    "proportions_weight = []\n",
    "\n",
    "for idx, percentile in enumerate(percentiles):\n",
    "    # this is where we compute the proportion of values at or below the value at the given percentile\n",
    "    proportions_weight.append(stats.norm.cdf(percentiles_weight[idx], mean_weight, std_weight))\n",
    "\n",
    "d = {}\n",
    "d['percentile'] = pd.Series(percentiles)\n",
    "d['value at percentile'] = pd.Series(percentiles_weight) \n",
    "d['proportion under value'] = pd.Series(proportions_weight)\n",
    "weight_proportions_df = pd.DataFrame(d)\n",
    "weight_proportions_df"
   ]
  },
  {
   "cell_type": "markdown",
   "metadata": {},
   "source": [
    "The proportions at or below a certain value that we have just computed are the area under the curve and to the left of a given value. Given that the area under the density curve sums to $1$, we can obtain the proportion of values at or above a given value by subtracting the proportion to the left from 1."
   ]
  },
  {
   "cell_type": "code",
   "execution_count": 20,
   "metadata": {
    "scrolled": true
   },
   "outputs": [
    {
     "name": "stdout",
     "output_type": "stream",
     "text": [
      "Proportion of heights greater than 69.27 inches is: 25.05%\n"
     ]
    }
   ],
   "source": [
    "proportion_height_greater_75th = 1 - stats.norm.cdf(69.272958, mean_height, std_height)\n",
    "print(f\"Proportion of heights greater than 69.27 inches is: {proportion_height_greater_75th * 100:.2f}%\")"
   ]
  },
  {
   "cell_type": "markdown",
   "metadata": {},
   "source": [
    "Let's illustrate this with the help of density plots. The first figure colours the area under the density curve of values to the left of the $75^{th}$ percentile (the measurements with a value at or below $69.272958$) in dark red. "
   ]
  },
  {
   "cell_type": "code",
   "execution_count": 21,
   "metadata": {},
   "outputs": [
    {
     "name": "stderr",
     "output_type": "stream",
     "text": [
      "/anaconda3/envs/py362scipy/lib/python3.6/site-packages/scipy/stats/stats.py:1713: FutureWarning: Using a non-tuple sequence for multidimensional indexing is deprecated; use `arr[tuple(seq)]` instead of `arr[seq]`. In the future this will be interpreted as an array index, `arr[np.array(seq)]`, which will result either in an error or a different result.\n",
      "  return np.add.reduce(sorted[indexer] * weights, axis=axis) / sumval\n"
     ]
    },
    {
     "data": {
      "text/plain": [
       "<matplotlib.collections.PolyCollection at 0x1a1ee3fd30>"
      ]
     },
     "execution_count": 21,
     "metadata": {},
     "output_type": "execute_result"
    },
    {
     "data": {
      "image/png": "[encoded data removed]",
      "text/plain": [
       "<Figure size 432x288 with 1 Axes>"
      ]
     },
     "metadata": {
      "needs_background": "light"
     },
     "output_type": "display_data"
    }
   ],
   "source": [
    "points = sns.kdeplot(heights_df[col_name_height], shade=True).get_lines()[0].get_data()\n",
    "x = points[0]\n",
    "y = points[1]\n",
    "plt.fill_between(x, y, where = x <= 69.272958, color='#B22222')"
   ]
  },
  {
   "cell_type": "markdown",
   "metadata": {},
   "source": [
    "The next figure highlights the area under the density curve that represents the proportion of measurements whose values are at or above (to the right) of the value at the $75^{th}$ percentile."
   ]
  },
  {
   "cell_type": "code",
   "execution_count": 22,
   "metadata": {},
   "outputs": [
    {
     "data": {
      "text/plain": [
       "<matplotlib.collections.PolyCollection at 0x1a1fe19630>"
      ]
     },
     "execution_count": 22,
     "metadata": {},
     "output_type": "execute_result"
    },
    {
     "data": {
      "image/png": "[encoded data removed]",
      "text/plain": [
       "<Figure size 432x288 with 1 Axes>"
      ]
     },
     "metadata": {
      "needs_background": "light"
     },
     "output_type": "display_data"
    }
   ],
   "source": [
    "points = sns.kdeplot(heights_df[col_name_height], shade=True).get_lines()[0].get_data()\n",
    "x = points[0]\n",
    "y = points[1]\n",
    "plt.fill_between(x, y, where = x >= 69.272958, color='#B22222')"
   ]
  },
  {
   "cell_type": "markdown",
   "metadata": {},
   "source": [
    "Finally, two compute the proportion of measurements whose value falls between two values, we subtract the area under the curve of the smaller of the two values from the area of the larger value. This represents the remaining area as illustrated below. What is the proportion of measurements whose values lie between the $75^{th}$ and the $90^{th}$ percentile?"
   ]
  },
  {
   "cell_type": "code",
   "execution_count": 23,
   "metadata": {},
   "outputs": [
    {
     "name": "stdout",
     "output_type": "stream",
     "text": [
      "Proportion of heights up to 69.2729575 inches is: 74.95%\n",
      "Proportion of heights up to 70.445094 inches is: 90.14%\n",
      "Proportion of heights between 69.2729575 and 70.445094 is: 15.18%.\n"
     ]
    },
    {
     "data": {
      "text/plain": [
       "<matplotlib.collections.PolyCollection at 0x1a2003f8d0>"
      ]
     },
     "execution_count": 23,
     "metadata": {},
     "output_type": "execute_result"
    },
    {
     "data": {
      "image/png": "[encoded data removed]",
      "text/plain": [
       "<Figure size 432x288 with 1 Axes>"
      ]
     },
     "metadata": {
      "needs_background": "light"
     },
     "output_type": "display_data"
    }
   ],
   "source": [
    "height_75th = np.percentile(heights_df[col_name_height], [75])\n",
    "proportion_heights_75th = stats.norm.cdf(height_75th[0], mean_height, std_height)\n",
    "print(f\"Proportion of heights up to {height_75th[0]} inches is: {proportion_heights_75th * 100:.2f}%\")\n",
    "\n",
    "height_90th = np.percentile(heights_df[col_name_height], [90])\n",
    "proportion_heights_90th = stats.norm.cdf(height_90th[0], mean_height, std_height)\n",
    "print(f\"Proportion of heights up to {height_90th[0]} inches is: {proportion_heights_90th * 100:.2f}%\")\n",
    "\n",
    "print(f\"Proportion of heights between {height_75th[0]} and {height_90th[0]} is: {(proportion_heights_90th - proportion_heights_75th) * 100:.2f}%.\")\n",
    "\n",
    "points = sns.kdeplot(heights_df[col_name_height], shade=True).get_lines()[0].get_data()\n",
    "x = points[0]\n",
    "y = points[1]\n",
    "plt.fill_between(x, y, where = (x >= height_75th[0]) & (x <= height_90th[0]), color='#B22222')"
   ]
  },
  {
   "cell_type": "markdown",
   "metadata": {},
   "source": [
    "I am always pleasantly suprised by how easy it is to get things done using Pandas and friends."
   ]
  },
  {
   "cell_type": "markdown",
   "metadata": {},
   "source": [
    "## A few other common distributions\n",
    "\n",
    "Mainly from [Probability Distributions in Python](https://www.datacamp.com/community/tutorials/probability-distributions-python)."
   ]
  },
  {
   "cell_type": "markdown",
   "metadata": {},
   "source": [
    "### Uniform distribution\n",
    "\n",
    "A distribution over several equally likely outcomes. For example, the values of 1 to 6 when rolling a fair die with these values.\n",
    "\n",
    "Defined by two parameters that specify the start and end values to use for this uniform distribution (i.e. `loc` and `scale`). The distribution is constant between `loc` and `loc + scale`."
   ]
  },
  {
   "cell_type": "code",
   "execution_count": 24,
   "metadata": {},
   "outputs": [
    {
     "data": {
      "text/plain": [
       "[Text(0, 0.5, 'Frequency'), Text(0.5, 0, 'Uniform Distribution ')]"
      ]
     },
     "execution_count": 24,
     "metadata": {},
     "output_type": "execute_result"
    },
    {
     "data": {
      "image/png": "[encoded data removed]",
      "text/plain": [
       "<Figure size 432x288 with 1 Axes>"
      ]
     },
     "metadata": {
      "needs_background": "light"
     },
     "output_type": "display_data"
    }
   ],
   "source": [
    "n = 10000\n",
    "start = 0\n",
    "end = 10\n",
    "data_uniform = stats.uniform.rvs(size=n, loc=start, scale=end)\n",
    "ax = sns.distplot(data_uniform,\n",
    "                  bins=100,\n",
    "                  kde=True,\n",
    "                  color='royalblue',\n",
    "                  hist_kws={\"linewidth\": 10,'alpha': 0.50})\n",
    "ax.set(xlabel='Uniform Distribution ', ylabel='Frequency')"
   ]
  },
  {
   "cell_type": "markdown",
   "metadata": {},
   "source": [
    "### Gamma distribution\n",
    "\n",
    "[Applications of the Gamma distribution](https://en.wikipedia.org/wiki/Gamma_distribution#Applications).\n",
    "\n",
    "Can have different pairs of parameters according to its application. For example,\n",
    "* shape parameter, $a = k$, and scale parameter, $\\Theta$ to model waiting times;\n",
    "* shape parameter, $k$, and rate parameter, $\\beta = \\frac{1}{\\Theta}$ used in Bayesian staistics; and\n",
    "* shape parameter, $k$, and mean parameter, $\\mu = k\\Theta =  \\frac{a}{\\beta}$."
   ]
  },
  {
   "cell_type": "code",
   "execution_count": 25,
   "metadata": {},
   "outputs": [
    {
     "data": {
      "text/plain": [
       "[Text(0, 0.5, 'Frequency'), Text(0.5, 0, 'Gamma Distribution ')]"
      ]
     },
     "execution_count": 25,
     "metadata": {},
     "output_type": "execute_result"
    },
    {
     "data": {
      "image/png": "[encoded data removed]",
      "text/plain": [
       "<Figure size 432x288 with 1 Axes>"
      ]
     },
     "metadata": {
      "needs_background": "light"
     },
     "output_type": "display_data"
    }
   ],
   "source": [
    "data_gamma = stats.gamma.rvs(a=5, size=n)\n",
    "ax = sns.distplot(data_gamma,\n",
    "                  bins=100,\n",
    "                  kde=True,\n",
    "                  color='royalblue',\n",
    "                  hist_kws={\"linewidth\": 10,'alpha': 0.50})\n",
    "ax.set(xlabel='Gamma Distribution ', ylabel='Frequency')"
   ]
  },
  {
   "cell_type": "markdown",
   "metadata": {},
   "source": [
    "### Exponential distribution\n",
    "\n",
    "How long until an event (e.g., customer calling, memory corruption, earthquake)?\n",
    "\n",
    "The Exponential distribution is characterised by the rate parameter, $\\lambda$."
   ]
  },
  {
   "cell_type": "code",
   "execution_count": 26,
   "metadata": {},
   "outputs": [
    {
     "data": {
      "text/plain": [
       "[Text(0, 0.5, 'Frequency'), Text(0.5, 0, 'Exponential Distribution ')]"
      ]
     },
     "execution_count": 26,
     "metadata": {},
     "output_type": "execute_result"
    },
    {
     "data": {
      "image/png": "[encoded data removed]",
      "text/plain": [
       "<Figure size 432x288 with 1 Axes>"
      ]
     },
     "metadata": {
      "needs_background": "light"
     },
     "output_type": "display_data"
    }
   ],
   "source": [
    "data_exponential = stats.expon.rvs(scale=1, loc=0, size=n)\n",
    "ax = sns.distplot(data_exponential,\n",
    "                  bins=100,\n",
    "                  kde=True,\n",
    "                  color='royalblue',\n",
    "                  hist_kws={\"linewidth\": 10,'alpha': 0.50})\n",
    "ax.set(xlabel='Exponential Distribution ', ylabel='Frequency')"
   ]
  },
  {
   "cell_type": "markdown",
   "metadata": {},
   "source": [
    "### Poisson distribution\n",
    "\n",
    "How many events per time interval (e.g., number of customers that called the call centre)?\n",
    "\n",
    "Characterised by the event rate parameter, $\\lambda$ (the average number of events in an interval)."
   ]
  },
  {
   "cell_type": "code",
   "execution_count": 27,
   "metadata": {},
   "outputs": [
    {
     "data": {
      "text/plain": [
       "[Text(0, 0.5, 'Frequency'), Text(0.5, 0, 'Poisson Distribution ')]"
      ]
     },
     "execution_count": 27,
     "metadata": {},
     "output_type": "execute_result"
    },
    {
     "data": {
      "image/png": "[encoded data removed]",
      "text/plain": [
       "<Figure size 432x288 with 1 Axes>"
      ]
     },
     "metadata": {
      "needs_background": "light"
     },
     "output_type": "display_data"
    }
   ],
   "source": [
    "data_poisson = stats.poisson.rvs(mu=2, size=10000)\n",
    "ax = sns.distplot(data_poisson,\n",
    "                  bins=20,\n",
    "                  kde=True,\n",
    "                  color='royalblue',\n",
    "                  hist_kws={\"linewidth\": 10,'alpha': 0.50})\n",
    "ax.set(xlabel='Poisson Distribution ', ylabel='Frequency')"
   ]
  },
  {
   "cell_type": "markdown",
   "metadata": {},
   "source": [
    "*The End*"
   ]
  },
  {
   "cell_type": "code",
   "execution_count": null,
   "metadata": {},
   "outputs": [],
   "source": []
  }
 ],
 "metadata": {
  "kernelspec": {
   "display_name": "Python 3",
   "language": "python",
   "name": "python3"
  },
  "language_info": {
   "codemirror_mode": {
    "name": "ipython",
    "version": 3
   },
   "file_extension": ".py",
   "mimetype": "text/x-python",
   "name": "python",
   "nbconvert_exporter": "python",
   "pygments_lexer": "ipython3",
   "version": "3.6.2"
  }
 },
 "nbformat": 4,
 "nbformat_minor": 2
}
